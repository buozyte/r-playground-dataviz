{
 "cells": [
  {
   "cell_type": "markdown",
   "id": "6cfbfb8a",
   "metadata": {},
   "source": [
    "# Section 1 - R Basics"
   ]
  },
  {
   "cell_type": "markdown",
   "id": "27805470",
   "metadata": {},
   "source": [
    "## First Steps in R - Some Basics"
   ]
  },
  {
   "cell_type": "markdown",
   "id": "49223b0a",
   "metadata": {},
   "source": [
    "### 1. Objects\n",
    "\n",
    "Objects are \"things\" stored in R, e.g. variables.\n",
    "\n",
    "Conventions regarding the variable names: start with letter, no spaces, only lower case, underscores. Should not be predefined variables in R."
   ]
  },
  {
   "cell_type": "code",
   "execution_count": 1,
   "id": "d356ba42",
   "metadata": {},
   "outputs": [],
   "source": [
    "# assign values to variables\n",
    "a <- 1     # standard: assignments via \"<-\"\n",
    "b = 1      # \"=\" works too, but should be avoided\n",
    "c <- -1"
   ]
  },
  {
   "cell_type": "code",
   "execution_count": 2,
   "id": "63902328",
   "metadata": {},
   "outputs": [
    {
     "name": "stdout",
     "output_type": "stream",
     "text": [
      "[1] 1\n"
     ]
    },
    {
     "data": {
      "text/html": [
       "1"
      ],
      "text/latex": [
       "1"
      ],
      "text/markdown": [
       "1"
      ],
      "text/plain": [
       "[1] 1"
      ]
     },
     "metadata": {},
     "output_type": "display_data"
    },
    {
     "data": {
      "text/html": [
       "-1"
      ],
      "text/latex": [
       "-1"
      ],
      "text/markdown": [
       "-1"
      ],
      "text/plain": [
       "[1] -1"
      ]
     },
     "metadata": {},
     "output_type": "display_data"
    }
   ],
   "source": [
    "# print value of a variable\n",
    "print(a)   # more explicit than the following two\n",
    "b\n",
    "c"
   ]
  },
  {
   "cell_type": "markdown",
   "id": "3c2e66fb",
   "metadata": {},
   "source": [
    "### 2. Workspace\n",
    "\n",
    "Set of all currently defined variables and functions. These symbols can be used in the terminal.\n",
    "\n",
    "In RStudio: see `Enviroment` tab."
   ]
  },
  {
   "cell_type": "code",
   "execution_count": 3,
   "id": "e5282aa9",
   "metadata": {},
   "outputs": [
    {
     "data": {
      "text/html": [
       "<ol class=list-inline>\n",
       "\t<li>'a'</li>\n",
       "\t<li>'b'</li>\n",
       "\t<li>'c'</li>\n",
       "</ol>\n"
      ],
      "text/latex": [
       "\\begin{enumerate*}\n",
       "\\item 'a'\n",
       "\\item 'b'\n",
       "\\item 'c'\n",
       "\\end{enumerate*}\n"
      ],
      "text/markdown": [
       "1. 'a'\n",
       "2. 'b'\n",
       "3. 'c'\n",
       "\n",
       "\n"
      ],
      "text/plain": [
       "[1] \"a\" \"b\" \"c\""
      ]
     },
     "metadata": {},
     "output_type": "display_data"
    }
   ],
   "source": [
    "# print all symbols in the workspace\n",
    "ls()"
   ]
  },
  {
   "cell_type": "markdown",
   "id": "0b155dc5",
   "metadata": {},
   "source": [
    "### 3. Functions\n",
    "\n",
    "Functions often use parantheses for evaluation but some functions can be evaluated without parantheses.\n",
    "\n",
    "Functions migth have neccessary and optional arguments. If an argument in a function is specifified, one must use `=`, not `<-`.\n",
    "\n",
    "These function names should not be used to define other objects."
   ]
  },
  {
   "cell_type": "code",
   "execution_count": 4,
   "id": "95f43adb",
   "metadata": {},
   "outputs": [
    {
     "name": "stdout",
     "output_type": "stream",
     "text": [
      "[1] \"Hi!\"\n"
     ]
    },
    {
     "data": {
      "text/html": [
       "<ol class=list-inline>\n",
       "\t<li>'a'</li>\n",
       "\t<li>'b'</li>\n",
       "\t<li>'c'</li>\n",
       "</ol>\n"
      ],
      "text/latex": [
       "\\begin{enumerate*}\n",
       "\\item 'a'\n",
       "\\item 'b'\n",
       "\\item 'c'\n",
       "\\end{enumerate*}\n"
      ],
      "text/markdown": [
       "1. 'a'\n",
       "2. 'b'\n",
       "3. 'c'\n",
       "\n",
       "\n"
      ],
      "text/plain": [
       "[1] \"a\" \"b\" \"c\""
      ]
     },
     "metadata": {},
     "output_type": "display_data"
    },
    {
     "data": {
      "text/html": [
       "2"
      ],
      "text/latex": [
       "2"
      ],
      "text/markdown": [
       "2"
      ],
      "text/plain": [
       "[1] 2"
      ]
     },
     "metadata": {},
     "output_type": "display_data"
    }
   ],
   "source": [
    "# some functions with parantheses\n",
    "print(\"Hi!\")\n",
    "ls()\n",
    "sqrt(4)"
   ]
  },
  {
   "cell_type": "code",
   "execution_count": 5,
   "id": "c50b13d8",
   "metadata": {},
   "outputs": [
    {
     "data": {
      "text/html": [
       "8"
      ],
      "text/latex": [
       "8"
      ],
      "text/markdown": [
       "8"
      ],
      "text/plain": [
       "[1] 8"
      ]
     },
     "metadata": {},
     "output_type": "display_data"
    },
    {
     "data": {
      "text/html": [
       "5"
      ],
      "text/latex": [
       "5"
      ],
      "text/markdown": [
       "5"
      ],
      "text/plain": [
       "[1] 5"
      ]
     },
     "metadata": {},
     "output_type": "display_data"
    },
    {
     "data": {
      "text/html": [
       "FALSE"
      ],
      "text/latex": [
       "FALSE"
      ],
      "text/markdown": [
       "FALSE"
      ],
      "text/plain": [
       "[1] FALSE"
      ]
     },
     "metadata": {},
     "output_type": "display_data"
    }
   ],
   "source": [
    "# some functions without parantheses\n",
    "2 ^ 3\n",
    "2 + 3\n",
    "2 > 3"
   ]
  },
  {
   "cell_type": "code",
   "execution_count": 6,
   "id": "ffcff2e7",
   "metadata": {},
   "outputs": [
    {
     "data": {
      "text/html": [
       "<pre class=language-r><code>function (x, base = exp(1)) \n",
       "NULL</code></pre>"
      ],
      "text/latex": [
       "\\begin{minted}{r}\n",
       "function (x, base = exp(1)) \n",
       "NULL\n",
       "\\end{minted}"
      ],
      "text/markdown": [
       "```r\n",
       "function (x, base = exp(1)) \n",
       "NULL\n",
       "```"
      ],
      "text/plain": [
       "function (x, base = exp(1)) \n",
       "NULL"
      ]
     },
     "metadata": {},
     "output_type": "display_data"
    }
   ],
   "source": [
    "# how to determine which arguments a function needs and which might be optional\n",
    "args(log)              # the argument `base` is optional, `x` is necessary"
   ]
  },
  {
   "cell_type": "code",
   "execution_count": 7,
   "id": "128a816f",
   "metadata": {},
   "outputs": [
    {
     "data": {
      "text/html": [
       "2.07944154167984"
      ],
      "text/latex": [
       "2.07944154167984"
      ],
      "text/markdown": [
       "2.07944154167984"
      ],
      "text/plain": [
       "[1] 2.079442"
      ]
     },
     "metadata": {},
     "output_type": "display_data"
    },
    {
     "data": {
      "text/html": [
       "2.07944154167984"
      ],
      "text/latex": [
       "2.07944154167984"
      ],
      "text/markdown": [
       "2.07944154167984"
      ],
      "text/plain": [
       "[1] 2.079442"
      ]
     },
     "metadata": {},
     "output_type": "display_data"
    },
    {
     "data": {
      "text/html": [
       "3"
      ],
      "text/latex": [
       "3"
      ],
      "text/markdown": [
       "3"
      ],
      "text/plain": [
       "[1] 3"
      ]
     },
     "metadata": {},
     "output_type": "display_data"
    },
    {
     "data": {
      "text/html": [
       "3"
      ],
      "text/latex": [
       "3"
      ],
      "text/markdown": [
       "3"
      ],
      "text/plain": [
       "[1] 3"
      ]
     },
     "metadata": {},
     "output_type": "display_data"
    },
    {
     "data": {
      "text/html": [
       "3"
      ],
      "text/latex": [
       "3"
      ],
      "text/markdown": [
       "3"
      ],
      "text/plain": [
       "[1] 3"
      ]
     },
     "metadata": {},
     "output_type": "display_data"
    }
   ],
   "source": [
    "# different ways to execute `log` with different arguments\n",
    "log(8)                 # implicitly setting `x=8`\n",
    "log(x = 8)             # setting and specifying `x` (alternative)\n",
    "\n",
    "log(8, base = 2)       # setting both arguments but specifying the optional one\n",
    "log(base = 2, x = 8)   # specifying all arguments allows to change the input order of the arguments (alternative)\n",
    "log(8, 2)              # implicitly setting `x=8` and `base=2` (alternative)"
   ]
  },
  {
   "cell_type": "code",
   "execution_count": 8,
   "id": "479b1a37",
   "metadata": {},
   "outputs": [],
   "source": [
    "# get more information about a function\n",
    "help(log)\n",
    "?log\n",
    "\n",
    "# see all arithmetic operators\n",
    "?\"+\"\n",
    "\n",
    "# see all relational operators\n",
    "?\">\"\n",
    "\n",
    "# see all logical operators\n",
    "?Comparison"
   ]
  },
  {
   "cell_type": "markdown",
   "id": "23079b9d",
   "metadata": {},
   "source": [
    "### 4. Prebuild Objects\n",
    "\n",
    "R includes some prebuild datasets and mathematical quantities. These object names should not be used to define othe objects."
   ]
  },
  {
   "cell_type": "code",
   "execution_count": 9,
   "id": "259c8c31",
   "metadata": {},
   "outputs": [
    {
     "data": {
      "text/html": [
       "3.14159265358979"
      ],
      "text/latex": [
       "3.14159265358979"
      ],
      "text/markdown": [
       "3.14159265358979"
      ],
      "text/plain": [
       "[1] 3.141593"
      ]
     },
     "metadata": {},
     "output_type": "display_data"
    },
    {
     "data": {
      "text/html": [
       "Inf"
      ],
      "text/latex": [
       "Inf"
      ],
      "text/markdown": [
       "Inf"
      ],
      "text/plain": [
       "[1] Inf"
      ]
     },
     "metadata": {},
     "output_type": "display_data"
    },
    {
     "data": {
      "text/html": [
       "<table>\n",
       "<thead><tr><th scope=col>speed</th><th scope=col>dist</th></tr></thead>\n",
       "<tbody>\n",
       "\t<tr><td> 4 </td><td>  2</td></tr>\n",
       "\t<tr><td> 4 </td><td> 10</td></tr>\n",
       "\t<tr><td> 7 </td><td>  4</td></tr>\n",
       "\t<tr><td> 7 </td><td> 22</td></tr>\n",
       "\t<tr><td> 8 </td><td> 16</td></tr>\n",
       "\t<tr><td> 9 </td><td> 10</td></tr>\n",
       "\t<tr><td>10 </td><td> 18</td></tr>\n",
       "\t<tr><td>10 </td><td> 26</td></tr>\n",
       "\t<tr><td>10 </td><td> 34</td></tr>\n",
       "\t<tr><td>11 </td><td> 17</td></tr>\n",
       "\t<tr><td>11 </td><td> 28</td></tr>\n",
       "\t<tr><td>12 </td><td> 14</td></tr>\n",
       "\t<tr><td>12 </td><td> 20</td></tr>\n",
       "\t<tr><td>12 </td><td> 24</td></tr>\n",
       "\t<tr><td>12 </td><td> 28</td></tr>\n",
       "\t<tr><td>13 </td><td> 26</td></tr>\n",
       "\t<tr><td>13 </td><td> 34</td></tr>\n",
       "\t<tr><td>13 </td><td> 34</td></tr>\n",
       "\t<tr><td>13 </td><td> 46</td></tr>\n",
       "\t<tr><td>14 </td><td> 26</td></tr>\n",
       "\t<tr><td>14 </td><td> 36</td></tr>\n",
       "\t<tr><td>14 </td><td> 60</td></tr>\n",
       "\t<tr><td>14 </td><td> 80</td></tr>\n",
       "\t<tr><td>15 </td><td> 20</td></tr>\n",
       "\t<tr><td>15 </td><td> 26</td></tr>\n",
       "\t<tr><td>15 </td><td> 54</td></tr>\n",
       "\t<tr><td>16 </td><td> 32</td></tr>\n",
       "\t<tr><td>16 </td><td> 40</td></tr>\n",
       "\t<tr><td>17 </td><td> 32</td></tr>\n",
       "\t<tr><td>17 </td><td> 40</td></tr>\n",
       "\t<tr><td>17 </td><td> 50</td></tr>\n",
       "\t<tr><td>18 </td><td> 42</td></tr>\n",
       "\t<tr><td>18 </td><td> 56</td></tr>\n",
       "\t<tr><td>18 </td><td> 76</td></tr>\n",
       "\t<tr><td>18 </td><td> 84</td></tr>\n",
       "\t<tr><td>19 </td><td> 36</td></tr>\n",
       "\t<tr><td>19 </td><td> 46</td></tr>\n",
       "\t<tr><td>19 </td><td> 68</td></tr>\n",
       "\t<tr><td>20 </td><td> 32</td></tr>\n",
       "\t<tr><td>20 </td><td> 48</td></tr>\n",
       "\t<tr><td>20 </td><td> 52</td></tr>\n",
       "\t<tr><td>20 </td><td> 56</td></tr>\n",
       "\t<tr><td>20 </td><td> 64</td></tr>\n",
       "\t<tr><td>22 </td><td> 66</td></tr>\n",
       "\t<tr><td>23 </td><td> 54</td></tr>\n",
       "\t<tr><td>24 </td><td> 70</td></tr>\n",
       "\t<tr><td>24 </td><td> 92</td></tr>\n",
       "\t<tr><td>24 </td><td> 93</td></tr>\n",
       "\t<tr><td>24 </td><td>120</td></tr>\n",
       "\t<tr><td>25 </td><td> 85</td></tr>\n",
       "</tbody>\n",
       "</table>\n"
      ],
      "text/latex": [
       "\\begin{tabular}{r|ll}\n",
       " speed & dist\\\\\n",
       "\\hline\n",
       "\t  4  &   2\\\\\n",
       "\t  4  &  10\\\\\n",
       "\t  7  &   4\\\\\n",
       "\t  7  &  22\\\\\n",
       "\t  8  &  16\\\\\n",
       "\t  9  &  10\\\\\n",
       "\t 10  &  18\\\\\n",
       "\t 10  &  26\\\\\n",
       "\t 10  &  34\\\\\n",
       "\t 11  &  17\\\\\n",
       "\t 11  &  28\\\\\n",
       "\t 12  &  14\\\\\n",
       "\t 12  &  20\\\\\n",
       "\t 12  &  24\\\\\n",
       "\t 12  &  28\\\\\n",
       "\t 13  &  26\\\\\n",
       "\t 13  &  34\\\\\n",
       "\t 13  &  34\\\\\n",
       "\t 13  &  46\\\\\n",
       "\t 14  &  26\\\\\n",
       "\t 14  &  36\\\\\n",
       "\t 14  &  60\\\\\n",
       "\t 14  &  80\\\\\n",
       "\t 15  &  20\\\\\n",
       "\t 15  &  26\\\\\n",
       "\t 15  &  54\\\\\n",
       "\t 16  &  32\\\\\n",
       "\t 16  &  40\\\\\n",
       "\t 17  &  32\\\\\n",
       "\t 17  &  40\\\\\n",
       "\t 17  &  50\\\\\n",
       "\t 18  &  42\\\\\n",
       "\t 18  &  56\\\\\n",
       "\t 18  &  76\\\\\n",
       "\t 18  &  84\\\\\n",
       "\t 19  &  36\\\\\n",
       "\t 19  &  46\\\\\n",
       "\t 19  &  68\\\\\n",
       "\t 20  &  32\\\\\n",
       "\t 20  &  48\\\\\n",
       "\t 20  &  52\\\\\n",
       "\t 20  &  56\\\\\n",
       "\t 20  &  64\\\\\n",
       "\t 22  &  66\\\\\n",
       "\t 23  &  54\\\\\n",
       "\t 24  &  70\\\\\n",
       "\t 24  &  92\\\\\n",
       "\t 24  &  93\\\\\n",
       "\t 24  & 120\\\\\n",
       "\t 25  &  85\\\\\n",
       "\\end{tabular}\n"
      ],
      "text/markdown": [
       "\n",
       "| speed | dist |\n",
       "|---|---|\n",
       "|  4  |   2 |\n",
       "|  4  |  10 |\n",
       "|  7  |   4 |\n",
       "|  7  |  22 |\n",
       "|  8  |  16 |\n",
       "|  9  |  10 |\n",
       "| 10  |  18 |\n",
       "| 10  |  26 |\n",
       "| 10  |  34 |\n",
       "| 11  |  17 |\n",
       "| 11  |  28 |\n",
       "| 12  |  14 |\n",
       "| 12  |  20 |\n",
       "| 12  |  24 |\n",
       "| 12  |  28 |\n",
       "| 13  |  26 |\n",
       "| 13  |  34 |\n",
       "| 13  |  34 |\n",
       "| 13  |  46 |\n",
       "| 14  |  26 |\n",
       "| 14  |  36 |\n",
       "| 14  |  60 |\n",
       "| 14  |  80 |\n",
       "| 15  |  20 |\n",
       "| 15  |  26 |\n",
       "| 15  |  54 |\n",
       "| 16  |  32 |\n",
       "| 16  |  40 |\n",
       "| 17  |  32 |\n",
       "| 17  |  40 |\n",
       "| 17  |  50 |\n",
       "| 18  |  42 |\n",
       "| 18  |  56 |\n",
       "| 18  |  76 |\n",
       "| 18  |  84 |\n",
       "| 19  |  36 |\n",
       "| 19  |  46 |\n",
       "| 19  |  68 |\n",
       "| 20  |  32 |\n",
       "| 20  |  48 |\n",
       "| 20  |  52 |\n",
       "| 20  |  56 |\n",
       "| 20  |  64 |\n",
       "| 22  |  66 |\n",
       "| 23  |  54 |\n",
       "| 24  |  70 |\n",
       "| 24  |  92 |\n",
       "| 24  |  93 |\n",
       "| 24  | 120 |\n",
       "| 25  |  85 |\n",
       "\n"
      ],
      "text/plain": [
       "   speed dist\n",
       "1   4      2 \n",
       "2   4     10 \n",
       "3   7      4 \n",
       "4   7     22 \n",
       "5   8     16 \n",
       "6   9     10 \n",
       "7  10     18 \n",
       "8  10     26 \n",
       "9  10     34 \n",
       "10 11     17 \n",
       "11 11     28 \n",
       "12 12     14 \n",
       "13 12     20 \n",
       "14 12     24 \n",
       "15 12     28 \n",
       "16 13     26 \n",
       "17 13     34 \n",
       "18 13     34 \n",
       "19 13     46 \n",
       "20 14     26 \n",
       "21 14     36 \n",
       "22 14     60 \n",
       "23 14     80 \n",
       "24 15     20 \n",
       "25 15     26 \n",
       "26 15     54 \n",
       "27 16     32 \n",
       "28 16     40 \n",
       "29 17     32 \n",
       "30 17     40 \n",
       "31 17     50 \n",
       "32 18     42 \n",
       "33 18     56 \n",
       "34 18     76 \n",
       "35 18     84 \n",
       "36 19     36 \n",
       "37 19     46 \n",
       "38 19     68 \n",
       "39 20     32 \n",
       "40 20     48 \n",
       "41 20     52 \n",
       "42 20     56 \n",
       "43 20     64 \n",
       "44 22     66 \n",
       "45 23     54 \n",
       "46 24     70 \n",
       "47 24     92 \n",
       "48 24     93 \n",
       "49 24    120 \n",
       "50 25     85 "
      ]
     },
     "metadata": {},
     "output_type": "display_data"
    }
   ],
   "source": [
    "# some examples\n",
    "pi       # pi\n",
    "Inf+1    # infinity\n",
    "\n",
    "cars     # a data set\n",
    "\n",
    "data()   # all available data sets"
   ]
  },
  {
   "cell_type": "markdown",
   "id": "bbc7eacc",
   "metadata": {},
   "source": [
    "### 5. Packages"
   ]
  },
  {
   "cell_type": "code",
   "execution_count": 10,
   "id": "5ded2b22",
   "metadata": {},
   "outputs": [
    {
     "name": "stderr",
     "output_type": "stream",
     "text": [
      "Loading required package: permute\n",
      "Loading required package: lattice\n",
      "This is vegan 2.5-7\n",
      "starting httpd help server ... done\n"
     ]
    }
   ],
   "source": [
    "# how to install and import a package\n",
    "# install.packages(\"vegan\")    # install new package -> DO IT ONLY ONCE!\n",
    "library(vegan)                 # import/load the package -> in every script\n",
    "browseVignettes(\"vegan\")       # learn more about a package (not available for all packages)"
   ]
  },
  {
   "cell_type": "code",
   "execution_count": 11,
   "id": "00178ad5",
   "metadata": {},
   "outputs": [],
   "source": [
    "# --------------------"
   ]
  },
  {
   "cell_type": "markdown",
   "id": "a8c8ce31",
   "metadata": {},
   "source": [
    "## Data Types"
   ]
  },
  {
   "cell_type": "code",
   "execution_count": 12,
   "id": "527f97c4",
   "metadata": {},
   "outputs": [
    {
     "data": {
      "text/html": [
       "'numeric'"
      ],
      "text/latex": [
       "'numeric'"
      ],
      "text/markdown": [
       "'numeric'"
      ],
      "text/plain": [
       "[1] \"numeric\""
      ]
     },
     "metadata": {},
     "output_type": "display_data"
    },
    {
     "data": {
      "text/html": [
       "'character'"
      ],
      "text/latex": [
       "'character'"
      ],
      "text/markdown": [
       "'character'"
      ],
      "text/plain": [
       "[1] \"character\""
      ]
     },
     "metadata": {},
     "output_type": "display_data"
    }
   ],
   "source": [
    "# how to determine the type of an object\n",
    "class(1)\n",
    "class(\"Hi!\")\n",
    "\n",
    "# advanced: change class via e.g. `as.integer()` or by adding an `L` (1 -> 1L)"
   ]
  },
  {
   "cell_type": "markdown",
   "id": "a3d13e9d",
   "metadata": {},
   "source": [
    "### 1. Data Frames\n",
    "\n",
    "Tables with rows (obvervations) and columns (variables). Can combine different data types into one object, but one column should (but doesn't have to) consist of one data type."
   ]
  },
  {
   "cell_type": "code",
   "execution_count": 13,
   "id": "769c3df5",
   "metadata": {},
   "outputs": [
    {
     "name": "stderr",
     "output_type": "stream",
     "text": [
      "Warning message:\n",
      "“unable to access index for repository https://cran.r-project.org/src/contrib:\n",
      "  kann URL 'https://cran.r-project.org/src/contrib/PACKAGES' nicht öffnen”Warning message:\n",
      "“package ‘dslabs’ is not available (for R version 3.6.1)”"
     ]
    }
   ],
   "source": [
    "# examples for (prebuild) data frames\n",
    "install.packages(\"dslabs\")\n",
    "library(dslabs)\n",
    "\n",
    "data(murders)     # load the `murders` data set"
   ]
  },
  {
   "cell_type": "markdown",
   "id": "dcba2d38",
   "metadata": {},
   "source": [
    "### 2. Examining an Object\n",
    "\n",
    "There are different ways to find out more about a specific object, e.g. get information about the structure or the first elements."
   ]
  },
  {
   "cell_type": "code",
   "execution_count": 14,
   "id": "052df051",
   "metadata": {},
   "outputs": [
    {
     "name": "stdout",
     "output_type": "stream",
     "text": [
      " num 1\n",
      "'data.frame':\t51 obs. of  5 variables:\n",
      " $ state     : chr  \"Alabama\" \"Alaska\" \"Arizona\" \"Arkansas\" ...\n",
      " $ abb       : chr  \"AL\" \"AK\" \"AZ\" \"AR\" ...\n",
      " $ region    : Factor w/ 4 levels \"Northeast\",\"South\",..: 2 4 4 2 4 4 1 2 2 2 ...\n",
      " $ population: num  4779736 710231 6392017 2915918 37253956 ...\n",
      " $ total     : num  135 19 232 93 1257 ...\n"
     ]
    }
   ],
   "source": [
    "# find out about the structure of an object\n",
    "str(1)\n",
    "str(murders)     # number of rows and columns, type of objects in the 5 columns, ..."
   ]
  },
  {
   "cell_type": "code",
   "execution_count": 15,
   "id": "5f7e6a35",
   "metadata": {},
   "outputs": [
    {
     "data": {
      "text/html": [
       "<table>\n",
       "<thead><tr><th scope=col>state</th><th scope=col>abb</th><th scope=col>region</th><th scope=col>population</th><th scope=col>total</th></tr></thead>\n",
       "<tbody>\n",
       "\t<tr><td>Alabama   </td><td>AL        </td><td>South     </td><td> 4779736  </td><td> 135      </td></tr>\n",
       "\t<tr><td>Alaska    </td><td>AK        </td><td>West      </td><td>  710231  </td><td>  19      </td></tr>\n",
       "\t<tr><td>Arizona   </td><td>AZ        </td><td>West      </td><td> 6392017  </td><td> 232      </td></tr>\n",
       "\t<tr><td>Arkansas  </td><td>AR        </td><td>South     </td><td> 2915918  </td><td>  93      </td></tr>\n",
       "\t<tr><td>California</td><td>CA        </td><td>West      </td><td>37253956  </td><td>1257      </td></tr>\n",
       "\t<tr><td>Colorado  </td><td>CO        </td><td>West      </td><td> 5029196  </td><td>  65      </td></tr>\n",
       "</tbody>\n",
       "</table>\n"
      ],
      "text/latex": [
       "\\begin{tabular}{r|lllll}\n",
       " state & abb & region & population & total\\\\\n",
       "\\hline\n",
       "\t Alabama    & AL         & South      &  4779736   &  135      \\\\\n",
       "\t Alaska     & AK         & West       &   710231   &   19      \\\\\n",
       "\t Arizona    & AZ         & West       &  6392017   &  232      \\\\\n",
       "\t Arkansas   & AR         & South      &  2915918   &   93      \\\\\n",
       "\t California & CA         & West       & 37253956   & 1257      \\\\\n",
       "\t Colorado   & CO         & West       &  5029196   &   65      \\\\\n",
       "\\end{tabular}\n"
      ],
      "text/markdown": [
       "\n",
       "| state | abb | region | population | total |\n",
       "|---|---|---|---|---|\n",
       "| Alabama    | AL         | South      |  4779736   |  135       |\n",
       "| Alaska     | AK         | West       |   710231   |   19       |\n",
       "| Arizona    | AZ         | West       |  6392017   |  232       |\n",
       "| Arkansas   | AR         | South      |  2915918   |   93       |\n",
       "| California | CA         | West       | 37253956   | 1257       |\n",
       "| Colorado   | CO         | West       |  5029196   |   65       |\n",
       "\n"
      ],
      "text/plain": [
       "  state      abb region population total\n",
       "1 Alabama    AL  South   4779736    135 \n",
       "2 Alaska     AK  West     710231     19 \n",
       "3 Arizona    AZ  West    6392017    232 \n",
       "4 Arkansas   AR  South   2915918     93 \n",
       "5 California CA  West   37253956   1257 \n",
       "6 Colorado   CO  West    5029196     65 "
      ]
     },
     "metadata": {},
     "output_type": "display_data"
    },
    {
     "data": {
      "text/html": [
       "<table>\n",
       "<thead><tr><th scope=col>state</th><th scope=col>abb</th><th scope=col>region</th><th scope=col>population</th><th scope=col>total</th></tr></thead>\n",
       "<tbody>\n",
       "\t<tr><td>Alabama</td><td>AL     </td><td>South  </td><td>4779736</td><td>135    </td></tr>\n",
       "\t<tr><td>Alaska </td><td>AK     </td><td>West   </td><td> 710231</td><td> 19    </td></tr>\n",
       "\t<tr><td>Arizona</td><td>AZ     </td><td>West   </td><td>6392017</td><td>232    </td></tr>\n",
       "</tbody>\n",
       "</table>\n"
      ],
      "text/latex": [
       "\\begin{tabular}{r|lllll}\n",
       " state & abb & region & population & total\\\\\n",
       "\\hline\n",
       "\t Alabama & AL      & South   & 4779736 & 135    \\\\\n",
       "\t Alaska  & AK      & West    &  710231 &  19    \\\\\n",
       "\t Arizona & AZ      & West    & 6392017 & 232    \\\\\n",
       "\\end{tabular}\n"
      ],
      "text/markdown": [
       "\n",
       "| state | abb | region | population | total |\n",
       "|---|---|---|---|---|\n",
       "| Alabama | AL      | South   | 4779736 | 135     |\n",
       "| Alaska  | AK      | West    |  710231 |  19     |\n",
       "| Arizona | AZ      | West    | 6392017 | 232     |\n",
       "\n"
      ],
      "text/plain": [
       "  state   abb region population total\n",
       "1 Alabama AL  South  4779736    135  \n",
       "2 Alaska  AK  West    710231     19  \n",
       "3 Arizona AZ  West   6392017    232  "
      ]
     },
     "metadata": {},
     "output_type": "display_data"
    }
   ],
   "source": [
    "# get the first 6 or n elements of an object\n",
    "head(murders)         # get first six rows of a data frame\n",
    "head(murders, n=3)    # get first 3 rows of a data frame"
   ]
  },
  {
   "cell_type": "code",
   "execution_count": 16,
   "id": "8e92d29f",
   "metadata": {},
   "outputs": [
    {
     "data": {
      "text/html": [
       "<ol class=list-inline>\n",
       "\t<li>'state'</li>\n",
       "\t<li>'abb'</li>\n",
       "\t<li>'region'</li>\n",
       "\t<li>'population'</li>\n",
       "\t<li>'total'</li>\n",
       "</ol>\n"
      ],
      "text/latex": [
       "\\begin{enumerate*}\n",
       "\\item 'state'\n",
       "\\item 'abb'\n",
       "\\item 'region'\n",
       "\\item 'population'\n",
       "\\item 'total'\n",
       "\\end{enumerate*}\n"
      ],
      "text/markdown": [
       "1. 'state'\n",
       "2. 'abb'\n",
       "3. 'region'\n",
       "4. 'population'\n",
       "5. 'total'\n",
       "\n",
       "\n"
      ],
      "text/plain": [
       "[1] \"state\"      \"abb\"        \"region\"     \"population\" \"total\"     "
      ]
     },
     "metadata": {},
     "output_type": "display_data"
    }
   ],
   "source": [
    "# access the variable names\n",
    "names(murders)"
   ]
  },
  {
   "cell_type": "markdown",
   "id": "14558c01",
   "metadata": {},
   "source": [
    "### 3. The Accessor: `$`\n",
    "\n",
    "Access variables represented by columns.\n",
    "\n",
    "Hint: order of rows in data table are preserved!"
   ]
  },
  {
   "cell_type": "code",
   "execution_count": 17,
   "id": "0fea202c",
   "metadata": {},
   "outputs": [
    {
     "data": {
      "text/html": [
       "<ol class=list-inline>\n",
       "\t<li>4779736</li>\n",
       "\t<li>710231</li>\n",
       "\t<li>6392017</li>\n",
       "\t<li>2915918</li>\n",
       "\t<li>37253956</li>\n",
       "\t<li>5029196</li>\n",
       "\t<li>3574097</li>\n",
       "\t<li>897934</li>\n",
       "\t<li>601723</li>\n",
       "\t<li>19687653</li>\n",
       "\t<li>9920000</li>\n",
       "\t<li>1360301</li>\n",
       "\t<li>1567582</li>\n",
       "\t<li>12830632</li>\n",
       "\t<li>6483802</li>\n",
       "\t<li>3046355</li>\n",
       "\t<li>2853118</li>\n",
       "\t<li>4339367</li>\n",
       "\t<li>4533372</li>\n",
       "\t<li>1328361</li>\n",
       "\t<li>5773552</li>\n",
       "\t<li>6547629</li>\n",
       "\t<li>9883640</li>\n",
       "\t<li>5303925</li>\n",
       "\t<li>2967297</li>\n",
       "\t<li>5988927</li>\n",
       "\t<li>989415</li>\n",
       "\t<li>1826341</li>\n",
       "\t<li>2700551</li>\n",
       "\t<li>1316470</li>\n",
       "\t<li>8791894</li>\n",
       "\t<li>2059179</li>\n",
       "\t<li>19378102</li>\n",
       "\t<li>9535483</li>\n",
       "\t<li>672591</li>\n",
       "\t<li>11536504</li>\n",
       "\t<li>3751351</li>\n",
       "\t<li>3831074</li>\n",
       "\t<li>12702379</li>\n",
       "\t<li>1052567</li>\n",
       "\t<li>4625364</li>\n",
       "\t<li>814180</li>\n",
       "\t<li>6346105</li>\n",
       "\t<li>25145561</li>\n",
       "\t<li>2763885</li>\n",
       "\t<li>625741</li>\n",
       "\t<li>8001024</li>\n",
       "\t<li>6724540</li>\n",
       "\t<li>1852994</li>\n",
       "\t<li>5686986</li>\n",
       "\t<li>563626</li>\n",
       "</ol>\n"
      ],
      "text/latex": [
       "\\begin{enumerate*}\n",
       "\\item 4779736\n",
       "\\item 710231\n",
       "\\item 6392017\n",
       "\\item 2915918\n",
       "\\item 37253956\n",
       "\\item 5029196\n",
       "\\item 3574097\n",
       "\\item 897934\n",
       "\\item 601723\n",
       "\\item 19687653\n",
       "\\item 9920000\n",
       "\\item 1360301\n",
       "\\item 1567582\n",
       "\\item 12830632\n",
       "\\item 6483802\n",
       "\\item 3046355\n",
       "\\item 2853118\n",
       "\\item 4339367\n",
       "\\item 4533372\n",
       "\\item 1328361\n",
       "\\item 5773552\n",
       "\\item 6547629\n",
       "\\item 9883640\n",
       "\\item 5303925\n",
       "\\item 2967297\n",
       "\\item 5988927\n",
       "\\item 989415\n",
       "\\item 1826341\n",
       "\\item 2700551\n",
       "\\item 1316470\n",
       "\\item 8791894\n",
       "\\item 2059179\n",
       "\\item 19378102\n",
       "\\item 9535483\n",
       "\\item 672591\n",
       "\\item 11536504\n",
       "\\item 3751351\n",
       "\\item 3831074\n",
       "\\item 12702379\n",
       "\\item 1052567\n",
       "\\item 4625364\n",
       "\\item 814180\n",
       "\\item 6346105\n",
       "\\item 25145561\n",
       "\\item 2763885\n",
       "\\item 625741\n",
       "\\item 8001024\n",
       "\\item 6724540\n",
       "\\item 1852994\n",
       "\\item 5686986\n",
       "\\item 563626\n",
       "\\end{enumerate*}\n"
      ],
      "text/markdown": [
       "1. 4779736\n",
       "2. 710231\n",
       "3. 6392017\n",
       "4. 2915918\n",
       "5. 37253956\n",
       "6. 5029196\n",
       "7. 3574097\n",
       "8. 897934\n",
       "9. 601723\n",
       "10. 19687653\n",
       "11. 9920000\n",
       "12. 1360301\n",
       "13. 1567582\n",
       "14. 12830632\n",
       "15. 6483802\n",
       "16. 3046355\n",
       "17. 2853118\n",
       "18. 4339367\n",
       "19. 4533372\n",
       "20. 1328361\n",
       "21. 5773552\n",
       "22. 6547629\n",
       "23. 9883640\n",
       "24. 5303925\n",
       "25. 2967297\n",
       "26. 5988927\n",
       "27. 989415\n",
       "28. 1826341\n",
       "29. 2700551\n",
       "30. 1316470\n",
       "31. 8791894\n",
       "32. 2059179\n",
       "33. 19378102\n",
       "34. 9535483\n",
       "35. 672591\n",
       "36. 11536504\n",
       "37. 3751351\n",
       "38. 3831074\n",
       "39. 12702379\n",
       "40. 1052567\n",
       "41. 4625364\n",
       "42. 814180\n",
       "43. 6346105\n",
       "44. 25145561\n",
       "45. 2763885\n",
       "46. 625741\n",
       "47. 8001024\n",
       "48. 6724540\n",
       "49. 1852994\n",
       "50. 5686986\n",
       "51. 563626\n",
       "\n",
       "\n"
      ],
      "text/plain": [
       " [1]  4779736   710231  6392017  2915918 37253956  5029196  3574097   897934\n",
       " [9]   601723 19687653  9920000  1360301  1567582 12830632  6483802  3046355\n",
       "[17]  2853118  4339367  4533372  1328361  5773552  6547629  9883640  5303925\n",
       "[25]  2967297  5988927   989415  1826341  2700551  1316470  8791894  2059179\n",
       "[33] 19378102  9535483   672591 11536504  3751351  3831074 12702379  1052567\n",
       "[41]  4625364   814180  6346105 25145561  2763885   625741  8001024  6724540\n",
       "[49]  1852994  5686986   563626"
      ]
     },
     "metadata": {},
     "output_type": "display_data"
    }
   ],
   "source": [
    "murders$population     # use `names(murders)` to get all variable names! (and use auto-completion via `tab`)"
   ]
  },
  {
   "cell_type": "code",
   "execution_count": 18,
   "id": "182f50b9",
   "metadata": {},
   "outputs": [
    {
     "data": {
      "text/html": [
       "<ol class=list-inline>\n",
       "\t<li>4779736</li>\n",
       "\t<li>710231</li>\n",
       "\t<li>6392017</li>\n",
       "\t<li>2915918</li>\n",
       "\t<li>37253956</li>\n",
       "\t<li>5029196</li>\n",
       "\t<li>3574097</li>\n",
       "\t<li>897934</li>\n",
       "\t<li>601723</li>\n",
       "\t<li>19687653</li>\n",
       "\t<li>9920000</li>\n",
       "\t<li>1360301</li>\n",
       "\t<li>1567582</li>\n",
       "\t<li>12830632</li>\n",
       "\t<li>6483802</li>\n",
       "\t<li>3046355</li>\n",
       "\t<li>2853118</li>\n",
       "\t<li>4339367</li>\n",
       "\t<li>4533372</li>\n",
       "\t<li>1328361</li>\n",
       "\t<li>5773552</li>\n",
       "\t<li>6547629</li>\n",
       "\t<li>9883640</li>\n",
       "\t<li>5303925</li>\n",
       "\t<li>2967297</li>\n",
       "\t<li>5988927</li>\n",
       "\t<li>989415</li>\n",
       "\t<li>1826341</li>\n",
       "\t<li>2700551</li>\n",
       "\t<li>1316470</li>\n",
       "\t<li>8791894</li>\n",
       "\t<li>2059179</li>\n",
       "\t<li>19378102</li>\n",
       "\t<li>9535483</li>\n",
       "\t<li>672591</li>\n",
       "\t<li>11536504</li>\n",
       "\t<li>3751351</li>\n",
       "\t<li>3831074</li>\n",
       "\t<li>12702379</li>\n",
       "\t<li>1052567</li>\n",
       "\t<li>4625364</li>\n",
       "\t<li>814180</li>\n",
       "\t<li>6346105</li>\n",
       "\t<li>25145561</li>\n",
       "\t<li>2763885</li>\n",
       "\t<li>625741</li>\n",
       "\t<li>8001024</li>\n",
       "\t<li>6724540</li>\n",
       "\t<li>1852994</li>\n",
       "\t<li>5686986</li>\n",
       "\t<li>563626</li>\n",
       "</ol>\n"
      ],
      "text/latex": [
       "\\begin{enumerate*}\n",
       "\\item 4779736\n",
       "\\item 710231\n",
       "\\item 6392017\n",
       "\\item 2915918\n",
       "\\item 37253956\n",
       "\\item 5029196\n",
       "\\item 3574097\n",
       "\\item 897934\n",
       "\\item 601723\n",
       "\\item 19687653\n",
       "\\item 9920000\n",
       "\\item 1360301\n",
       "\\item 1567582\n",
       "\\item 12830632\n",
       "\\item 6483802\n",
       "\\item 3046355\n",
       "\\item 2853118\n",
       "\\item 4339367\n",
       "\\item 4533372\n",
       "\\item 1328361\n",
       "\\item 5773552\n",
       "\\item 6547629\n",
       "\\item 9883640\n",
       "\\item 5303925\n",
       "\\item 2967297\n",
       "\\item 5988927\n",
       "\\item 989415\n",
       "\\item 1826341\n",
       "\\item 2700551\n",
       "\\item 1316470\n",
       "\\item 8791894\n",
       "\\item 2059179\n",
       "\\item 19378102\n",
       "\\item 9535483\n",
       "\\item 672591\n",
       "\\item 11536504\n",
       "\\item 3751351\n",
       "\\item 3831074\n",
       "\\item 12702379\n",
       "\\item 1052567\n",
       "\\item 4625364\n",
       "\\item 814180\n",
       "\\item 6346105\n",
       "\\item 25145561\n",
       "\\item 2763885\n",
       "\\item 625741\n",
       "\\item 8001024\n",
       "\\item 6724540\n",
       "\\item 1852994\n",
       "\\item 5686986\n",
       "\\item 563626\n",
       "\\end{enumerate*}\n"
      ],
      "text/markdown": [
       "1. 4779736\n",
       "2. 710231\n",
       "3. 6392017\n",
       "4. 2915918\n",
       "5. 37253956\n",
       "6. 5029196\n",
       "7. 3574097\n",
       "8. 897934\n",
       "9. 601723\n",
       "10. 19687653\n",
       "11. 9920000\n",
       "12. 1360301\n",
       "13. 1567582\n",
       "14. 12830632\n",
       "15. 6483802\n",
       "16. 3046355\n",
       "17. 2853118\n",
       "18. 4339367\n",
       "19. 4533372\n",
       "20. 1328361\n",
       "21. 5773552\n",
       "22. 6547629\n",
       "23. 9883640\n",
       "24. 5303925\n",
       "25. 2967297\n",
       "26. 5988927\n",
       "27. 989415\n",
       "28. 1826341\n",
       "29. 2700551\n",
       "30. 1316470\n",
       "31. 8791894\n",
       "32. 2059179\n",
       "33. 19378102\n",
       "34. 9535483\n",
       "35. 672591\n",
       "36. 11536504\n",
       "37. 3751351\n",
       "38. 3831074\n",
       "39. 12702379\n",
       "40. 1052567\n",
       "41. 4625364\n",
       "42. 814180\n",
       "43. 6346105\n",
       "44. 25145561\n",
       "45. 2763885\n",
       "46. 625741\n",
       "47. 8001024\n",
       "48. 6724540\n",
       "49. 1852994\n",
       "50. 5686986\n",
       "51. 563626\n",
       "\n",
       "\n"
      ],
      "text/plain": [
       " [1]  4779736   710231  6392017  2915918 37253956  5029196  3574097   897934\n",
       " [9]   601723 19687653  9920000  1360301  1567582 12830632  6483802  3046355\n",
       "[17]  2853118  4339367  4533372  1328361  5773552  6547629  9883640  5303925\n",
       "[25]  2967297  5988927   989415  1826341  2700551  1316470  8791894  2059179\n",
       "[33] 19378102  9535483   672591 11536504  3751351  3831074 12702379  1052567\n",
       "[41]  4625364   814180  6346105 25145561  2763885   625741  8001024  6724540\n",
       "[49]  1852994  5686986   563626"
      ]
     },
     "metadata": {},
     "output_type": "display_data"
    },
    {
     "data": {
      "text/html": [
       "<ol class=list-inline>\n",
       "\t<li>4779736</li>\n",
       "\t<li>710231</li>\n",
       "\t<li>6392017</li>\n",
       "\t<li>2915918</li>\n",
       "\t<li>37253956</li>\n",
       "\t<li>5029196</li>\n",
       "\t<li>3574097</li>\n",
       "\t<li>897934</li>\n",
       "\t<li>601723</li>\n",
       "\t<li>19687653</li>\n",
       "\t<li>9920000</li>\n",
       "\t<li>1360301</li>\n",
       "\t<li>1567582</li>\n",
       "\t<li>12830632</li>\n",
       "\t<li>6483802</li>\n",
       "\t<li>3046355</li>\n",
       "\t<li>2853118</li>\n",
       "\t<li>4339367</li>\n",
       "\t<li>4533372</li>\n",
       "\t<li>1328361</li>\n",
       "\t<li>5773552</li>\n",
       "\t<li>6547629</li>\n",
       "\t<li>9883640</li>\n",
       "\t<li>5303925</li>\n",
       "\t<li>2967297</li>\n",
       "\t<li>5988927</li>\n",
       "\t<li>989415</li>\n",
       "\t<li>1826341</li>\n",
       "\t<li>2700551</li>\n",
       "\t<li>1316470</li>\n",
       "\t<li>8791894</li>\n",
       "\t<li>2059179</li>\n",
       "\t<li>19378102</li>\n",
       "\t<li>9535483</li>\n",
       "\t<li>672591</li>\n",
       "\t<li>11536504</li>\n",
       "\t<li>3751351</li>\n",
       "\t<li>3831074</li>\n",
       "\t<li>12702379</li>\n",
       "\t<li>1052567</li>\n",
       "\t<li>4625364</li>\n",
       "\t<li>814180</li>\n",
       "\t<li>6346105</li>\n",
       "\t<li>25145561</li>\n",
       "\t<li>2763885</li>\n",
       "\t<li>625741</li>\n",
       "\t<li>8001024</li>\n",
       "\t<li>6724540</li>\n",
       "\t<li>1852994</li>\n",
       "\t<li>5686986</li>\n",
       "\t<li>563626</li>\n",
       "</ol>\n"
      ],
      "text/latex": [
       "\\begin{enumerate*}\n",
       "\\item 4779736\n",
       "\\item 710231\n",
       "\\item 6392017\n",
       "\\item 2915918\n",
       "\\item 37253956\n",
       "\\item 5029196\n",
       "\\item 3574097\n",
       "\\item 897934\n",
       "\\item 601723\n",
       "\\item 19687653\n",
       "\\item 9920000\n",
       "\\item 1360301\n",
       "\\item 1567582\n",
       "\\item 12830632\n",
       "\\item 6483802\n",
       "\\item 3046355\n",
       "\\item 2853118\n",
       "\\item 4339367\n",
       "\\item 4533372\n",
       "\\item 1328361\n",
       "\\item 5773552\n",
       "\\item 6547629\n",
       "\\item 9883640\n",
       "\\item 5303925\n",
       "\\item 2967297\n",
       "\\item 5988927\n",
       "\\item 989415\n",
       "\\item 1826341\n",
       "\\item 2700551\n",
       "\\item 1316470\n",
       "\\item 8791894\n",
       "\\item 2059179\n",
       "\\item 19378102\n",
       "\\item 9535483\n",
       "\\item 672591\n",
       "\\item 11536504\n",
       "\\item 3751351\n",
       "\\item 3831074\n",
       "\\item 12702379\n",
       "\\item 1052567\n",
       "\\item 4625364\n",
       "\\item 814180\n",
       "\\item 6346105\n",
       "\\item 25145561\n",
       "\\item 2763885\n",
       "\\item 625741\n",
       "\\item 8001024\n",
       "\\item 6724540\n",
       "\\item 1852994\n",
       "\\item 5686986\n",
       "\\item 563626\n",
       "\\end{enumerate*}\n"
      ],
      "text/markdown": [
       "1. 4779736\n",
       "2. 710231\n",
       "3. 6392017\n",
       "4. 2915918\n",
       "5. 37253956\n",
       "6. 5029196\n",
       "7. 3574097\n",
       "8. 897934\n",
       "9. 601723\n",
       "10. 19687653\n",
       "11. 9920000\n",
       "12. 1360301\n",
       "13. 1567582\n",
       "14. 12830632\n",
       "15. 6483802\n",
       "16. 3046355\n",
       "17. 2853118\n",
       "18. 4339367\n",
       "19. 4533372\n",
       "20. 1328361\n",
       "21. 5773552\n",
       "22. 6547629\n",
       "23. 9883640\n",
       "24. 5303925\n",
       "25. 2967297\n",
       "26. 5988927\n",
       "27. 989415\n",
       "28. 1826341\n",
       "29. 2700551\n",
       "30. 1316470\n",
       "31. 8791894\n",
       "32. 2059179\n",
       "33. 19378102\n",
       "34. 9535483\n",
       "35. 672591\n",
       "36. 11536504\n",
       "37. 3751351\n",
       "38. 3831074\n",
       "39. 12702379\n",
       "40. 1052567\n",
       "41. 4625364\n",
       "42. 814180\n",
       "43. 6346105\n",
       "44. 25145561\n",
       "45. 2763885\n",
       "46. 625741\n",
       "47. 8001024\n",
       "48. 6724540\n",
       "49. 1852994\n",
       "50. 5686986\n",
       "51. 563626\n",
       "\n",
       "\n"
      ],
      "text/plain": [
       " [1]  4779736   710231  6392017  2915918 37253956  5029196  3574097   897934\n",
       " [9]   601723 19687653  9920000  1360301  1567582 12830632  6483802  3046355\n",
       "[17]  2853118  4339367  4533372  1328361  5773552  6547629  9883640  5303925\n",
       "[25]  2967297  5988927   989415  1826341  2700551  1316470  8791894  2059179\n",
       "[33] 19378102  9535483   672591 11536504  3751351  3831074 12702379  1052567\n",
       "[41]  4625364   814180  6346105 25145561  2763885   625741  8001024  6724540\n",
       "[49]  1852994  5686986   563626"
      ]
     },
     "metadata": {},
     "output_type": "display_data"
    }
   ],
   "source": [
    "# hint: brackets with variable names or indices also work!\n",
    "murders[[\"population\"]]\n",
    "murders[,4]"
   ]
  },
  {
   "cell_type": "markdown",
   "id": "52defa26",
   "metadata": {},
   "source": [
    "### 4. Vectors: Numerics, Characters and Logical\n",
    "\n",
    "Array containing one or several objects of the same type.\n",
    "\n",
    "Later: How to create a vector/list and more."
   ]
  },
  {
   "cell_type": "code",
   "execution_count": 19,
   "id": "7c3e9174",
   "metadata": {},
   "outputs": [
    {
     "data": {
      "text/html": [
       "'character'"
      ],
      "text/latex": [
       "'character'"
      ],
      "text/markdown": [
       "'character'"
      ],
      "text/plain": [
       "[1] \"character\""
      ]
     },
     "metadata": {},
     "output_type": "display_data"
    },
    {
     "data": {
      "text/html": [
       "<ol class=list-inline>\n",
       "\t<li>'Alabama'</li>\n",
       "\t<li>'Alaska'</li>\n",
       "\t<li>'Arizona'</li>\n",
       "\t<li>'Arkansas'</li>\n",
       "\t<li>'California'</li>\n",
       "\t<li>'Colorado'</li>\n",
       "\t<li>'Connecticut'</li>\n",
       "\t<li>'Delaware'</li>\n",
       "\t<li>'District of Columbia'</li>\n",
       "\t<li>'Florida'</li>\n",
       "\t<li>'Georgia'</li>\n",
       "\t<li>'Hawaii'</li>\n",
       "\t<li>'Idaho'</li>\n",
       "\t<li>'Illinois'</li>\n",
       "\t<li>'Indiana'</li>\n",
       "\t<li>'Iowa'</li>\n",
       "\t<li>'Kansas'</li>\n",
       "\t<li>'Kentucky'</li>\n",
       "\t<li>'Louisiana'</li>\n",
       "\t<li>'Maine'</li>\n",
       "\t<li>'Maryland'</li>\n",
       "\t<li>'Massachusetts'</li>\n",
       "\t<li>'Michigan'</li>\n",
       "\t<li>'Minnesota'</li>\n",
       "\t<li>'Mississippi'</li>\n",
       "\t<li>'Missouri'</li>\n",
       "\t<li>'Montana'</li>\n",
       "\t<li>'Nebraska'</li>\n",
       "\t<li>'Nevada'</li>\n",
       "\t<li>'New Hampshire'</li>\n",
       "\t<li>'New Jersey'</li>\n",
       "\t<li>'New Mexico'</li>\n",
       "\t<li>'New York'</li>\n",
       "\t<li>'North Carolina'</li>\n",
       "\t<li>'North Dakota'</li>\n",
       "\t<li>'Ohio'</li>\n",
       "\t<li>'Oklahoma'</li>\n",
       "\t<li>'Oregon'</li>\n",
       "\t<li>'Pennsylvania'</li>\n",
       "\t<li>'Rhode Island'</li>\n",
       "\t<li>'South Carolina'</li>\n",
       "\t<li>'South Dakota'</li>\n",
       "\t<li>'Tennessee'</li>\n",
       "\t<li>'Texas'</li>\n",
       "\t<li>'Utah'</li>\n",
       "\t<li>'Vermont'</li>\n",
       "\t<li>'Virginia'</li>\n",
       "\t<li>'Washington'</li>\n",
       "\t<li>'West Virginia'</li>\n",
       "\t<li>'Wisconsin'</li>\n",
       "\t<li>'Wyoming'</li>\n",
       "</ol>\n"
      ],
      "text/latex": [
       "\\begin{enumerate*}\n",
       "\\item 'Alabama'\n",
       "\\item 'Alaska'\n",
       "\\item 'Arizona'\n",
       "\\item 'Arkansas'\n",
       "\\item 'California'\n",
       "\\item 'Colorado'\n",
       "\\item 'Connecticut'\n",
       "\\item 'Delaware'\n",
       "\\item 'District of Columbia'\n",
       "\\item 'Florida'\n",
       "\\item 'Georgia'\n",
       "\\item 'Hawaii'\n",
       "\\item 'Idaho'\n",
       "\\item 'Illinois'\n",
       "\\item 'Indiana'\n",
       "\\item 'Iowa'\n",
       "\\item 'Kansas'\n",
       "\\item 'Kentucky'\n",
       "\\item 'Louisiana'\n",
       "\\item 'Maine'\n",
       "\\item 'Maryland'\n",
       "\\item 'Massachusetts'\n",
       "\\item 'Michigan'\n",
       "\\item 'Minnesota'\n",
       "\\item 'Mississippi'\n",
       "\\item 'Missouri'\n",
       "\\item 'Montana'\n",
       "\\item 'Nebraska'\n",
       "\\item 'Nevada'\n",
       "\\item 'New Hampshire'\n",
       "\\item 'New Jersey'\n",
       "\\item 'New Mexico'\n",
       "\\item 'New York'\n",
       "\\item 'North Carolina'\n",
       "\\item 'North Dakota'\n",
       "\\item 'Ohio'\n",
       "\\item 'Oklahoma'\n",
       "\\item 'Oregon'\n",
       "\\item 'Pennsylvania'\n",
       "\\item 'Rhode Island'\n",
       "\\item 'South Carolina'\n",
       "\\item 'South Dakota'\n",
       "\\item 'Tennessee'\n",
       "\\item 'Texas'\n",
       "\\item 'Utah'\n",
       "\\item 'Vermont'\n",
       "\\item 'Virginia'\n",
       "\\item 'Washington'\n",
       "\\item 'West Virginia'\n",
       "\\item 'Wisconsin'\n",
       "\\item 'Wyoming'\n",
       "\\end{enumerate*}\n"
      ],
      "text/markdown": [
       "1. 'Alabama'\n",
       "2. 'Alaska'\n",
       "3. 'Arizona'\n",
       "4. 'Arkansas'\n",
       "5. 'California'\n",
       "6. 'Colorado'\n",
       "7. 'Connecticut'\n",
       "8. 'Delaware'\n",
       "9. 'District of Columbia'\n",
       "10. 'Florida'\n",
       "11. 'Georgia'\n",
       "12. 'Hawaii'\n",
       "13. 'Idaho'\n",
       "14. 'Illinois'\n",
       "15. 'Indiana'\n",
       "16. 'Iowa'\n",
       "17. 'Kansas'\n",
       "18. 'Kentucky'\n",
       "19. 'Louisiana'\n",
       "20. 'Maine'\n",
       "21. 'Maryland'\n",
       "22. 'Massachusetts'\n",
       "23. 'Michigan'\n",
       "24. 'Minnesota'\n",
       "25. 'Mississippi'\n",
       "26. 'Missouri'\n",
       "27. 'Montana'\n",
       "28. 'Nebraska'\n",
       "29. 'Nevada'\n",
       "30. 'New Hampshire'\n",
       "31. 'New Jersey'\n",
       "32. 'New Mexico'\n",
       "33. 'New York'\n",
       "34. 'North Carolina'\n",
       "35. 'North Dakota'\n",
       "36. 'Ohio'\n",
       "37. 'Oklahoma'\n",
       "38. 'Oregon'\n",
       "39. 'Pennsylvania'\n",
       "40. 'Rhode Island'\n",
       "41. 'South Carolina'\n",
       "42. 'South Dakota'\n",
       "43. 'Tennessee'\n",
       "44. 'Texas'\n",
       "45. 'Utah'\n",
       "46. 'Vermont'\n",
       "47. 'Virginia'\n",
       "48. 'Washington'\n",
       "49. 'West Virginia'\n",
       "50. 'Wisconsin'\n",
       "51. 'Wyoming'\n",
       "\n",
       "\n"
      ],
      "text/plain": [
       " [1] \"Alabama\"              \"Alaska\"               \"Arizona\"             \n",
       " [4] \"Arkansas\"             \"California\"           \"Colorado\"            \n",
       " [7] \"Connecticut\"          \"Delaware\"             \"District of Columbia\"\n",
       "[10] \"Florida\"              \"Georgia\"              \"Hawaii\"              \n",
       "[13] \"Idaho\"                \"Illinois\"             \"Indiana\"             \n",
       "[16] \"Iowa\"                 \"Kansas\"               \"Kentucky\"            \n",
       "[19] \"Louisiana\"            \"Maine\"                \"Maryland\"            \n",
       "[22] \"Massachusetts\"        \"Michigan\"             \"Minnesota\"           \n",
       "[25] \"Mississippi\"          \"Missouri\"             \"Montana\"             \n",
       "[28] \"Nebraska\"             \"Nevada\"               \"New Hampshire\"       \n",
       "[31] \"New Jersey\"           \"New Mexico\"           \"New York\"            \n",
       "[34] \"North Carolina\"       \"North Dakota\"         \"Ohio\"                \n",
       "[37] \"Oklahoma\"             \"Oregon\"               \"Pennsylvania\"        \n",
       "[40] \"Rhode Island\"         \"South Carolina\"       \"South Dakota\"        \n",
       "[43] \"Tennessee\"            \"Texas\"                \"Utah\"                \n",
       "[46] \"Vermont\"              \"Virginia\"             \"Washington\"          \n",
       "[49] \"West Virginia\"        \"Wisconsin\"            \"Wyoming\"             "
      ]
     },
     "metadata": {},
     "output_type": "display_data"
    },
    {
     "data": {
      "text/html": [
       "'numeric'"
      ],
      "text/latex": [
       "'numeric'"
      ],
      "text/markdown": [
       "'numeric'"
      ],
      "text/plain": [
       "[1] \"numeric\""
      ]
     },
     "metadata": {},
     "output_type": "display_data"
    },
    {
     "data": {
      "text/html": [
       "<ol class=list-inline>\n",
       "\t<li>135</li>\n",
       "\t<li>19</li>\n",
       "\t<li>232</li>\n",
       "\t<li>93</li>\n",
       "\t<li>1257</li>\n",
       "\t<li>65</li>\n",
       "\t<li>97</li>\n",
       "\t<li>38</li>\n",
       "\t<li>99</li>\n",
       "\t<li>669</li>\n",
       "\t<li>376</li>\n",
       "\t<li>7</li>\n",
       "\t<li>12</li>\n",
       "\t<li>364</li>\n",
       "\t<li>142</li>\n",
       "\t<li>21</li>\n",
       "\t<li>63</li>\n",
       "\t<li>116</li>\n",
       "\t<li>351</li>\n",
       "\t<li>11</li>\n",
       "\t<li>293</li>\n",
       "\t<li>118</li>\n",
       "\t<li>413</li>\n",
       "\t<li>53</li>\n",
       "\t<li>120</li>\n",
       "\t<li>321</li>\n",
       "\t<li>12</li>\n",
       "\t<li>32</li>\n",
       "\t<li>84</li>\n",
       "\t<li>5</li>\n",
       "\t<li>246</li>\n",
       "\t<li>67</li>\n",
       "\t<li>517</li>\n",
       "\t<li>286</li>\n",
       "\t<li>4</li>\n",
       "\t<li>310</li>\n",
       "\t<li>111</li>\n",
       "\t<li>36</li>\n",
       "\t<li>457</li>\n",
       "\t<li>16</li>\n",
       "\t<li>207</li>\n",
       "\t<li>8</li>\n",
       "\t<li>219</li>\n",
       "\t<li>805</li>\n",
       "\t<li>22</li>\n",
       "\t<li>2</li>\n",
       "\t<li>250</li>\n",
       "\t<li>93</li>\n",
       "\t<li>27</li>\n",
       "\t<li>97</li>\n",
       "\t<li>5</li>\n",
       "</ol>\n"
      ],
      "text/latex": [
       "\\begin{enumerate*}\n",
       "\\item 135\n",
       "\\item 19\n",
       "\\item 232\n",
       "\\item 93\n",
       "\\item 1257\n",
       "\\item 65\n",
       "\\item 97\n",
       "\\item 38\n",
       "\\item 99\n",
       "\\item 669\n",
       "\\item 376\n",
       "\\item 7\n",
       "\\item 12\n",
       "\\item 364\n",
       "\\item 142\n",
       "\\item 21\n",
       "\\item 63\n",
       "\\item 116\n",
       "\\item 351\n",
       "\\item 11\n",
       "\\item 293\n",
       "\\item 118\n",
       "\\item 413\n",
       "\\item 53\n",
       "\\item 120\n",
       "\\item 321\n",
       "\\item 12\n",
       "\\item 32\n",
       "\\item 84\n",
       "\\item 5\n",
       "\\item 246\n",
       "\\item 67\n",
       "\\item 517\n",
       "\\item 286\n",
       "\\item 4\n",
       "\\item 310\n",
       "\\item 111\n",
       "\\item 36\n",
       "\\item 457\n",
       "\\item 16\n",
       "\\item 207\n",
       "\\item 8\n",
       "\\item 219\n",
       "\\item 805\n",
       "\\item 22\n",
       "\\item 2\n",
       "\\item 250\n",
       "\\item 93\n",
       "\\item 27\n",
       "\\item 97\n",
       "\\item 5\n",
       "\\end{enumerate*}\n"
      ],
      "text/markdown": [
       "1. 135\n",
       "2. 19\n",
       "3. 232\n",
       "4. 93\n",
       "5. 1257\n",
       "6. 65\n",
       "7. 97\n",
       "8. 38\n",
       "9. 99\n",
       "10. 669\n",
       "11. 376\n",
       "12. 7\n",
       "13. 12\n",
       "14. 364\n",
       "15. 142\n",
       "16. 21\n",
       "17. 63\n",
       "18. 116\n",
       "19. 351\n",
       "20. 11\n",
       "21. 293\n",
       "22. 118\n",
       "23. 413\n",
       "24. 53\n",
       "25. 120\n",
       "26. 321\n",
       "27. 12\n",
       "28. 32\n",
       "29. 84\n",
       "30. 5\n",
       "31. 246\n",
       "32. 67\n",
       "33. 517\n",
       "34. 286\n",
       "35. 4\n",
       "36. 310\n",
       "37. 111\n",
       "38. 36\n",
       "39. 457\n",
       "40. 16\n",
       "41. 207\n",
       "42. 8\n",
       "43. 219\n",
       "44. 805\n",
       "45. 22\n",
       "46. 2\n",
       "47. 250\n",
       "48. 93\n",
       "49. 27\n",
       "50. 97\n",
       "51. 5\n",
       "\n",
       "\n"
      ],
      "text/plain": [
       " [1]  135   19  232   93 1257   65   97   38   99  669  376    7   12  364  142\n",
       "[16]   21   63  116  351   11  293  118  413   53  120  321   12   32   84    5\n",
       "[31]  246   67  517  286    4  310  111   36  457   16  207    8  219  805   22\n",
       "[46]    2  250   93   27   97    5"
      ]
     },
     "metadata": {},
     "output_type": "display_data"
    },
    {
     "data": {
      "text/html": [
       "'logical'"
      ],
      "text/latex": [
       "'logical'"
      ],
      "text/markdown": [
       "'logical'"
      ],
      "text/plain": [
       "[1] \"logical\""
      ]
     },
     "metadata": {},
     "output_type": "display_data"
    },
    {
     "data": {
      "text/html": [
       "FALSE"
      ],
      "text/latex": [
       "FALSE"
      ],
      "text/markdown": [
       "FALSE"
      ],
      "text/plain": [
       "[1] FALSE"
      ]
     },
     "metadata": {},
     "output_type": "display_data"
    }
   ],
   "source": [
    "# types of vectors\n",
    "class(murders$state)     # character strings\n",
    "murders$state            # character strings\n",
    "\n",
    "class(murders$total)     # numeric\n",
    "murders$total            # numeric\n",
    "\n",
    "class(3 == 2)            # logical\n",
    "3 == 2                   # logical"
   ]
  },
  {
   "cell_type": "markdown",
   "id": "de14445d",
   "metadata": {},
   "source": [
    "### 5. Factors\n",
    "\n",
    "Use to store categorical data, such as directions.\n",
    "\n",
    "In background: levels (= categories) stored as integers as it ist more memory efficient.\n",
    "\n",
    "Order of levels: alphabetical order per default. (Can be specified via the `levels` argument when creating a `factor`. Reorder via the `reorder` function.)\n",
    "\n",
    "Hint: factors are confusing and a common source of bugs!"
   ]
  },
  {
   "cell_type": "code",
   "execution_count": 20,
   "id": "1684c541",
   "metadata": {},
   "outputs": [
    {
     "data": {
      "text/html": [
       "<ol class=list-inline>\n",
       "\t<li>A</li>\n",
       "\t<li>B</li>\n",
       "\t<li>B</li>\n",
       "\t<li>C</li>\n",
       "\t<li>D</li>\n",
       "</ol>\n",
       "\n",
       "<details>\n",
       "\t<summary style=display:list-item;cursor:pointer>\n",
       "\t\t<strong>Levels</strong>:\n",
       "\t</summary>\n",
       "\t<ol class=list-inline>\n",
       "\t\t<li>'A'</li>\n",
       "\t\t<li>'B'</li>\n",
       "\t\t<li>'C'</li>\n",
       "\t\t<li>'D'</li>\n",
       "\t</ol>\n",
       "</details>"
      ],
      "text/latex": [
       "\\begin{enumerate*}\n",
       "\\item A\n",
       "\\item B\n",
       "\\item B\n",
       "\\item C\n",
       "\\item D\n",
       "\\end{enumerate*}\n",
       "\n",
       "\\emph{Levels}: \\begin{enumerate*}\n",
       "\\item 'A'\n",
       "\\item 'B'\n",
       "\\item 'C'\n",
       "\\item 'D'\n",
       "\\end{enumerate*}\n"
      ],
      "text/markdown": [
       "1. A\n",
       "2. B\n",
       "3. B\n",
       "4. C\n",
       "5. D\n",
       "\n",
       "\n",
       "\n",
       "**Levels**: 1. 'A'\n",
       "2. 'B'\n",
       "3. 'C'\n",
       "4. 'D'\n",
       "\n",
       "\n"
      ],
      "text/plain": [
       "[1] A B B C D\n",
       "Levels: A B C D"
      ]
     },
     "metadata": {},
     "output_type": "display_data"
    }
   ],
   "source": [
    "# create a factor\n",
    "factor(c('A', 'B', 'B', 'C', 'D'))     # more examples: https://www.statology.org/create-categorical-variable-in-r/"
   ]
  },
  {
   "cell_type": "code",
   "execution_count": 21,
   "id": "85eba1f0",
   "metadata": {},
   "outputs": [
    {
     "data": {
      "text/html": [
       "'factor'"
      ],
      "text/latex": [
       "'factor'"
      ],
      "text/markdown": [
       "'factor'"
      ],
      "text/plain": [
       "[1] \"factor\""
      ]
     },
     "metadata": {},
     "output_type": "display_data"
    },
    {
     "data": {
      "text/html": [
       "<ol class=list-inline>\n",
       "\t<li>South</li>\n",
       "\t<li>West</li>\n",
       "\t<li>West</li>\n",
       "\t<li>South</li>\n",
       "\t<li>West</li>\n",
       "\t<li>West</li>\n",
       "\t<li>Northeast</li>\n",
       "\t<li>South</li>\n",
       "\t<li>South</li>\n",
       "\t<li>South</li>\n",
       "\t<li>South</li>\n",
       "\t<li>West</li>\n",
       "\t<li>West</li>\n",
       "\t<li>North Central</li>\n",
       "\t<li>North Central</li>\n",
       "\t<li>North Central</li>\n",
       "\t<li>North Central</li>\n",
       "\t<li>South</li>\n",
       "\t<li>South</li>\n",
       "\t<li>Northeast</li>\n",
       "\t<li>South</li>\n",
       "\t<li>Northeast</li>\n",
       "\t<li>North Central</li>\n",
       "\t<li>North Central</li>\n",
       "\t<li>South</li>\n",
       "\t<li>North Central</li>\n",
       "\t<li>West</li>\n",
       "\t<li>North Central</li>\n",
       "\t<li>West</li>\n",
       "\t<li>Northeast</li>\n",
       "\t<li>Northeast</li>\n",
       "\t<li>West</li>\n",
       "\t<li>Northeast</li>\n",
       "\t<li>South</li>\n",
       "\t<li>North Central</li>\n",
       "\t<li>North Central</li>\n",
       "\t<li>South</li>\n",
       "\t<li>West</li>\n",
       "\t<li>Northeast</li>\n",
       "\t<li>Northeast</li>\n",
       "\t<li>South</li>\n",
       "\t<li>North Central</li>\n",
       "\t<li>South</li>\n",
       "\t<li>South</li>\n",
       "\t<li>West</li>\n",
       "\t<li>Northeast</li>\n",
       "\t<li>South</li>\n",
       "\t<li>West</li>\n",
       "\t<li>South</li>\n",
       "\t<li>North Central</li>\n",
       "\t<li>West</li>\n",
       "</ol>\n",
       "\n",
       "<details>\n",
       "\t<summary style=display:list-item;cursor:pointer>\n",
       "\t\t<strong>Levels</strong>:\n",
       "\t</summary>\n",
       "\t<ol class=list-inline>\n",
       "\t\t<li>'Northeast'</li>\n",
       "\t\t<li>'South'</li>\n",
       "\t\t<li>'North Central'</li>\n",
       "\t\t<li>'West'</li>\n",
       "\t</ol>\n",
       "</details>"
      ],
      "text/latex": [
       "\\begin{enumerate*}\n",
       "\\item South\n",
       "\\item West\n",
       "\\item West\n",
       "\\item South\n",
       "\\item West\n",
       "\\item West\n",
       "\\item Northeast\n",
       "\\item South\n",
       "\\item South\n",
       "\\item South\n",
       "\\item South\n",
       "\\item West\n",
       "\\item West\n",
       "\\item North Central\n",
       "\\item North Central\n",
       "\\item North Central\n",
       "\\item North Central\n",
       "\\item South\n",
       "\\item South\n",
       "\\item Northeast\n",
       "\\item South\n",
       "\\item Northeast\n",
       "\\item North Central\n",
       "\\item North Central\n",
       "\\item South\n",
       "\\item North Central\n",
       "\\item West\n",
       "\\item North Central\n",
       "\\item West\n",
       "\\item Northeast\n",
       "\\item Northeast\n",
       "\\item West\n",
       "\\item Northeast\n",
       "\\item South\n",
       "\\item North Central\n",
       "\\item North Central\n",
       "\\item South\n",
       "\\item West\n",
       "\\item Northeast\n",
       "\\item Northeast\n",
       "\\item South\n",
       "\\item North Central\n",
       "\\item South\n",
       "\\item South\n",
       "\\item West\n",
       "\\item Northeast\n",
       "\\item South\n",
       "\\item West\n",
       "\\item South\n",
       "\\item North Central\n",
       "\\item West\n",
       "\\end{enumerate*}\n",
       "\n",
       "\\emph{Levels}: \\begin{enumerate*}\n",
       "\\item 'Northeast'\n",
       "\\item 'South'\n",
       "\\item 'North Central'\n",
       "\\item 'West'\n",
       "\\end{enumerate*}\n"
      ],
      "text/markdown": [
       "1. South\n",
       "2. West\n",
       "3. West\n",
       "4. South\n",
       "5. West\n",
       "6. West\n",
       "7. Northeast\n",
       "8. South\n",
       "9. South\n",
       "10. South\n",
       "11. South\n",
       "12. West\n",
       "13. West\n",
       "14. North Central\n",
       "15. North Central\n",
       "16. North Central\n",
       "17. North Central\n",
       "18. South\n",
       "19. South\n",
       "20. Northeast\n",
       "21. South\n",
       "22. Northeast\n",
       "23. North Central\n",
       "24. North Central\n",
       "25. South\n",
       "26. North Central\n",
       "27. West\n",
       "28. North Central\n",
       "29. West\n",
       "30. Northeast\n",
       "31. Northeast\n",
       "32. West\n",
       "33. Northeast\n",
       "34. South\n",
       "35. North Central\n",
       "36. North Central\n",
       "37. South\n",
       "38. West\n",
       "39. Northeast\n",
       "40. Northeast\n",
       "41. South\n",
       "42. North Central\n",
       "43. South\n",
       "44. South\n",
       "45. West\n",
       "46. Northeast\n",
       "47. South\n",
       "48. West\n",
       "49. South\n",
       "50. North Central\n",
       "51. West\n",
       "\n",
       "\n",
       "\n",
       "**Levels**: 1. 'Northeast'\n",
       "2. 'South'\n",
       "3. 'North Central'\n",
       "4. 'West'\n",
       "\n",
       "\n"
      ],
      "text/plain": [
       " [1] South         West          West          South         West         \n",
       " [6] West          Northeast     South         South         South        \n",
       "[11] South         West          West          North Central North Central\n",
       "[16] North Central North Central South         South         Northeast    \n",
       "[21] South         Northeast     North Central North Central South        \n",
       "[26] North Central West          North Central West          Northeast    \n",
       "[31] Northeast     West          Northeast     South         North Central\n",
       "[36] North Central South         West          Northeast     Northeast    \n",
       "[41] South         North Central South         South         West         \n",
       "[46] Northeast     South         West          South         North Central\n",
       "[51] West         \n",
       "Levels: Northeast South North Central West"
      ]
     },
     "metadata": {},
     "output_type": "display_data"
    },
    {
     "data": {
      "text/html": [
       "<ol class=list-inline>\n",
       "\t<li>'Northeast'</li>\n",
       "\t<li>'South'</li>\n",
       "\t<li>'North Central'</li>\n",
       "\t<li>'West'</li>\n",
       "</ol>\n"
      ],
      "text/latex": [
       "\\begin{enumerate*}\n",
       "\\item 'Northeast'\n",
       "\\item 'South'\n",
       "\\item 'North Central'\n",
       "\\item 'West'\n",
       "\\end{enumerate*}\n"
      ],
      "text/markdown": [
       "1. 'Northeast'\n",
       "2. 'South'\n",
       "3. 'North Central'\n",
       "4. 'West'\n",
       "\n",
       "\n"
      ],
      "text/plain": [
       "[1] \"Northeast\"     \"South\"         \"North Central\" \"West\"         "
      ]
     },
     "metadata": {},
     "output_type": "display_data"
    }
   ],
   "source": [
    "# example for factor\n",
    "class(murders$region)\n",
    "murders$region             # here: printing also shows factors! (not always the case)\n",
    "\n",
    "levels(murders$region)     # levels of the factor"
   ]
  },
  {
   "cell_type": "code",
   "execution_count": 22,
   "id": "9f442b00",
   "metadata": {},
   "outputs": [
    {
     "data": {
      "text/html": [
       "<ol class=list-inline>\n",
       "\t<li>'Northeast'</li>\n",
       "\t<li>'North Central'</li>\n",
       "\t<li>'West'</li>\n",
       "\t<li>'South'</li>\n",
       "</ol>\n"
      ],
      "text/latex": [
       "\\begin{enumerate*}\n",
       "\\item 'Northeast'\n",
       "\\item 'North Central'\n",
       "\\item 'West'\n",
       "\\item 'South'\n",
       "\\end{enumerate*}\n"
      ],
      "text/markdown": [
       "1. 'Northeast'\n",
       "2. 'North Central'\n",
       "3. 'West'\n",
       "4. 'South'\n",
       "\n",
       "\n"
      ],
      "text/plain": [
       "[1] \"Northeast\"     \"North Central\" \"West\"          \"South\"        "
      ]
     },
     "metadata": {},
     "output_type": "display_data"
    }
   ],
   "source": [
    "# example: reorder values of a factor based on a sum\n",
    "region <- murders$region\n",
    "value <- murders$total\n",
    "region <- reorder(region, value, FUN = sum)\n",
    "levels(region)"
   ]
  },
  {
   "cell_type": "markdown",
   "id": "faa3bfea",
   "metadata": {},
   "source": [
    "### 6. Lists\n",
    "\n",
    "Use to store any combination of (different) types and access elements similarly to data frames. (Similar to vectors)"
   ]
  },
  {
   "cell_type": "code",
   "execution_count": 23,
   "id": "76c79f12",
   "metadata": {},
   "outputs": [
    {
     "data": {
      "text/html": [
       "22"
      ],
      "text/latex": [
       "22"
      ],
      "text/markdown": [
       "22"
      ],
      "text/plain": [
       "[1] 22"
      ]
     },
     "metadata": {},
     "output_type": "display_data"
    },
    {
     "data": {
      "text/html": [
       "22"
      ],
      "text/latex": [
       "22"
      ],
      "text/markdown": [
       "22"
      ],
      "text/plain": [
       "[1] 22"
      ]
     },
     "metadata": {},
     "output_type": "display_data"
    },
    {
     "data": {
      "text/html": [
       "22"
      ],
      "text/latex": [
       "22"
      ],
      "text/markdown": [
       "22"
      ],
      "text/plain": [
       "[1] 22"
      ]
     },
     "metadata": {},
     "output_type": "display_data"
    }
   ],
   "source": [
    "# create a list\n",
    "with_variables <- list(name = \"Donata\", age = 22, tired = TRUE)\n",
    "without_variables <- list(\"Donata\", 22, TRUE)\n",
    "\n",
    "# extract components\n",
    "with_variables$age          # use accessor (like data frames)\n",
    "with_variables[[\"age\"]]     # or use bracketes\n",
    "without_variables[[2]]      # use bracketes and the index (starting with 1 instead of 0!) instead of the variable name"
   ]
  },
  {
   "cell_type": "markdown",
   "id": "8a979c15",
   "metadata": {},
   "source": [
    "### 7. Matrices\n",
    "\n",
    "Similar to data frames, but not as useful and powerful. Two dimensional objects based on rows and columns, but all elements must have the same type. Can be converted to data frames via `to.data.frame()`."
   ]
  },
  {
   "cell_type": "code",
   "execution_count": 24,
   "id": "22de7e5a",
   "metadata": {},
   "outputs": [
    {
     "data": {
      "text/html": [
       "<table>\n",
       "<tbody>\n",
       "\t<tr><td>1 </td><td>5 </td><td> 9</td></tr>\n",
       "\t<tr><td>2 </td><td>6 </td><td>10</td></tr>\n",
       "\t<tr><td>3 </td><td>7 </td><td>11</td></tr>\n",
       "\t<tr><td>4 </td><td>8 </td><td>12</td></tr>\n",
       "</tbody>\n",
       "</table>\n"
      ],
      "text/latex": [
       "\\begin{tabular}{lll}\n",
       "\t 1  & 5  &  9\\\\\n",
       "\t 2  & 6  & 10\\\\\n",
       "\t 3  & 7  & 11\\\\\n",
       "\t 4  & 8  & 12\\\\\n",
       "\\end{tabular}\n"
      ],
      "text/markdown": [
       "\n",
       "| 1  | 5  |  9 |\n",
       "| 2  | 6  | 10 |\n",
       "| 3  | 7  | 11 |\n",
       "| 4  | 8  | 12 |\n",
       "\n"
      ],
      "text/plain": [
       "     [,1] [,2] [,3]\n",
       "[1,] 1    5     9  \n",
       "[2,] 2    6    10  \n",
       "[3,] 3    7    11  \n",
       "[4,] 4    8    12  "
      ]
     },
     "metadata": {},
     "output_type": "display_data"
    },
    {
     "data": {
      "text/html": [
       "10"
      ],
      "text/latex": [
       "10"
      ],
      "text/markdown": [
       "10"
      ],
      "text/plain": [
       "[1] 10"
      ]
     },
     "metadata": {},
     "output_type": "display_data"
    },
    {
     "data": {
      "text/html": [
       "<ol class=list-inline>\n",
       "\t<li>9</li>\n",
       "\t<li>10</li>\n",
       "\t<li>11</li>\n",
       "\t<li>12</li>\n",
       "</ol>\n"
      ],
      "text/latex": [
       "\\begin{enumerate*}\n",
       "\\item 9\n",
       "\\item 10\n",
       "\\item 11\n",
       "\\item 12\n",
       "\\end{enumerate*}\n"
      ],
      "text/markdown": [
       "1. 9\n",
       "2. 10\n",
       "3. 11\n",
       "4. 12\n",
       "\n",
       "\n"
      ],
      "text/plain": [
       "[1]  9 10 11 12"
      ]
     },
     "metadata": {},
     "output_type": "display_data"
    },
    {
     "data": {
      "text/html": [
       "<ol class=list-inline>\n",
       "\t<li>2</li>\n",
       "\t<li>6</li>\n",
       "\t<li>10</li>\n",
       "</ol>\n"
      ],
      "text/latex": [
       "\\begin{enumerate*}\n",
       "\\item 2\n",
       "\\item 6\n",
       "\\item 10\n",
       "\\end{enumerate*}\n"
      ],
      "text/markdown": [
       "1. 2\n",
       "2. 6\n",
       "3. 10\n",
       "\n",
       "\n"
      ],
      "text/plain": [
       "[1]  2  6 10"
      ]
     },
     "metadata": {},
     "output_type": "display_data"
    },
    {
     "data": {
      "text/html": [
       "<table>\n",
       "<tbody>\n",
       "\t<tr><td>2 </td><td>6 </td><td>10</td></tr>\n",
       "\t<tr><td>3 </td><td>7 </td><td>11</td></tr>\n",
       "</tbody>\n",
       "</table>\n"
      ],
      "text/latex": [
       "\\begin{tabular}{lll}\n",
       "\t 2  & 6  & 10\\\\\n",
       "\t 3  & 7  & 11\\\\\n",
       "\\end{tabular}\n"
      ],
      "text/markdown": [
       "\n",
       "| 2  | 6  | 10 |\n",
       "| 3  | 7  | 11 |\n",
       "\n"
      ],
      "text/plain": [
       "     [,1] [,2] [,3]\n",
       "[1,] 2    6    10  \n",
       "[2,] 3    7    11  "
      ]
     },
     "metadata": {},
     "output_type": "display_data"
    },
    {
     "data": {
      "text/html": [
       "<table>\n",
       "<tbody>\n",
       "\t<tr><td>5 </td><td> 9</td></tr>\n",
       "\t<tr><td>6 </td><td>10</td></tr>\n",
       "</tbody>\n",
       "</table>\n"
      ],
      "text/latex": [
       "\\begin{tabular}{ll}\n",
       "\t 5  &  9\\\\\n",
       "\t 6  & 10\\\\\n",
       "\\end{tabular}\n"
      ],
      "text/markdown": [
       "\n",
       "| 5  |  9 |\n",
       "| 6  | 10 |\n",
       "\n"
      ],
      "text/plain": [
       "     [,1] [,2]\n",
       "[1,] 5     9  \n",
       "[2,] 6    10  "
      ]
     },
     "metadata": {},
     "output_type": "display_data"
    }
   ],
   "source": [
    "# create a matrix and access elements\n",
    "mat <- matrix(1:12, 4, 3)     # matrix containing the numbers from 1 to 12 spread over 4 rows and 3 columns\n",
    "mat\n",
    "\n",
    "mat[2,3]                      # access a specific element\n",
    "mat[ ,3]                      # access a specific column\n",
    "mat[2, ]                      # access a specific row\n",
    "mat[2:3,]                     # access multiple rows\n",
    "mat[1:2,2:3]                  # access a sub-matrix"
   ]
  },
  {
   "cell_type": "code",
   "execution_count": 25,
   "id": "04a7e0fb",
   "metadata": {},
   "outputs": [],
   "source": [
    "# --------------------"
   ]
  },
  {
   "cell_type": "markdown",
   "id": "5e82509f",
   "metadata": {},
   "source": [
    "## Vectors"
   ]
  },
  {
   "cell_type": "markdown",
   "id": "b7f19fd4",
   "metadata": {},
   "source": [
    "### 1. Creating Vectors\n",
    "\n",
    "There are different ways to create vectors (arrays with only one type of elements)."
   ]
  },
  {
   "cell_type": "code",
   "execution_count": 26,
   "id": "2ab51029",
   "metadata": {},
   "outputs": [
    {
     "data": {
      "text/html": [
       "<ol class=list-inline>\n",
       "\t<li>1</li>\n",
       "\t<li>2</li>\n",
       "\t<li>3</li>\n",
       "</ol>\n"
      ],
      "text/latex": [
       "\\begin{enumerate*}\n",
       "\\item 1\n",
       "\\item 2\n",
       "\\item 3\n",
       "\\end{enumerate*}\n"
      ],
      "text/markdown": [
       "1. 1\n",
       "2. 2\n",
       "3. 3\n",
       "\n",
       "\n"
      ],
      "text/plain": [
       "[1] 1 2 3"
      ]
     },
     "metadata": {},
     "output_type": "display_data"
    },
    {
     "data": {
      "text/html": [
       "<ol class=list-inline>\n",
       "\t<li>1</li>\n",
       "\t<li>1</li>\n",
       "\t<li>-1</li>\n",
       "</ol>\n"
      ],
      "text/latex": [
       "\\begin{enumerate*}\n",
       "\\item 1\n",
       "\\item 1\n",
       "\\item -1\n",
       "\\end{enumerate*}\n"
      ],
      "text/markdown": [
       "1. 1\n",
       "2. 1\n",
       "3. -1\n",
       "\n",
       "\n"
      ],
      "text/plain": [
       "[1]  1  1 -1"
      ]
     },
     "metadata": {},
     "output_type": "display_data"
    },
    {
     "data": {
      "text/html": [
       "<ol class=list-inline>\n",
       "\t<li>'Hello'</li>\n",
       "\t<li>'World'</li>\n",
       "</ol>\n"
      ],
      "text/latex": [
       "\\begin{enumerate*}\n",
       "\\item 'Hello'\n",
       "\\item 'World'\n",
       "\\end{enumerate*}\n"
      ],
      "text/markdown": [
       "1. 'Hello'\n",
       "2. 'World'\n",
       "\n",
       "\n"
      ],
      "text/plain": [
       "[1] \"Hello\" \"World\""
      ]
     },
     "metadata": {},
     "output_type": "display_data"
    }
   ],
   "source": [
    "c(1,2,3)                # numeric vector\n",
    "c(a,b,c)                # numeric vector\n",
    "c(\"Hello\", \"World\")     # string vector"
   ]
  },
  {
   "cell_type": "markdown",
   "id": "06173a22",
   "metadata": {},
   "source": [
    "### 2. Names\n",
    "\n",
    "Name the entries of a vector!"
   ]
  },
  {
   "cell_type": "code",
   "execution_count": 27,
   "id": "03a03146",
   "metadata": {},
   "outputs": [
    {
     "data": {
      "text/html": [
       "<dl class=dl-horizontal>\n",
       "\t<dt>donata</dt>\n",
       "\t\t<dd>22</dd>\n",
       "\t<dt>philipp</dt>\n",
       "\t\t<dd>25</dd>\n",
       "</dl>\n"
      ],
      "text/latex": [
       "\\begin{description*}\n",
       "\\item[donata] 22\n",
       "\\item[philipp] 25\n",
       "\\end{description*}\n"
      ],
      "text/markdown": [
       "donata\n",
       ":   22philipp\n",
       ":   25\n",
       "\n"
      ],
      "text/plain": [
       " donata philipp \n",
       "     22      25 "
      ]
     },
     "metadata": {},
     "output_type": "display_data"
    },
    {
     "data": {
      "text/html": [
       "<dl class=dl-horizontal>\n",
       "\t<dt>donata</dt>\n",
       "\t\t<dd>22</dd>\n",
       "\t<dt>philipp</dt>\n",
       "\t\t<dd>25</dd>\n",
       "</dl>\n"
      ],
      "text/latex": [
       "\\begin{description*}\n",
       "\\item[donata] 22\n",
       "\\item[philipp] 25\n",
       "\\end{description*}\n"
      ],
      "text/markdown": [
       "donata\n",
       ":   22philipp\n",
       ":   25\n",
       "\n"
      ],
      "text/plain": [
       " donata philipp \n",
       "     22      25 "
      ]
     },
     "metadata": {},
     "output_type": "display_data"
    },
    {
     "data": {
      "text/html": [
       "<ol class=list-inline>\n",
       "\t<li>'donata'</li>\n",
       "\t<li>'philipp'</li>\n",
       "</ol>\n"
      ],
      "text/latex": [
       "\\begin{enumerate*}\n",
       "\\item 'donata'\n",
       "\\item 'philipp'\n",
       "\\end{enumerate*}\n"
      ],
      "text/markdown": [
       "1. 'donata'\n",
       "2. 'philipp'\n",
       "\n",
       "\n"
      ],
      "text/plain": [
       "[1] \"donata\"  \"philipp\""
      ]
     },
     "metadata": {},
     "output_type": "display_data"
    }
   ],
   "source": [
    "# assign names directly ...\n",
    "ages <- c(donata = 22, philipp = 25)     # numeric vector\n",
    "ages\n",
    "\n",
    "# ... or via the `names()`\n",
    "ages2 <- c(22, 25)                       # numeric vector\n",
    "name <- c(\"donata\", \"philipp\")\n",
    "names(ages2) <- name\n",
    "ages2\n",
    "\n",
    "#access the names\n",
    "names(ages)"
   ]
  },
  {
   "cell_type": "markdown",
   "id": "70cde32e",
   "metadata": {},
   "source": [
    "### 3. Sequences\n",
    "\n",
    "Create vectors based on sequences (faster)."
   ]
  },
  {
   "cell_type": "code",
   "execution_count": 28,
   "id": "4b4b27ff",
   "metadata": {},
   "outputs": [
    {
     "data": {
      "text/html": [
       "<ol class=list-inline>\n",
       "\t<li>1</li>\n",
       "\t<li>2</li>\n",
       "\t<li>3</li>\n",
       "\t<li>4</li>\n",
       "\t<li>5</li>\n",
       "\t<li>6</li>\n",
       "\t<li>7</li>\n",
       "\t<li>8</li>\n",
       "\t<li>9</li>\n",
       "\t<li>10</li>\n",
       "</ol>\n"
      ],
      "text/latex": [
       "\\begin{enumerate*}\n",
       "\\item 1\n",
       "\\item 2\n",
       "\\item 3\n",
       "\\item 4\n",
       "\\item 5\n",
       "\\item 6\n",
       "\\item 7\n",
       "\\item 8\n",
       "\\item 9\n",
       "\\item 10\n",
       "\\end{enumerate*}\n"
      ],
      "text/markdown": [
       "1. 1\n",
       "2. 2\n",
       "3. 3\n",
       "4. 4\n",
       "5. 5\n",
       "6. 6\n",
       "7. 7\n",
       "8. 8\n",
       "9. 9\n",
       "10. 10\n",
       "\n",
       "\n"
      ],
      "text/plain": [
       " [1]  1  2  3  4  5  6  7  8  9 10"
      ]
     },
     "metadata": {},
     "output_type": "display_data"
    },
    {
     "data": {
      "text/html": [
       "<ol class=list-inline>\n",
       "\t<li>1</li>\n",
       "\t<li>3</li>\n",
       "\t<li>5</li>\n",
       "\t<li>7</li>\n",
       "\t<li>9</li>\n",
       "</ol>\n"
      ],
      "text/latex": [
       "\\begin{enumerate*}\n",
       "\\item 1\n",
       "\\item 3\n",
       "\\item 5\n",
       "\\item 7\n",
       "\\item 9\n",
       "\\end{enumerate*}\n"
      ],
      "text/markdown": [
       "1. 1\n",
       "2. 3\n",
       "3. 5\n",
       "4. 7\n",
       "5. 9\n",
       "\n",
       "\n"
      ],
      "text/plain": [
       "[1] 1 3 5 7 9"
      ]
     },
     "metadata": {},
     "output_type": "display_data"
    },
    {
     "data": {
      "text/html": [
       "<ol class=list-inline>\n",
       "\t<li>1</li>\n",
       "\t<li>1.5</li>\n",
       "\t<li>2</li>\n",
       "\t<li>2.5</li>\n",
       "\t<li>3</li>\n",
       "\t<li>3.5</li>\n",
       "\t<li>4</li>\n",
       "\t<li>4.5</li>\n",
       "\t<li>5</li>\n",
       "\t<li>5.5</li>\n",
       "\t<li>6</li>\n",
       "\t<li>6.5</li>\n",
       "\t<li>7</li>\n",
       "\t<li>7.5</li>\n",
       "\t<li>8</li>\n",
       "\t<li>8.5</li>\n",
       "\t<li>9</li>\n",
       "\t<li>9.5</li>\n",
       "\t<li>10</li>\n",
       "</ol>\n"
      ],
      "text/latex": [
       "\\begin{enumerate*}\n",
       "\\item 1\n",
       "\\item 1.5\n",
       "\\item 2\n",
       "\\item 2.5\n",
       "\\item 3\n",
       "\\item 3.5\n",
       "\\item 4\n",
       "\\item 4.5\n",
       "\\item 5\n",
       "\\item 5.5\n",
       "\\item 6\n",
       "\\item 6.5\n",
       "\\item 7\n",
       "\\item 7.5\n",
       "\\item 8\n",
       "\\item 8.5\n",
       "\\item 9\n",
       "\\item 9.5\n",
       "\\item 10\n",
       "\\end{enumerate*}\n"
      ],
      "text/markdown": [
       "1. 1\n",
       "2. 1.5\n",
       "3. 2\n",
       "4. 2.5\n",
       "5. 3\n",
       "6. 3.5\n",
       "7. 4\n",
       "8. 4.5\n",
       "9. 5\n",
       "10. 5.5\n",
       "11. 6\n",
       "12. 6.5\n",
       "13. 7\n",
       "14. 7.5\n",
       "15. 8\n",
       "16. 8.5\n",
       "17. 9\n",
       "18. 9.5\n",
       "19. 10\n",
       "\n",
       "\n"
      ],
      "text/plain": [
       " [1]  1.0  1.5  2.0  2.5  3.0  3.5  4.0  4.5  5.0  5.5  6.0  6.5  7.0  7.5  8.0\n",
       "[16]  8.5  9.0  9.5 10.0"
      ]
     },
     "metadata": {},
     "output_type": "display_data"
    },
    {
     "data": {
      "text/html": [
       "<ol class=list-inline>\n",
       "\t<li>1</li>\n",
       "\t<li>2</li>\n",
       "\t<li>3</li>\n",
       "\t<li>4</li>\n",
       "\t<li>5</li>\n",
       "\t<li>6</li>\n",
       "\t<li>7</li>\n",
       "\t<li>8</li>\n",
       "\t<li>9</li>\n",
       "\t<li>10</li>\n",
       "</ol>\n"
      ],
      "text/latex": [
       "\\begin{enumerate*}\n",
       "\\item 1\n",
       "\\item 2\n",
       "\\item 3\n",
       "\\item 4\n",
       "\\item 5\n",
       "\\item 6\n",
       "\\item 7\n",
       "\\item 8\n",
       "\\item 9\n",
       "\\item 10\n",
       "\\end{enumerate*}\n"
      ],
      "text/markdown": [
       "1. 1\n",
       "2. 2\n",
       "3. 3\n",
       "4. 4\n",
       "5. 5\n",
       "6. 6\n",
       "7. 7\n",
       "8. 8\n",
       "9. 9\n",
       "10. 10\n",
       "\n",
       "\n"
      ],
      "text/plain": [
       " [1]  1  2  3  4  5  6  7  8  9 10"
      ]
     },
     "metadata": {},
     "output_type": "display_data"
    }
   ],
   "source": [
    "# how to create a sequence\n",
    "seq(1,10)         # sequence from 1 to 10 (integer)\n",
    "seq(1,10,2)       # sequence from 1 to 10 with stepsize 2 (integer)\n",
    "seq(1,10,0.5)     # sequence from 1 to 10 with stepsize 0.5 (numeric)\n",
    "\n",
    "1:10              # sequence from 1 to 10 (integer)"
   ]
  },
  {
   "cell_type": "markdown",
   "id": "81a6ad3d",
   "metadata": {},
   "source": [
    "Or create repeating vectors and sequences (faster)!"
   ]
  },
  {
   "cell_type": "code",
   "execution_count": 29,
   "id": "cdd3958d",
   "metadata": {},
   "outputs": [
    {
     "data": {
      "text/html": [
       "<ol class=list-inline>\n",
       "\t<li>1</li>\n",
       "\t<li>2</li>\n",
       "\t<li>3</li>\n",
       "\t<li>1</li>\n",
       "\t<li>2</li>\n",
       "\t<li>3</li>\n",
       "\t<li>1</li>\n",
       "\t<li>2</li>\n",
       "\t<li>3</li>\n",
       "\t<li>1</li>\n",
       "\t<li>2</li>\n",
       "\t<li>3</li>\n",
       "</ol>\n"
      ],
      "text/latex": [
       "\\begin{enumerate*}\n",
       "\\item 1\n",
       "\\item 2\n",
       "\\item 3\n",
       "\\item 1\n",
       "\\item 2\n",
       "\\item 3\n",
       "\\item 1\n",
       "\\item 2\n",
       "\\item 3\n",
       "\\item 1\n",
       "\\item 2\n",
       "\\item 3\n",
       "\\end{enumerate*}\n"
      ],
      "text/markdown": [
       "1. 1\n",
       "2. 2\n",
       "3. 3\n",
       "4. 1\n",
       "5. 2\n",
       "6. 3\n",
       "7. 1\n",
       "8. 2\n",
       "9. 3\n",
       "10. 1\n",
       "11. 2\n",
       "12. 3\n",
       "\n",
       "\n"
      ],
      "text/plain": [
       " [1] 1 2 3 1 2 3 1 2 3 1 2 3"
      ]
     },
     "metadata": {},
     "output_type": "display_data"
    },
    {
     "data": {
      "text/html": [
       "<ol class=list-inline>\n",
       "\t<li>'Cats'</li>\n",
       "\t<li>'are'</li>\n",
       "\t<li>'Cats'</li>\n",
       "\t<li>'are'</li>\n",
       "\t<li>'Cats'</li>\n",
       "\t<li>'are'</li>\n",
       "\t<li>'Cats'</li>\n",
       "\t<li>'are'</li>\n",
       "\t<li>'Cats'</li>\n",
       "\t<li>'are'</li>\n",
       "\t<li>'Cats'</li>\n",
       "\t<li>'are'</li>\n",
       "\t<li>'Cats'</li>\n",
       "\t<li>'are'</li>\n",
       "\t<li>'Cats'</li>\n",
       "\t<li>'are'</li>\n",
       "\t<li>'Cats'</li>\n",
       "\t<li>'are'</li>\n",
       "\t<li>'Cats'</li>\n",
       "\t<li>'are'</li>\n",
       "</ol>\n"
      ],
      "text/latex": [
       "\\begin{enumerate*}\n",
       "\\item 'Cats'\n",
       "\\item 'are'\n",
       "\\item 'Cats'\n",
       "\\item 'are'\n",
       "\\item 'Cats'\n",
       "\\item 'are'\n",
       "\\item 'Cats'\n",
       "\\item 'are'\n",
       "\\item 'Cats'\n",
       "\\item 'are'\n",
       "\\item 'Cats'\n",
       "\\item 'are'\n",
       "\\item 'Cats'\n",
       "\\item 'are'\n",
       "\\item 'Cats'\n",
       "\\item 'are'\n",
       "\\item 'Cats'\n",
       "\\item 'are'\n",
       "\\item 'Cats'\n",
       "\\item 'are'\n",
       "\\end{enumerate*}\n"
      ],
      "text/markdown": [
       "1. 'Cats'\n",
       "2. 'are'\n",
       "3. 'Cats'\n",
       "4. 'are'\n",
       "5. 'Cats'\n",
       "6. 'are'\n",
       "7. 'Cats'\n",
       "8. 'are'\n",
       "9. 'Cats'\n",
       "10. 'are'\n",
       "11. 'Cats'\n",
       "12. 'are'\n",
       "13. 'Cats'\n",
       "14. 'are'\n",
       "15. 'Cats'\n",
       "16. 'are'\n",
       "17. 'Cats'\n",
       "18. 'are'\n",
       "19. 'Cats'\n",
       "20. 'are'\n",
       "\n",
       "\n"
      ],
      "text/plain": [
       " [1] \"Cats\" \"are\"  \"Cats\" \"are\"  \"Cats\" \"are\"  \"Cats\" \"are\"  \"Cats\" \"are\" \n",
       "[11] \"Cats\" \"are\"  \"Cats\" \"are\"  \"Cats\" \"are\"  \"Cats\" \"are\"  \"Cats\" \"are\" "
      ]
     },
     "metadata": {},
     "output_type": "display_data"
    },
    {
     "data": {
      "text/html": [
       "<ol class=list-inline>\n",
       "\t<li>1</li>\n",
       "\t<li>1</li>\n",
       "\t<li>1</li>\n",
       "\t<li>1</li>\n",
       "\t<li>2</li>\n",
       "\t<li>2</li>\n",
       "\t<li>2</li>\n",
       "\t<li>2</li>\n",
       "\t<li>3</li>\n",
       "\t<li>3</li>\n",
       "\t<li>3</li>\n",
       "\t<li>3</li>\n",
       "</ol>\n"
      ],
      "text/latex": [
       "\\begin{enumerate*}\n",
       "\\item 1\n",
       "\\item 1\n",
       "\\item 1\n",
       "\\item 1\n",
       "\\item 2\n",
       "\\item 2\n",
       "\\item 2\n",
       "\\item 2\n",
       "\\item 3\n",
       "\\item 3\n",
       "\\item 3\n",
       "\\item 3\n",
       "\\end{enumerate*}\n"
      ],
      "text/markdown": [
       "1. 1\n",
       "2. 1\n",
       "3. 1\n",
       "4. 1\n",
       "5. 2\n",
       "6. 2\n",
       "7. 2\n",
       "8. 2\n",
       "9. 3\n",
       "10. 3\n",
       "11. 3\n",
       "12. 3\n",
       "\n",
       "\n"
      ],
      "text/plain": [
       " [1] 1 1 1 1 2 2 2 2 3 3 3 3"
      ]
     },
     "metadata": {},
     "output_type": "display_data"
    },
    {
     "data": {
      "text/html": [
       "<ol class=list-inline>\n",
       "\t<li>'Cats'</li>\n",
       "\t<li>'Cats'</li>\n",
       "\t<li>'Cats'</li>\n",
       "\t<li>'Cats'</li>\n",
       "\t<li>'Cats'</li>\n",
       "\t<li>'Cats'</li>\n",
       "\t<li>'Cats'</li>\n",
       "\t<li>'Cats'</li>\n",
       "\t<li>'Cats'</li>\n",
       "\t<li>'Cats'</li>\n",
       "\t<li>'are'</li>\n",
       "\t<li>'are'</li>\n",
       "\t<li>'are'</li>\n",
       "\t<li>'are'</li>\n",
       "\t<li>'are'</li>\n",
       "\t<li>'are'</li>\n",
       "\t<li>'are'</li>\n",
       "\t<li>'are'</li>\n",
       "\t<li>'are'</li>\n",
       "\t<li>'are'</li>\n",
       "</ol>\n"
      ],
      "text/latex": [
       "\\begin{enumerate*}\n",
       "\\item 'Cats'\n",
       "\\item 'Cats'\n",
       "\\item 'Cats'\n",
       "\\item 'Cats'\n",
       "\\item 'Cats'\n",
       "\\item 'Cats'\n",
       "\\item 'Cats'\n",
       "\\item 'Cats'\n",
       "\\item 'Cats'\n",
       "\\item 'Cats'\n",
       "\\item 'are'\n",
       "\\item 'are'\n",
       "\\item 'are'\n",
       "\\item 'are'\n",
       "\\item 'are'\n",
       "\\item 'are'\n",
       "\\item 'are'\n",
       "\\item 'are'\n",
       "\\item 'are'\n",
       "\\item 'are'\n",
       "\\end{enumerate*}\n"
      ],
      "text/markdown": [
       "1. 'Cats'\n",
       "2. 'Cats'\n",
       "3. 'Cats'\n",
       "4. 'Cats'\n",
       "5. 'Cats'\n",
       "6. 'Cats'\n",
       "7. 'Cats'\n",
       "8. 'Cats'\n",
       "9. 'Cats'\n",
       "10. 'Cats'\n",
       "11. 'are'\n",
       "12. 'are'\n",
       "13. 'are'\n",
       "14. 'are'\n",
       "15. 'are'\n",
       "16. 'are'\n",
       "17. 'are'\n",
       "18. 'are'\n",
       "19. 'are'\n",
       "20. 'are'\n",
       "\n",
       "\n"
      ],
      "text/plain": [
       " [1] \"Cats\" \"Cats\" \"Cats\" \"Cats\" \"Cats\" \"Cats\" \"Cats\" \"Cats\" \"Cats\" \"Cats\"\n",
       "[11] \"are\"  \"are\"  \"are\"  \"are\"  \"are\"  \"are\"  \"are\"  \"are\"  \"are\"  \"are\" "
      ]
     },
     "metadata": {},
     "output_type": "display_data"
    }
   ],
   "source": [
    "rep(1:3, times = 4)\n",
    "rep(c(\"Cats\", \"are\"), times = 10)     # repeat the input in the given order x times\n",
    "\n",
    "rep(1:3, each = 4)\n",
    "rep(c(\"Cats\", \"are\"), each = 10)      # repeat each element of the input x times"
   ]
  },
  {
   "cell_type": "markdown",
   "id": "69ffb10e",
   "metadata": {},
   "source": [
    "### 4. Subsetting\n",
    "\n",
    "Accessing elements in different assrays is similar to accesing elements in matrices."
   ]
  },
  {
   "cell_type": "code",
   "execution_count": 30,
   "id": "18d5e35e",
   "metadata": {},
   "outputs": [
    {
     "data": {
      "text/html": [
       "<strong>philipp:</strong> 25"
      ],
      "text/latex": [
       "\\textbf{philipp:} 25"
      ],
      "text/markdown": [
       "**philipp:** 25"
      ],
      "text/plain": [
       "philipp \n",
       "     25 "
      ]
     },
     "metadata": {},
     "output_type": "display_data"
    },
    {
     "data": {
      "text/html": [
       "<dl class=dl-horizontal>\n",
       "\t<dt>donata</dt>\n",
       "\t\t<dd>22</dd>\n",
       "\t<dt>philipp</dt>\n",
       "\t\t<dd>25</dd>\n",
       "</dl>\n"
      ],
      "text/latex": [
       "\\begin{description*}\n",
       "\\item[donata] 22\n",
       "\\item[philipp] 25\n",
       "\\end{description*}\n"
      ],
      "text/markdown": [
       "donata\n",
       ":   22philipp\n",
       ":   25\n",
       "\n"
      ],
      "text/plain": [
       " donata philipp \n",
       "     22      25 "
      ]
     },
     "metadata": {},
     "output_type": "display_data"
    },
    {
     "data": {
      "text/html": [
       "<strong>donata:</strong> 22"
      ],
      "text/latex": [
       "\\textbf{donata:} 22"
      ],
      "text/markdown": [
       "**donata:** 22"
      ],
      "text/plain": [
       "donata \n",
       "    22 "
      ]
     },
     "metadata": {},
     "output_type": "display_data"
    },
    {
     "data": {
      "text/html": [
       "<dl class=dl-horizontal>\n",
       "\t<dt>donata</dt>\n",
       "\t\t<dd>22</dd>\n",
       "\t<dt>philipp</dt>\n",
       "\t\t<dd>25</dd>\n",
       "</dl>\n"
      ],
      "text/latex": [
       "\\begin{description*}\n",
       "\\item[donata] 22\n",
       "\\item[philipp] 25\n",
       "\\end{description*}\n"
      ],
      "text/markdown": [
       "donata\n",
       ":   22philipp\n",
       ":   25\n",
       "\n"
      ],
      "text/plain": [
       " donata philipp \n",
       "     22      25 "
      ]
     },
     "metadata": {},
     "output_type": "display_data"
    }
   ],
   "source": [
    "ages[2]                          # access the second element in the list\n",
    "ages[1:2]                        # access the elements from the the first to the second\n",
    "ages[\"donata\"]                   # access the element according to the variable\n",
    "ages[c(\"donata\", \"philipp\")]     # access elements according to the variables in the list"
   ]
  },
  {
   "cell_type": "code",
   "execution_count": 31,
   "id": "77cc5e30",
   "metadata": {},
   "outputs": [],
   "source": [
    "# --------------------"
   ]
  },
  {
   "cell_type": "markdown",
   "id": "f69a00d9",
   "metadata": {},
   "source": [
    "## Coercion"
   ]
  },
  {
   "cell_type": "markdown",
   "id": "21d419cd",
   "metadata": {},
   "source": [
    "Attempt to be flexible with data types.\n",
    "\n",
    "Example: wrong input type -> R tries to guess which type object should have before throwing an error.\n",
    "\n",
    "Problem: may lead to confusion as R doesn'tbehave like other languages."
   ]
  },
  {
   "cell_type": "code",
   "execution_count": 32,
   "id": "a1d5068f",
   "metadata": {},
   "outputs": [
    {
     "data": {
      "text/html": [
       "'character'"
      ],
      "text/latex": [
       "'character'"
      ],
      "text/markdown": [
       "'character'"
      ],
      "text/plain": [
       "[1] \"character\""
      ]
     },
     "metadata": {},
     "output_type": "display_data"
    }
   ],
   "source": [
    "# example based on a list\n",
    "x <- c(1, \"2\", 3)            # string vector although some inputs are ints\n",
    "class(x)"
   ]
  },
  {
   "cell_type": "markdown",
   "id": "47a6831e",
   "metadata": {},
   "source": [
    "### 1. Not Availables (NA)\n",
    "\n",
    "Result of coercing an object to an impossible type, e.g. some `character` to `int`."
   ]
  },
  {
   "cell_type": "code",
   "execution_count": 33,
   "id": "530a4395",
   "metadata": {},
   "outputs": [
    {
     "name": "stderr",
     "output_type": "stream",
     "text": [
      "Warning message in eval(expr, envir, enclos):\n",
      "“NAs durch Umwandlung erzeugt”"
     ]
    },
    {
     "data": {
      "text/html": [
       "<ol class=list-inline>\n",
       "\t<li>1</li>\n",
       "\t<li>&lt;NA&gt;</li>\n",
       "\t<li>3</li>\n",
       "</ol>\n"
      ],
      "text/latex": [
       "\\begin{enumerate*}\n",
       "\\item 1\n",
       "\\item <NA>\n",
       "\\item 3\n",
       "\\end{enumerate*}\n"
      ],
      "text/markdown": [
       "1. 1\n",
       "2. &lt;NA&gt;\n",
       "3. 3\n",
       "\n",
       "\n"
      ],
      "text/plain": [
       "[1]  1 NA  3"
      ]
     },
     "metadata": {},
     "output_type": "display_data"
    }
   ],
   "source": [
    "x <- c(1, \"b\", 3)            # string vector although some inputs are ints\n",
    "as.numeric(x)                # convert string vector to numeric vector, but \"b\" cannot be converted!"
   ]
  },
  {
   "cell_type": "code",
   "execution_count": 34,
   "id": "6ec15c07",
   "metadata": {},
   "outputs": [],
   "source": [
    "# --------------------"
   ]
  },
  {
   "cell_type": "markdown",
   "id": "4848a19e",
   "metadata": {},
   "source": [
    "## Sorting"
   ]
  },
  {
   "cell_type": "markdown",
   "id": "4571887c",
   "metadata": {},
   "source": [
    "### 1. `sort`\n",
    "\n",
    "Sort a vector in increasing or decreasing order."
   ]
  },
  {
   "cell_type": "code",
   "execution_count": 35,
   "id": "c23b8d51",
   "metadata": {},
   "outputs": [
    {
     "data": {
      "text/html": [
       "<ol class=list-inline>\n",
       "\t<li>1</li>\n",
       "\t<li>2</li>\n",
       "\t<li>3</li>\n",
       "\t<li>4</li>\n",
       "\t<li>5</li>\n",
       "</ol>\n"
      ],
      "text/latex": [
       "\\begin{enumerate*}\n",
       "\\item 1\n",
       "\\item 2\n",
       "\\item 3\n",
       "\\item 4\n",
       "\\item 5\n",
       "\\end{enumerate*}\n"
      ],
      "text/markdown": [
       "1. 1\n",
       "2. 2\n",
       "3. 3\n",
       "4. 4\n",
       "5. 5\n",
       "\n",
       "\n"
      ],
      "text/plain": [
       "[1] 1 2 3 4 5"
      ]
     },
     "metadata": {},
     "output_type": "display_data"
    },
    {
     "data": {
      "text/html": [
       "<ol class=list-inline>\n",
       "\t<li>5</li>\n",
       "\t<li>4</li>\n",
       "\t<li>3</li>\n",
       "\t<li>2</li>\n",
       "\t<li>1</li>\n",
       "</ol>\n"
      ],
      "text/latex": [
       "\\begin{enumerate*}\n",
       "\\item 5\n",
       "\\item 4\n",
       "\\item 3\n",
       "\\item 2\n",
       "\\item 1\n",
       "\\end{enumerate*}\n"
      ],
      "text/markdown": [
       "1. 5\n",
       "2. 4\n",
       "3. 3\n",
       "4. 2\n",
       "5. 1\n",
       "\n",
       "\n"
      ],
      "text/plain": [
       "[1] 5 4 3 2 1"
      ]
     },
     "metadata": {},
     "output_type": "display_data"
    }
   ],
   "source": [
    "x <- c(1,2,5,4,3)\n",
    "sort(x)\n",
    "\n",
    "sort(x, decreasing = TRUE)"
   ]
  },
  {
   "cell_type": "markdown",
   "id": "d7d035a5",
   "metadata": {},
   "source": [
    "### 2. `order`\n",
    "\n",
    "Returns index that sorts array in increasing or decreasing order, i.e. \"returns former indices of elements in the sorted vector\"."
   ]
  },
  {
   "cell_type": "code",
   "execution_count": 36,
   "id": "c6b9dbc5",
   "metadata": {},
   "outputs": [
    {
     "data": {
      "text/html": [
       "<ol class=list-inline>\n",
       "\t<li>1</li>\n",
       "\t<li>2</li>\n",
       "\t<li>3</li>\n",
       "\t<li>4</li>\n",
       "\t<li>5</li>\n",
       "</ol>\n"
      ],
      "text/latex": [
       "\\begin{enumerate*}\n",
       "\\item 1\n",
       "\\item 2\n",
       "\\item 3\n",
       "\\item 4\n",
       "\\item 5\n",
       "\\end{enumerate*}\n"
      ],
      "text/markdown": [
       "1. 1\n",
       "2. 2\n",
       "3. 3\n",
       "4. 4\n",
       "5. 5\n",
       "\n",
       "\n"
      ],
      "text/plain": [
       "[1] 1 2 3 4 5"
      ]
     },
     "metadata": {},
     "output_type": "display_data"
    },
    {
     "data": {
      "text/html": [
       "<ol class=list-inline>\n",
       "\t<li>5</li>\n",
       "\t<li>4</li>\n",
       "\t<li>3</li>\n",
       "\t<li>2</li>\n",
       "\t<li>1</li>\n",
       "</ol>\n"
      ],
      "text/latex": [
       "\\begin{enumerate*}\n",
       "\\item 5\n",
       "\\item 4\n",
       "\\item 3\n",
       "\\item 2\n",
       "\\item 1\n",
       "\\end{enumerate*}\n"
      ],
      "text/markdown": [
       "1. 5\n",
       "2. 4\n",
       "3. 3\n",
       "4. 2\n",
       "5. 1\n",
       "\n",
       "\n"
      ],
      "text/plain": [
       "[1] 5 4 3 2 1"
      ]
     },
     "metadata": {},
     "output_type": "display_data"
    }
   ],
   "source": [
    "# sort(x) is equivalent to\n",
    "x <- c(1,2,5,4,3)\n",
    "index <- order(x)\n",
    "x[index]\n",
    "\n",
    "index <- order(x, decreasing = TRUE)\n",
    "x[index]"
   ]
  },
  {
   "cell_type": "code",
   "execution_count": 37,
   "id": "49a9b0bb",
   "metadata": {},
   "outputs": [
    {
     "data": {
      "text/html": [
       "<ol class=list-inline>\n",
       "\t<li>'VT'</li>\n",
       "\t<li>'ND'</li>\n",
       "\t<li>'NH'</li>\n",
       "\t<li>'WY'</li>\n",
       "\t<li>'HI'</li>\n",
       "\t<li>'SD'</li>\n",
       "\t<li>'ME'</li>\n",
       "\t<li>'ID'</li>\n",
       "\t<li>'MT'</li>\n",
       "\t<li>'RI'</li>\n",
       "\t<li>'AK'</li>\n",
       "\t<li>'IA'</li>\n",
       "\t<li>'UT'</li>\n",
       "\t<li>'WV'</li>\n",
       "\t<li>'NE'</li>\n",
       "\t<li>'OR'</li>\n",
       "\t<li>'DE'</li>\n",
       "\t<li>'MN'</li>\n",
       "\t<li>'KS'</li>\n",
       "\t<li>'CO'</li>\n",
       "\t<li>'NM'</li>\n",
       "\t<li>'NV'</li>\n",
       "\t<li>'AR'</li>\n",
       "\t<li>'WA'</li>\n",
       "\t<li>'CT'</li>\n",
       "\t<li>'WI'</li>\n",
       "\t<li>'DC'</li>\n",
       "\t<li>'OK'</li>\n",
       "\t<li>'KY'</li>\n",
       "\t<li>'MA'</li>\n",
       "\t<li>'MS'</li>\n",
       "\t<li>'AL'</li>\n",
       "\t<li>'IN'</li>\n",
       "\t<li>'SC'</li>\n",
       "\t<li>'TN'</li>\n",
       "\t<li>'AZ'</li>\n",
       "\t<li>'NJ'</li>\n",
       "\t<li>'VA'</li>\n",
       "\t<li>'NC'</li>\n",
       "\t<li>'MD'</li>\n",
       "\t<li>'OH'</li>\n",
       "\t<li>'MO'</li>\n",
       "\t<li>'LA'</li>\n",
       "\t<li>'IL'</li>\n",
       "\t<li>'GA'</li>\n",
       "\t<li>'MI'</li>\n",
       "\t<li>'PA'</li>\n",
       "\t<li>'NY'</li>\n",
       "\t<li>'FL'</li>\n",
       "\t<li>'TX'</li>\n",
       "\t<li>'CA'</li>\n",
       "</ol>\n"
      ],
      "text/latex": [
       "\\begin{enumerate*}\n",
       "\\item 'VT'\n",
       "\\item 'ND'\n",
       "\\item 'NH'\n",
       "\\item 'WY'\n",
       "\\item 'HI'\n",
       "\\item 'SD'\n",
       "\\item 'ME'\n",
       "\\item 'ID'\n",
       "\\item 'MT'\n",
       "\\item 'RI'\n",
       "\\item 'AK'\n",
       "\\item 'IA'\n",
       "\\item 'UT'\n",
       "\\item 'WV'\n",
       "\\item 'NE'\n",
       "\\item 'OR'\n",
       "\\item 'DE'\n",
       "\\item 'MN'\n",
       "\\item 'KS'\n",
       "\\item 'CO'\n",
       "\\item 'NM'\n",
       "\\item 'NV'\n",
       "\\item 'AR'\n",
       "\\item 'WA'\n",
       "\\item 'CT'\n",
       "\\item 'WI'\n",
       "\\item 'DC'\n",
       "\\item 'OK'\n",
       "\\item 'KY'\n",
       "\\item 'MA'\n",
       "\\item 'MS'\n",
       "\\item 'AL'\n",
       "\\item 'IN'\n",
       "\\item 'SC'\n",
       "\\item 'TN'\n",
       "\\item 'AZ'\n",
       "\\item 'NJ'\n",
       "\\item 'VA'\n",
       "\\item 'NC'\n",
       "\\item 'MD'\n",
       "\\item 'OH'\n",
       "\\item 'MO'\n",
       "\\item 'LA'\n",
       "\\item 'IL'\n",
       "\\item 'GA'\n",
       "\\item 'MI'\n",
       "\\item 'PA'\n",
       "\\item 'NY'\n",
       "\\item 'FL'\n",
       "\\item 'TX'\n",
       "\\item 'CA'\n",
       "\\end{enumerate*}\n"
      ],
      "text/markdown": [
       "1. 'VT'\n",
       "2. 'ND'\n",
       "3. 'NH'\n",
       "4. 'WY'\n",
       "5. 'HI'\n",
       "6. 'SD'\n",
       "7. 'ME'\n",
       "8. 'ID'\n",
       "9. 'MT'\n",
       "10. 'RI'\n",
       "11. 'AK'\n",
       "12. 'IA'\n",
       "13. 'UT'\n",
       "14. 'WV'\n",
       "15. 'NE'\n",
       "16. 'OR'\n",
       "17. 'DE'\n",
       "18. 'MN'\n",
       "19. 'KS'\n",
       "20. 'CO'\n",
       "21. 'NM'\n",
       "22. 'NV'\n",
       "23. 'AR'\n",
       "24. 'WA'\n",
       "25. 'CT'\n",
       "26. 'WI'\n",
       "27. 'DC'\n",
       "28. 'OK'\n",
       "29. 'KY'\n",
       "30. 'MA'\n",
       "31. 'MS'\n",
       "32. 'AL'\n",
       "33. 'IN'\n",
       "34. 'SC'\n",
       "35. 'TN'\n",
       "36. 'AZ'\n",
       "37. 'NJ'\n",
       "38. 'VA'\n",
       "39. 'NC'\n",
       "40. 'MD'\n",
       "41. 'OH'\n",
       "42. 'MO'\n",
       "43. 'LA'\n",
       "44. 'IL'\n",
       "45. 'GA'\n",
       "46. 'MI'\n",
       "47. 'PA'\n",
       "48. 'NY'\n",
       "49. 'FL'\n",
       "50. 'TX'\n",
       "51. 'CA'\n",
       "\n",
       "\n"
      ],
      "text/plain": [
       " [1] \"VT\" \"ND\" \"NH\" \"WY\" \"HI\" \"SD\" \"ME\" \"ID\" \"MT\" \"RI\" \"AK\" \"IA\" \"UT\" \"WV\" \"NE\"\n",
       "[16] \"OR\" \"DE\" \"MN\" \"KS\" \"CO\" \"NM\" \"NV\" \"AR\" \"WA\" \"CT\" \"WI\" \"DC\" \"OK\" \"KY\" \"MA\"\n",
       "[31] \"MS\" \"AL\" \"IN\" \"SC\" \"TN\" \"AZ\" \"NJ\" \"VA\" \"NC\" \"MD\" \"OH\" \"MO\" \"LA\" \"IL\" \"GA\"\n",
       "[46] \"MI\" \"PA\" \"NY\" \"FL\" \"TX\" \"CA\""
      ]
     },
     "metadata": {},
     "output_type": "display_data"
    }
   ],
   "source": [
    "# one use case: order the abbreviations according to the total murders per state\n",
    "index <- order(murders$total)\n",
    "murders$abb[index]"
   ]
  },
  {
   "cell_type": "markdown",
   "id": "93434a95",
   "metadata": {},
   "source": [
    "### 3. `max` and `which.max` /  `min` and `which.min`\n",
    "\n",
    "Equivalent relationship as `sort` and `order`. `max` return the maximal value of a vector, `which.max` return the according index.\n",
    "\n",
    "`min` and `which.min` can be used in the same way."
   ]
  },
  {
   "cell_type": "code",
   "execution_count": 38,
   "id": "b94de8ee",
   "metadata": {},
   "outputs": [
    {
     "data": {
      "text/html": [
       "6"
      ],
      "text/latex": [
       "6"
      ],
      "text/markdown": [
       "6"
      ],
      "text/plain": [
       "[1] 6"
      ]
     },
     "metadata": {},
     "output_type": "display_data"
    },
    {
     "data": {
      "text/html": [
       "6"
      ],
      "text/latex": [
       "6"
      ],
      "text/markdown": [
       "6"
      ],
      "text/plain": [
       "[1] 6"
      ]
     },
     "metadata": {},
     "output_type": "display_data"
    }
   ],
   "source": [
    "x <- c(1,2,6,4,5)\n",
    "\n",
    "max(x)\n",
    "\n",
    "i_max <- which.max(x)\n",
    "x[i_max]"
   ]
  },
  {
   "cell_type": "code",
   "execution_count": 39,
   "id": "bacd3f94",
   "metadata": {},
   "outputs": [
    {
     "data": {
      "text/html": [
       "1257"
      ],
      "text/latex": [
       "1257"
      ],
      "text/markdown": [
       "1257"
      ],
      "text/plain": [
       "[1] 1257"
      ]
     },
     "metadata": {},
     "output_type": "display_data"
    },
    {
     "data": {
      "text/html": [
       "'California'"
      ],
      "text/latex": [
       "'California'"
      ],
      "text/markdown": [
       "'California'"
      ],
      "text/plain": [
       "[1] \"California\""
      ]
     },
     "metadata": {},
     "output_type": "display_data"
    }
   ],
   "source": [
    "# similar use case as above: get maximal murders and determine according state\n",
    "max(murders$total)\n",
    "i_max <- which.max(murders$total)\n",
    "murders$state[i_max]"
   ]
  },
  {
   "cell_type": "markdown",
   "id": "fb495576",
   "metadata": {},
   "source": [
    "### 4. `rank`\n",
    "\n",
    "Returns vector with the according ranks per entry, i.e. \"indices of the entries in a sorted (ascending!) vector\""
   ]
  },
  {
   "cell_type": "code",
   "execution_count": 40,
   "id": "3c13da60",
   "metadata": {},
   "outputs": [
    {
     "data": {
      "text/html": [
       "<ol class=list-inline>\n",
       "\t<li>4</li>\n",
       "\t<li>5</li>\n",
       "\t<li>6</li>\n",
       "\t<li>7</li>\n",
       "\t<li>8</li>\n",
       "\t<li>9</li>\n",
       "</ol>\n"
      ],
      "text/latex": [
       "\\begin{enumerate*}\n",
       "\\item 4\n",
       "\\item 5\n",
       "\\item 6\n",
       "\\item 7\n",
       "\\item 8\n",
       "\\item 9\n",
       "\\end{enumerate*}\n"
      ],
      "text/markdown": [
       "1. 4\n",
       "2. 5\n",
       "3. 6\n",
       "4. 7\n",
       "5. 8\n",
       "6. 9\n",
       "\n",
       "\n"
      ],
      "text/plain": [
       "[1] 4 5 6 7 8 9"
      ]
     },
     "metadata": {},
     "output_type": "display_data"
    },
    {
     "data": {
      "text/html": [
       "<ol class=list-inline>\n",
       "\t<li>6</li>\n",
       "\t<li>5</li>\n",
       "\t<li>4</li>\n",
       "\t<li>3</li>\n",
       "\t<li>2</li>\n",
       "\t<li>1</li>\n",
       "</ol>\n"
      ],
      "text/latex": [
       "\\begin{enumerate*}\n",
       "\\item 6\n",
       "\\item 5\n",
       "\\item 4\n",
       "\\item 3\n",
       "\\item 2\n",
       "\\item 1\n",
       "\\end{enumerate*}\n"
      ],
      "text/markdown": [
       "1. 6\n",
       "2. 5\n",
       "3. 4\n",
       "4. 3\n",
       "5. 2\n",
       "6. 1\n",
       "\n",
       "\n"
      ],
      "text/plain": [
       "[1] 6 5 4 3 2 1"
      ]
     },
     "metadata": {},
     "output_type": "display_data"
    }
   ],
   "source": [
    "x <- c(9,8,7,6,5,4)\n",
    "r_x <- rank(x)\n",
    "x[r_x]                # returns the same as sort(x)\n",
    "r_x"
   ]
  },
  {
   "cell_type": "markdown",
   "id": "8bc8ea8a",
   "metadata": {},
   "source": [
    "### 5. Beware of Recycling!"
   ]
  },
  {
   "cell_type": "code",
   "execution_count": 41,
   "id": "ffabd17d",
   "metadata": {},
   "outputs": [
    {
     "name": "stderr",
     "output_type": "stream",
     "text": [
      "Warning message in x + y:\n",
      "“Länge des längeren Objektes\n",
      " \t ist kein Vielfaches der Länge des kürzeren Objektes”"
     ]
    },
    {
     "data": {
      "text/html": [
       "<ol class=list-inline>\n",
       "\t<li>11</li>\n",
       "\t<li>22</li>\n",
       "\t<li>13</li>\n",
       "\t<li>24</li>\n",
       "\t<li>15</li>\n",
       "\t<li>26</li>\n",
       "\t<li>17</li>\n",
       "</ol>\n"
      ],
      "text/latex": [
       "\\begin{enumerate*}\n",
       "\\item 11\n",
       "\\item 22\n",
       "\\item 13\n",
       "\\item 24\n",
       "\\item 15\n",
       "\\item 26\n",
       "\\item 17\n",
       "\\end{enumerate*}\n"
      ],
      "text/markdown": [
       "1. 11\n",
       "2. 22\n",
       "3. 13\n",
       "4. 24\n",
       "5. 15\n",
       "6. 26\n",
       "7. 17\n",
       "\n",
       "\n"
      ],
      "text/plain": [
       "[1] 11 22 13 24 15 26 17"
      ]
     },
     "metadata": {},
     "output_type": "display_data"
    }
   ],
   "source": [
    "# an example\n",
    "x <- c(10, 20)\n",
    "y <- c(1,2,3,4,5,6,7)\n",
    "x + y                     # x and y have different lengths -> entries of x are \"recycled\""
   ]
  },
  {
   "cell_type": "code",
   "execution_count": 42,
   "id": "2a84715e",
   "metadata": {},
   "outputs": [],
   "source": [
    "# --------------------"
   ]
  },
  {
   "cell_type": "markdown",
   "id": "3d7ed35f",
   "metadata": {},
   "source": [
    "## Vector arithmetics"
   ]
  },
  {
   "cell_type": "markdown",
   "id": "85b4907e",
   "metadata": {},
   "source": [
    "### 1. Rescaling a Vector\n",
    "\n",
    "Arithmetic operations on vectors are elementwise."
   ]
  },
  {
   "cell_type": "code",
   "execution_count": 43,
   "id": "1cfb7d02",
   "metadata": {},
   "outputs": [
    {
     "data": {
      "text/html": [
       "<ol class=list-inline>\n",
       "\t<li>11</li>\n",
       "\t<li>12</li>\n",
       "\t<li>13</li>\n",
       "\t<li>14</li>\n",
       "\t<li>15</li>\n",
       "</ol>\n"
      ],
      "text/latex": [
       "\\begin{enumerate*}\n",
       "\\item 11\n",
       "\\item 12\n",
       "\\item 13\n",
       "\\item 14\n",
       "\\item 15\n",
       "\\end{enumerate*}\n"
      ],
      "text/markdown": [
       "1. 11\n",
       "2. 12\n",
       "3. 13\n",
       "4. 14\n",
       "5. 15\n",
       "\n",
       "\n"
      ],
      "text/plain": [
       "[1] 11 12 13 14 15"
      ]
     },
     "metadata": {},
     "output_type": "display_data"
    },
    {
     "data": {
      "text/html": [
       "<ol class=list-inline>\n",
       "\t<li>2</li>\n",
       "\t<li>4</li>\n",
       "\t<li>6</li>\n",
       "\t<li>8</li>\n",
       "\t<li>10</li>\n",
       "</ol>\n"
      ],
      "text/latex": [
       "\\begin{enumerate*}\n",
       "\\item 2\n",
       "\\item 4\n",
       "\\item 6\n",
       "\\item 8\n",
       "\\item 10\n",
       "\\end{enumerate*}\n"
      ],
      "text/markdown": [
       "1. 2\n",
       "2. 4\n",
       "3. 6\n",
       "4. 8\n",
       "5. 10\n",
       "\n",
       "\n"
      ],
      "text/plain": [
       "[1]  2  4  6  8 10"
      ]
     },
     "metadata": {},
     "output_type": "display_data"
    }
   ],
   "source": [
    "x <- c(1,2,3,4,5)\n",
    "x + 10                # e.g. for checking the difference of each element compared to the average\n",
    "x * 2                 # e.g. for converting units"
   ]
  },
  {
   "cell_type": "markdown",
   "id": "d370ae3c",
   "metadata": {},
   "source": [
    "### 2. Two Vectors\n",
    "\n",
    "Arithmetic operations are entry by entry, i.e.\n",
    "a     d     a+d\n",
    "b  +  e  =  b+e\n",
    "c     f     c+f"
   ]
  },
  {
   "cell_type": "code",
   "execution_count": 44,
   "id": "fffc143b",
   "metadata": {},
   "outputs": [
    {
     "data": {
      "text/html": [
       "<ol class=list-inline>\n",
       "\t<li>10</li>\n",
       "\t<li>10</li>\n",
       "\t<li>10</li>\n",
       "\t<li>10</li>\n",
       "\t<li>10</li>\n",
       "</ol>\n"
      ],
      "text/latex": [
       "\\begin{enumerate*}\n",
       "\\item 10\n",
       "\\item 10\n",
       "\\item 10\n",
       "\\item 10\n",
       "\\item 10\n",
       "\\end{enumerate*}\n"
      ],
      "text/markdown": [
       "1. 10\n",
       "2. 10\n",
       "3. 10\n",
       "4. 10\n",
       "5. 10\n",
       "\n",
       "\n"
      ],
      "text/plain": [
       "[1] 10 10 10 10 10"
      ]
     },
     "metadata": {},
     "output_type": "display_data"
    },
    {
     "data": {
      "text/html": [
       "<ol class=list-inline>\n",
       "\t<li>11</li>\n",
       "\t<li>22</li>\n",
       "\t<li>33</li>\n",
       "\t<li>44</li>\n",
       "\t<li>55</li>\n",
       "</ol>\n"
      ],
      "text/latex": [
       "\\begin{enumerate*}\n",
       "\\item 11\n",
       "\\item 22\n",
       "\\item 33\n",
       "\\item 44\n",
       "\\item 55\n",
       "\\end{enumerate*}\n"
      ],
      "text/markdown": [
       "1. 11\n",
       "2. 22\n",
       "3. 33\n",
       "4. 44\n",
       "5. 55\n",
       "\n",
       "\n"
      ],
      "text/plain": [
       "[1] 11 22 33 44 55"
      ]
     },
     "metadata": {},
     "output_type": "display_data"
    }
   ],
   "source": [
    "x <- c(1,2,3,4,5)\n",
    "y <- c(10,20,30,40,50)\n",
    "y / x\n",
    "x + y"
   ]
  },
  {
   "cell_type": "code",
   "execution_count": 45,
   "id": "77e164de",
   "metadata": {},
   "outputs": [],
   "source": [
    "# --------------------"
   ]
  },
  {
   "cell_type": "markdown",
   "id": "fbf98faa",
   "metadata": {},
   "source": [
    "## Indexing"
   ]
  },
  {
   "cell_type": "markdown",
   "id": "63f6133e",
   "metadata": {},
   "source": [
    "### 1. Subsetting with Logicals\n",
    "\n",
    "Define logicals to index vectors, i.e. \"use a logical vector based on a logical operation (`comparion`s) of the same length to index entries (via `TRUE`)\".\n",
    "\n",
    "Can also be used to determine how many elements of a vector meet a certain condition, as in a `sum()` `TRUE` is decoded/coerced as `1` and `FALSE` as `0`."
   ]
  },
  {
   "cell_type": "code",
   "execution_count": 46,
   "id": "d527e638",
   "metadata": {},
   "outputs": [
    {
     "data": {
      "text/html": [
       "<ol class=list-inline>\n",
       "\t<li>FALSE</li>\n",
       "\t<li>FALSE</li>\n",
       "\t<li>FALSE</li>\n",
       "\t<li>TRUE</li>\n",
       "\t<li>TRUE</li>\n",
       "\t<li>TRUE</li>\n",
       "\t<li>FALSE</li>\n",
       "\t<li>FALSE</li>\n",
       "\t<li>FALSE</li>\n",
       "</ol>\n"
      ],
      "text/latex": [
       "\\begin{enumerate*}\n",
       "\\item FALSE\n",
       "\\item FALSE\n",
       "\\item FALSE\n",
       "\\item TRUE\n",
       "\\item TRUE\n",
       "\\item TRUE\n",
       "\\item FALSE\n",
       "\\item FALSE\n",
       "\\item FALSE\n",
       "\\end{enumerate*}\n"
      ],
      "text/markdown": [
       "1. FALSE\n",
       "2. FALSE\n",
       "3. FALSE\n",
       "4. TRUE\n",
       "5. TRUE\n",
       "6. TRUE\n",
       "7. FALSE\n",
       "8. FALSE\n",
       "9. FALSE\n",
       "\n",
       "\n"
      ],
      "text/plain": [
       "[1] FALSE FALSE FALSE  TRUE  TRUE  TRUE FALSE FALSE FALSE"
      ]
     },
     "metadata": {},
     "output_type": "display_data"
    },
    {
     "data": {
      "text/html": [
       "<ol class=list-inline>\n",
       "\t<li>10</li>\n",
       "\t<li>20</li>\n",
       "\t<li>30</li>\n",
       "</ol>\n"
      ],
      "text/latex": [
       "\\begin{enumerate*}\n",
       "\\item 10\n",
       "\\item 20\n",
       "\\item 30\n",
       "\\end{enumerate*}\n"
      ],
      "text/markdown": [
       "1. 10\n",
       "2. 20\n",
       "3. 30\n",
       "\n",
       "\n"
      ],
      "text/plain": [
       "[1] 10 20 30"
      ]
     },
     "metadata": {},
     "output_type": "display_data"
    },
    {
     "data": {
      "text/html": [
       "3"
      ],
      "text/latex": [
       "3"
      ],
      "text/markdown": [
       "3"
      ],
      "text/plain": [
       "[1] 3"
      ]
     },
     "metadata": {},
     "output_type": "display_data"
    }
   ],
   "source": [
    "x <- c(1,2,3,10,20,30,4,5,6)\n",
    "index <- x > 9\n",
    "index\n",
    "x[index]\n",
    "sum(index)"
   ]
  },
  {
   "cell_type": "code",
   "execution_count": 47,
   "id": "61b866e3",
   "metadata": {},
   "outputs": [
    {
     "data": {
      "text/html": [
       "<ol class=list-inline>\n",
       "\t<li>'Hawaii'</li>\n",
       "\t<li>'Iowa'</li>\n",
       "\t<li>'New Hampshire'</li>\n",
       "\t<li>'North Dakota'</li>\n",
       "\t<li>'Vermont'</li>\n",
       "</ol>\n"
      ],
      "text/latex": [
       "\\begin{enumerate*}\n",
       "\\item 'Hawaii'\n",
       "\\item 'Iowa'\n",
       "\\item 'New Hampshire'\n",
       "\\item 'North Dakota'\n",
       "\\item 'Vermont'\n",
       "\\end{enumerate*}\n"
      ],
      "text/markdown": [
       "1. 'Hawaii'\n",
       "2. 'Iowa'\n",
       "3. 'New Hampshire'\n",
       "4. 'North Dakota'\n",
       "5. 'Vermont'\n",
       "\n",
       "\n"
      ],
      "text/plain": [
       "[1] \"Hawaii\"        \"Iowa\"          \"New Hampshire\" \"North Dakota\" \n",
       "[5] \"Vermont\"      "
      ]
     },
     "metadata": {},
     "output_type": "display_data"
    },
    {
     "data": {
      "text/html": [
       "5"
      ],
      "text/latex": [
       "5"
      ],
      "text/markdown": [
       "5"
      ],
      "text/plain": [
       "[1] 5"
      ]
     },
     "metadata": {},
     "output_type": "display_data"
    }
   ],
   "source": [
    "# use case: get all stated with a maximal murder rate of 0.71\n",
    "murder_rate <- murders$total / murders$population * 100000\n",
    "index <- murder_rate <= 0.71\n",
    "murders$state[index]\n",
    "sum(index)"
   ]
  },
  {
   "cell_type": "markdown",
   "id": "30ca2d31",
   "metadata": {},
   "source": [
    "### 2. Logical Operators\n",
    "\n",
    "\"Use the idea of subsetting with logical multiple time by combining the logical arrays with logical operators\"."
   ]
  },
  {
   "cell_type": "code",
   "execution_count": 48,
   "id": "dc6edea5",
   "metadata": {},
   "outputs": [
    {
     "data": {
      "text/html": [
       "TRUE"
      ],
      "text/latex": [
       "TRUE"
      ],
      "text/markdown": [
       "TRUE"
      ],
      "text/plain": [
       "[1] TRUE"
      ]
     },
     "metadata": {},
     "output_type": "display_data"
    },
    {
     "data": {
      "text/html": [
       "FALSE"
      ],
      "text/latex": [
       "FALSE"
      ],
      "text/markdown": [
       "FALSE"
      ],
      "text/plain": [
       "[1] FALSE"
      ]
     },
     "metadata": {},
     "output_type": "display_data"
    },
    {
     "data": {
      "text/html": [
       "FALSE"
      ],
      "text/latex": [
       "FALSE"
      ],
      "text/markdown": [
       "FALSE"
      ],
      "text/plain": [
       "[1] FALSE"
      ]
     },
     "metadata": {},
     "output_type": "display_data"
    },
    {
     "data": {
      "text/html": [
       "FALSE"
      ],
      "text/latex": [
       "FALSE"
      ],
      "text/markdown": [
       "FALSE"
      ],
      "text/plain": [
       "[1] FALSE"
      ]
     },
     "metadata": {},
     "output_type": "display_data"
    }
   ],
   "source": [
    "# logical operators in general\n",
    "TRUE & TRUE       # only TRUE & TRUE evaluates to TRUE\n",
    "TRUE & FALSE\n",
    "FALSE & TRUE\n",
    "FALSE & FALSE"
   ]
  },
  {
   "cell_type": "code",
   "execution_count": 49,
   "id": "477da544",
   "metadata": {},
   "outputs": [
    {
     "data": {
      "text/html": [
       "<ol class=list-inline>\n",
       "\t<li>4</li>\n",
       "\t<li>5</li>\n",
       "\t<li>6</li>\n",
       "</ol>\n"
      ],
      "text/latex": [
       "\\begin{enumerate*}\n",
       "\\item 4\n",
       "\\item 5\n",
       "\\item 6\n",
       "\\end{enumerate*}\n"
      ],
      "text/markdown": [
       "1. 4\n",
       "2. 5\n",
       "3. 6\n",
       "\n",
       "\n"
      ],
      "text/plain": [
       "[1] 4 5 6"
      ]
     },
     "metadata": {},
     "output_type": "display_data"
    }
   ],
   "source": [
    "# example\n",
    "x <- c(1,2,3,10,20,30,4,5,6)\n",
    "greater_3 <- x > 3\n",
    "smaller_10 <- x < 10\n",
    "between_4_and_9 <- greater_3 & smaller_10\n",
    "x[between_4_and_9]"
   ]
  },
  {
   "cell_type": "markdown",
   "id": "bb861a5e",
   "metadata": {},
   "source": [
    "### 3. `which`\n",
    "\n",
    "Similar to \"subsetting with logical\" but only keep indices of elements which meet requirement instead of keeping logical vector (more efficient!)."
   ]
  },
  {
   "cell_type": "code",
   "execution_count": 50,
   "id": "5df267e6",
   "metadata": {},
   "outputs": [
    {
     "data": {
      "text/html": [
       "3.37413830627813"
      ],
      "text/latex": [
       "3.37413830627813"
      ],
      "text/markdown": [
       "3.37413830627813"
      ],
      "text/plain": [
       "[1] 3.374138"
      ]
     },
     "metadata": {},
     "output_type": "display_data"
    },
    {
     "data": {
      "text/html": [
       "5"
      ],
      "text/latex": [
       "5"
      ],
      "text/markdown": [
       "5"
      ],
      "text/plain": [
       "[1] 5"
      ]
     },
     "metadata": {},
     "output_type": "display_data"
    }
   ],
   "source": [
    "# use case: get murder rate of certain state\n",
    "index <- which(murders$state == \"California\")\n",
    "murder_rate[index]\n",
    "index"
   ]
  },
  {
   "cell_type": "markdown",
   "id": "2dcf3ebb",
   "metadata": {},
   "source": [
    "### 4. `match`\n",
    "\n",
    "Similar to `which` but comparison with multiple objects possible."
   ]
  },
  {
   "cell_type": "code",
   "execution_count": 51,
   "id": "a3063972",
   "metadata": {},
   "outputs": [
    {
     "data": {
      "text/html": [
       "<ol class=list-inline>\n",
       "\t<li>2.66795994778023</li>\n",
       "\t<li>3.39806883024604</li>\n",
       "\t<li>3.20136027189849</li>\n",
       "</ol>\n"
      ],
      "text/latex": [
       "\\begin{enumerate*}\n",
       "\\item 2.66795994778023\n",
       "\\item 3.39806883024604\n",
       "\\item 3.20136027189849\n",
       "\\end{enumerate*}\n"
      ],
      "text/markdown": [
       "1. 2.66795994778023\n",
       "2. 3.39806883024604\n",
       "3. 3.20136027189849\n",
       "\n",
       "\n"
      ],
      "text/plain": [
       "[1] 2.667960 3.398069 3.201360"
      ]
     },
     "metadata": {},
     "output_type": "display_data"
    },
    {
     "data": {
      "text/html": [
       "<ol class=list-inline>\n",
       "\t<li>33</li>\n",
       "\t<li>10</li>\n",
       "\t<li>44</li>\n",
       "</ol>\n"
      ],
      "text/latex": [
       "\\begin{enumerate*}\n",
       "\\item 33\n",
       "\\item 10\n",
       "\\item 44\n",
       "\\end{enumerate*}\n"
      ],
      "text/markdown": [
       "1. 33\n",
       "2. 10\n",
       "3. 44\n",
       "\n",
       "\n"
      ],
      "text/plain": [
       "[1] 33 10 44"
      ]
     },
     "metadata": {},
     "output_type": "display_data"
    }
   ],
   "source": [
    "# use case: get murder rate of certain states\n",
    "index <- match(c(\"New York\", \"Florida\", \"Texas\"), murders$state)\n",
    "murder_rate[index]\n",
    "index"
   ]
  },
  {
   "cell_type": "markdown",
   "id": "460a17a6",
   "metadata": {},
   "source": [
    "### 5. `%in%`\n",
    "\n",
    "Similar to `match` but keeps the logical vector instead of just the indices."
   ]
  },
  {
   "cell_type": "code",
   "execution_count": 52,
   "id": "c0018047",
   "metadata": {},
   "outputs": [
    {
     "data": {
      "text/html": [
       "<ol class=list-inline>\n",
       "\t<li>FALSE</li>\n",
       "\t<li>TRUE</li>\n",
       "\t<li>FALSE</li>\n",
       "</ol>\n"
      ],
      "text/latex": [
       "\\begin{enumerate*}\n",
       "\\item FALSE\n",
       "\\item TRUE\n",
       "\\item FALSE\n",
       "\\end{enumerate*}\n"
      ],
      "text/markdown": [
       "1. FALSE\n",
       "2. TRUE\n",
       "3. FALSE\n",
       "\n",
       "\n"
      ],
      "text/plain": [
       "[1] FALSE  TRUE FALSE"
      ]
     },
     "metadata": {},
     "output_type": "display_data"
    }
   ],
   "source": [
    "c(9,10,11) %in% c(1,2,3,10,20,30,4,5,6)"
   ]
  },
  {
   "cell_type": "markdown",
   "id": "602a29bc",
   "metadata": {},
   "source": [
    "### 6. Some Notes\n",
    "\n",
    "Be careful with the returned indices/vectors. Depending on the function this value can be used for the \"first\" or \"second\" input only!\n",
    "\n",
    "`match`, `%in%` and `which` are connected and can be combined in different ways."
   ]
  },
  {
   "cell_type": "code",
   "execution_count": 53,
   "id": "c3edb30e",
   "metadata": {},
   "outputs": [
    {
     "data": {
      "text/html": [
       "<ol class=list-inline>\n",
       "\t<li>33</li>\n",
       "\t<li>10</li>\n",
       "\t<li>44</li>\n",
       "</ol>\n"
      ],
      "text/latex": [
       "\\begin{enumerate*}\n",
       "\\item 33\n",
       "\\item 10\n",
       "\\item 44\n",
       "\\end{enumerate*}\n"
      ],
      "text/markdown": [
       "1. 33\n",
       "2. 10\n",
       "3. 44\n",
       "\n",
       "\n"
      ],
      "text/plain": [
       "[1] 33 10 44"
      ]
     },
     "metadata": {},
     "output_type": "display_data"
    },
    {
     "data": {
      "text/html": [
       "<ol class=list-inline>\n",
       "\t<li>10</li>\n",
       "\t<li>33</li>\n",
       "\t<li>44</li>\n",
       "</ol>\n"
      ],
      "text/latex": [
       "\\begin{enumerate*}\n",
       "\\item 10\n",
       "\\item 33\n",
       "\\item 44\n",
       "\\end{enumerate*}\n"
      ],
      "text/markdown": [
       "1. 10\n",
       "2. 33\n",
       "3. 44\n",
       "\n",
       "\n"
      ],
      "text/plain": [
       "[1] 10 33 44"
      ]
     },
     "metadata": {},
     "output_type": "display_data"
    }
   ],
   "source": [
    "# example: same output with different order\n",
    "match(c(\"New York\", \"Florida\", \"Texas\"), murders$state)\n",
    "which(murders$state %in% c(\"New York\", \"Florida\", \"Texas\"))"
   ]
  },
  {
   "cell_type": "code",
   "execution_count": 54,
   "id": "8fd203ff",
   "metadata": {},
   "outputs": [],
   "source": [
    "# --------------------"
   ]
  },
  {
   "cell_type": "markdown",
   "id": "053f46b7",
   "metadata": {},
   "source": [
    "##### End of Section 1!"
   ]
  }
 ],
 "metadata": {
  "@webio": {
   "lastCommId": null,
   "lastKernelId": null
  },
  "kernelspec": {
   "display_name": "R",
   "language": "R",
   "name": "ir"
  },
  "language_info": {
   "codemirror_mode": "r",
   "file_extension": ".r",
   "mimetype": "text/x-r-source",
   "name": "R",
   "pygments_lexer": "r",
   "version": "3.6.1"
  }
 },
 "nbformat": 4,
 "nbformat_minor": 5
}
