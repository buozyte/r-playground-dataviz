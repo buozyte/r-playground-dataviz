{
 "cells": [
  {
   "cell_type": "markdown",
   "id": "6cfbfb8a",
   "metadata": {},
   "source": [
    "# Section 12 - Supervised Learning"
   ]
  },
  {
   "cell_type": "code",
   "execution_count": 1,
   "id": "d795e92d",
   "metadata": {},
   "outputs": [
    {
     "name": "stderr",
     "output_type": "stream",
     "text": [
      "\n",
      "Attaching package: ‘magrittr’\n",
      "\n",
      "The following object is masked from ‘package:tidyr’:\n",
      "\n",
      "    extract\n",
      "\n",
      "Loading required package: lattice\n",
      "randomForest 4.6-14\n",
      "Type rfNews() to see new features/changes/bug fixes.\n",
      "\n",
      "Attaching package: ‘randomForest’\n",
      "\n",
      "The following object is masked from ‘package:gridExtra’:\n",
      "\n",
      "    combine\n",
      "\n",
      "The following object is masked from ‘package:ggplot2’:\n",
      "\n",
      "    margin\n",
      "\n"
     ]
    }
   ],
   "source": [
    "library(ggplot2)\n",
    "library(tidyr)\n",
    "library(magrittr)\n",
    "library(gridExtra)\n",
    "library(data.table)\n",
    "\n",
    "# install.packages(\"caret\", DEPENDENCIES=true)\n",
    "library(caret)\n",
    "\n",
    "# install.packages(\"randomForest\")\n",
    "library(randomForest)\n",
    "\n",
    "options(repr.plot.width = 7, repr.plot.height = 5, repr.plot.res = 100)\n",
    "options(warn=-1)\n",
    "\n",
    "file_path <- file.path(\"/Users\", \"donatabuozyte\", \"Downloads\", \"extdata\")"
   ]
  },
  {
   "cell_type": "code",
   "execution_count": 2,
   "id": "bcfac9bf",
   "metadata": {},
   "outputs": [],
   "source": [
    "# --------------------"
   ]
  },
  {
   "cell_type": "markdown",
   "id": "7cfde82b",
   "metadata": {},
   "source": [
    "## Introduction"
   ]
  },
  {
   "cell_type": "markdown",
   "id": "35bd4693",
   "metadata": {},
   "source": [
    "### 1. Motivation\n",
    "\n",
    "Interested in good prediction, not in identifying most predictive features or drawing conclusions about statistical independence.\n",
    "\n",
    "New goal is less ambitious, but focuses on prediction accuracy."
   ]
  },
  {
   "cell_type": "markdown",
   "id": "143a3b0a",
   "metadata": {},
   "source": [
    "### 2. Supervised vs. Unsupervised Learning\n",
    "\n",
    "Supervised learning: build model taking feature values as input and returning predictions by training an algorithm.\n",
    "\n",
    "Unsupervised learning: build model identifying patterns in distribution of data.\n",
    "\n",
    "---\n",
    "\n",
    "In terms of statistical learning:\n",
    "- supervised learning: fit conditional distribution $p(y|x)$ with outcome $y$ and input $x$.\n",
    "- unsupervised learning: fit distribution $p(x)$ or some aspects of it."
   ]
  },
  {
   "cell_type": "markdown",
   "id": "f321ac68",
   "metadata": {},
   "source": [
    "### 3. Notation\n",
    "\n",
    "Outcome (to be predicted): $y$.\n",
    "\n",
    "Features (predict the outcome): $x_{1}, \\ldots, x_{p}$"
   ]
  },
  {
   "cell_type": "markdown",
   "id": "42793657",
   "metadata": {},
   "source": [
    "### 4. Basic Approach in Supervised Machine Learning\n",
    "\n",
    "Regression/classification tasks: have series of features and unknown numeric or categorical outcome.\n",
    "\n",
    "How to build model:\n",
    "1. collect data where outcome is known.\n",
    "2. train model based on this data.\n",
    "3. use trained model to determine unknown outcomes."
   ]
  },
  {
   "cell_type": "code",
   "execution_count": 3,
   "id": "75d1ac9f",
   "metadata": {},
   "outputs": [],
   "source": [
    "# --------------------"
   ]
  },
  {
   "cell_type": "markdown",
   "id": "a8c8ce31",
   "metadata": {},
   "source": [
    "## Over- and Underfitting\n",
    "\n",
    "Goal: model generalizing well and capturing trend of data.\n",
    "\n",
    "Underfitting: model does not capture trend of data -> hight error between actual and predicted outcomes.\n",
    "\n",
    "Overfitting: model does not generelize well, but fits training data too well"
   ]
  },
  {
   "cell_type": "markdown",
   "id": "caeaaccc",
   "metadata": {},
   "source": [
    "### 1. Example: Polynomial Curve Fitting\n",
    "\n",
    "Data: $n = 10$, generated via $f(x) = \\sin{(2 \\pi x)}$ with added random noise from normal distribution.\n",
    "\n",
    "Model: $y(x, x) = \\sum_{j=0}^{m} w_{j} x^{j}$. (Note: non-linear in $x$, but linear in coefficients $w$)\n",
    "\n",
    "Find coefficients: use linear regression model to find $w^{*}$ for given order $m$.\n",
    "\n",
    "---\n",
    "\n",
    "Results:\n",
    "- $m \\in \\{0,1\\}$: underfitting.\n",
    "- $m=3$: quite good approximation, captures trends well, good generalization.\n",
    "- $m \\in \\{9,10\\}$: overfitting.\n",
    "\n",
    "---\n",
    "\n",
    "Conclusion:\n",
    "\n",
    "As supervised learning depends only on data, the complexity (e.g. the order of polynomials) of the functions in the possible models should be chosen based on data and amount of data. For example, polynomial degree should be lower than available number of data points.\n",
    "\n",
    "Also, instead of minimizing the error on training data, one could minimize the (generalization) error on unseen data."
   ]
  },
  {
   "cell_type": "code",
   "execution_count": 4,
   "id": "10809a58",
   "metadata": {},
   "outputs": [],
   "source": [
    "# --------------------"
   ]
  },
  {
   "cell_type": "markdown",
   "id": "a0538c78",
   "metadata": {},
   "source": [
    "## Splitting Dataset for Performance Assessment\n",
    "\n",
    "Initial datasets:\n",
    "- available dataset (known outcomes)\n",
    "- independent dataset (unknown outcomes)\n",
    "\n",
    "Assumption: all observation are i.i.d.\n",
    "\n",
    "---\n",
    "\n",
    "Common strategy: divide available dataset into training data (to train model) and test data (to evaluate the performance of the trained model)."
   ]
  },
  {
   "cell_type": "markdown",
   "id": "56574382",
   "metadata": {},
   "source": [
    "### 1. Overfitting to Training Dataset\n",
    "\n",
    "Detected when measured error on test data notably larger than on training data.\n",
    "\n",
    "Alternatives:\n",
    "- performance measures (precision, recall)\n",
    "- visualize performance on training vs. test data (ROC, precision-recall curves)"
   ]
  },
  {
   "cell_type": "markdown",
   "id": "02101c8a",
   "metadata": {},
   "source": [
    "### 2. Cross-validation\n",
    "\n",
    "Strategy to assess preformance of model to prevent overfitting.\n",
    "\n",
    "Idea:\n",
    "1. split data randomly into $k$ different folds.\n",
    "2. train model on $k-1$ folds.\n",
    "3. evaluate on fold not used for training.\n",
    "\n",
    "How to pick $k$:\n",
    "- large $k$: good, but slow computation\n",
    "- usually: $k \\in \\{5, 10\\}$"
   ]
  },
  {
   "cell_type": "markdown",
   "id": "e75ac02d",
   "metadata": {},
   "source": [
    "#### 2.1 Pitfalls of Cross-validation\n",
    "\n",
    "Assumption: training and test samples i.i.d. (otherwise test data could e.g. contain data not included in training data).\n",
    "\n",
    "---\n",
    "\n",
    "*Example: non-independent dustributions*\n",
    "\n",
    "Dataset: contains repeated measures, between replicated simulated trend is $x=y$.\n",
    "\n",
    "Cross-validation at data point level: favors models learning clusters.\n",
    "\n",
    "Cross-validation at cluster level: learn trend across clusters, but difficult without application knowledge."
   ]
  },
  {
   "cell_type": "markdown",
   "id": "65d860ab",
   "metadata": {},
   "source": [
    "#### 2.2 Cross-validation in R (`trainControl()`, `train()`)\n",
    "\n",
    "Define validation specifications via `trainControl()`.\n",
    "\n",
    "Train model via `train()` with previously defined training control for cross validation."
   ]
  },
  {
   "cell_type": "code",
   "execution_count": 5,
   "id": "3f5306ae",
   "metadata": {},
   "outputs": [],
   "source": [
    "# example:\n",
    "#   logistic regression for binary classification of gender based on height values\n",
    "\n",
    "heights_dt <- fread(file.path(file_path, \"height.csv\")) %>%\n",
    "                na.omit() %>%\n",
    "                .[sex %in% c(\"F\", \"M\")] %>%\n",
    "                .[, sex:=as.factor(toupper(sex))]\n",
    "\n",
    "# generate control structure\n",
    "k <- 5    # number of folds\n",
    "fitControl <- trainControl(method = \"cv\",                        # cv for cross-validation\n",
    "                           number = k, \n",
    "                           classProbs=TRUE,                      # compute class probabilities \n",
    "                           summaryFunction = twoClassSummary     # for computing sensitivity, specificity, area\n",
    "                                                                 #     under ROC curve\n",
    "                                                                 #     (for performance measure)\n",
    "                           )"
   ]
  },
  {
   "cell_type": "code",
   "execution_count": 6,
   "id": "e33d3282",
   "metadata": {},
   "outputs": [
    {
     "data": {
      "text/plain": [
       "Generalized Linear Model \n",
       "\n",
       "540 samples\n",
       "  4 predictor\n",
       "  2 classes: 'F', 'M' \n",
       "\n",
       "No pre-processing\n",
       "Resampling: Cross-Validated (5 fold) \n",
       "Summary of sample sizes: 433, 432, 432, 431, 432 \n",
       "Resampling results:\n",
       "\n",
       "  ROC        Sens       Spec     \n",
       "  0.9665917  0.9009412  0.9026013\n"
      ]
     },
     "metadata": {},
     "output_type": "display_data"
    },
    {
     "data": {
      "text/html": [
       "<table>\n",
       "<thead><tr><th scope=col>ROC</th><th scope=col>Sens</th><th scope=col>Spec</th><th scope=col>Resample</th></tr></thead>\n",
       "<tbody>\n",
       "\t<tr><td>0.9628070</td><td>0.9400000</td><td>0.9122807</td><td>Fold1    </td></tr>\n",
       "\t<tr><td>0.9596552</td><td>0.9000000</td><td>0.8965517</td><td>Fold2    </td></tr>\n",
       "\t<tr><td>0.9706897</td><td>0.9000000</td><td>0.9137931</td><td>Fold3    </td></tr>\n",
       "\t<tr><td>0.9800541</td><td>0.8823529</td><td>0.9482759</td><td>Fold4    </td></tr>\n",
       "\t<tr><td>0.9597523</td><td>0.8823529</td><td>0.8421053</td><td>Fold5    </td></tr>\n",
       "</tbody>\n",
       "</table>\n"
      ],
      "text/latex": [
       "\\begin{tabular}{r|llll}\n",
       " ROC & Sens & Spec & Resample\\\\\n",
       "\\hline\n",
       "\t 0.9628070 & 0.9400000 & 0.9122807 & Fold1    \\\\\n",
       "\t 0.9596552 & 0.9000000 & 0.8965517 & Fold2    \\\\\n",
       "\t 0.9706897 & 0.9000000 & 0.9137931 & Fold3    \\\\\n",
       "\t 0.9800541 & 0.8823529 & 0.9482759 & Fold4    \\\\\n",
       "\t 0.9597523 & 0.8823529 & 0.8421053 & Fold5    \\\\\n",
       "\\end{tabular}\n"
      ],
      "text/markdown": [
       "\n",
       "| ROC | Sens | Spec | Resample |\n",
       "|---|---|---|---|\n",
       "| 0.9628070 | 0.9400000 | 0.9122807 | Fold1     |\n",
       "| 0.9596552 | 0.9000000 | 0.8965517 | Fold2     |\n",
       "| 0.9706897 | 0.9000000 | 0.9137931 | Fold3     |\n",
       "| 0.9800541 | 0.8823529 | 0.9482759 | Fold4     |\n",
       "| 0.9597523 | 0.8823529 | 0.8421053 | Fold5     |\n",
       "\n"
      ],
      "text/plain": [
       "  ROC       Sens      Spec      Resample\n",
       "1 0.9628070 0.9400000 0.9122807 Fold1   \n",
       "2 0.9596552 0.9000000 0.8965517 Fold2   \n",
       "3 0.9706897 0.9000000 0.9137931 Fold3   \n",
       "4 0.9800541 0.8823529 0.9482759 Fold4   \n",
       "5 0.9597523 0.8823529 0.8421053 Fold5   "
      ]
     },
     "metadata": {},
     "output_type": "display_data"
    },
    {
     "data": {
      "text/plain": [
       "\n",
       "Call:  NULL\n",
       "\n",
       "Coefficients:\n",
       "         (Intercept)                height                mother  \n",
       "            -26.2826                0.5084               -0.1829  \n",
       "              father  `V5King of the Hill`  \n",
       "             -0.1780                2.8171  \n",
       "\n",
       "Degrees of Freedom: 539 Total (i.e. Null);  535 Residual\n",
       "Null Deviance:\t    746.2 \n",
       "Residual Deviance: 247.3 \tAIC: 257.3"
      ]
     },
     "metadata": {},
     "output_type": "display_data"
    }
   ],
   "source": [
    "# run CV\n",
    "lr_fit <- train(sex~.,                      # formula and dataset definition\n",
    "                data = heights_dt,          # formula and dataset definition\n",
    "                method = \"glm\",             # model specification\n",
    "                family = \"binomial\",        # model specification\n",
    "                trControl = fitControl,     # validation specification\n",
    "                metric = \"ROC\",             # Specify which metric to optimize\n",
    "                )\n",
    "\n",
    "# return average values for sensitivity, specificity, area under ROC curve of the k trained models\n",
    "lr_fit\n",
    "\n",
    "# return preformance measures for each model\n",
    "lr_fit$resample\n",
    "\n",
    "# return final model\n",
    "lr_fit$finalModel"
   ]
  },
  {
   "cell_type": "code",
   "execution_count": 7,
   "id": "1ce8529f",
   "metadata": {},
   "outputs": [],
   "source": [
    "# --------------------"
   ]
  },
  {
   "cell_type": "markdown",
   "id": "55864c4f",
   "metadata": {},
   "source": [
    "## Random Forests as Alternative Models\n",
    "\n",
    "Go-to non-interpretable supervised learning model, can achieve state-of-the-art performance.\n",
    "\n",
    "Application: regression or classification.\n",
    "\n",
    "Robust to overfitting, allows fitting flexible functions."
   ]
  },
  {
   "cell_type": "markdown",
   "id": "1af5e2a2",
   "metadata": {},
   "source": [
    "### 1. Basics of Decision Trees\n",
    "\n",
    "Idea: partition or segment training dataset into severla simple regions.\n",
    "\n",
    "Make prediction for new input by using mean/mode of training observations on region to which new input is assigned."
   ]
  },
  {
   "cell_type": "markdown",
   "id": "215939fa",
   "metadata": {},
   "source": [
    "#### 1.1 Decision Trees for Regression Tasks\n",
    "\n",
    "Example: dataset predicting baseball player's salary based on feature years (most important feature) and hits.\n",
    "\n",
    "Splits in decision tree:\n",
    "- $\\text{Years} < 4.5$: if true then salary is $5.11$, else ...\n",
    "- $\\text{Hits} < 117.5$: if true then salary is $6.00$, else $6.74$.\n",
    "\n",
    "Divide players into regions (*leaf nodes*) defined by decision tree, i.e.:\n",
    "- $R_{1} = \\{ X | \\text{Years} < 4.5 \\}$\n",
    "- $R_{2} = \\{ X | \\text{Years} \\geq 4.5, \\text{Hits} < 117.5 \\}$\n",
    "- $R_{3} = \\{ X | \\text{Years} \\geq 4.5, \\text{Hits} \\geq 117.5 \\}$\n",
    "\n",
    "---\n",
    "\n",
    "*How to choose splits:*\n",
    "\n",
    "Goal: find regions s.t. RSS is minimized, i.e. $\\mathrm{arg} \\min_{R_{j}} \\sum_{j=1}^{J} \\sum_{i \\in R_{j}} (y_{i} - \\hat{y}_{R_{j}})^{2}$.\n",
    "\n",
    "Problem: computationally unfeasible due to number of possible partitions.\n",
    "\n",
    "Solution: top-down greedy approach.\n",
    "\n",
    "Approach: (iteratively) select feature $X_{j}$, threshold $s$ s.t. split $R_{1}(j,s) = X|X_{j} < s$, $R_{2}(j,s) = X|X_{j} \\geq s$ results in best reduction in RSS, i.e. $\\min_{j, s} \\sum_{i \\in R_{1}(j,s)} (y_{i} - \\hat{y}_{R_{1}})^{2} + \\sum_{i \\in R_{2}(j,s)} (y_{i} - \\hat{y}_{R_{2}})^{2}$, until stopping criterion is met.\n",
    "\n",
    "Result: $J$ regions, predict outcome of any sample by assigning sample to region (outcome of sample = mean of observations in that region)."
   ]
  },
  {
   "cell_type": "markdown",
   "id": "190e08e7",
   "metadata": {},
   "source": [
    "#### 1.2 Decision Trees for Classification Tasks\n",
    "\n",
    "Similar to regression, but prediction is most commonly occuring class of observations in region.\n",
    "\n",
    "Additionally: use cross-entropy instead of RSS as splitting criterion."
   ]
  },
  {
   "cell_type": "markdown",
   "id": "92b66536",
   "metadata": {},
   "source": [
    "### 2. Random Forests for Classification and Regression Tasks\n",
    "\n",
    "Idea: aggregation/bagging, i.e. generate many different predictors via decision trees with bootstrapping (for randomness), and combine them.\n",
    "\n",
    "Steps:\n",
    "1. build $B$ decision trees using training data (fitted models: $T_{1}, \\ldots, T_{B}$).\n",
    "2. for every observation in the test set predict $\\hat{y}_{j}$ using tree $T_{j}$.\n",
    "3. final prediction: $\\hat{y} = \\frac{1}{B} \\sum_{j=1}^{B} \\hat{y}_{j}$ for continuous outcomes; $\\hat{y}$ with the majority vote for categorical outcomes.\n",
    "\n",
    "---\n",
    "\n",
    "Ensure that trees in forest are different via randomness in two ways:\n",
    "1. boostrap training data by sampling all observations in training data with replacement (hence all trees are trained on different data).\n",
    "2. randomly select subset of features to be included in building of every tree (hence not all features considered for each tree) and select different subset for each tree. This reduces correlation, prevents overfitting."
   ]
  },
  {
   "cell_type": "markdown",
   "id": "12663f6a",
   "metadata": {},
   "source": [
    "### 3. Random Forests in R (`randomForest()`)\n",
    "\n",
    "Note: optimize/tune hyperparameters for each application for better performance."
   ]
  },
  {
   "cell_type": "code",
   "execution_count": 8,
   "id": "ce8a3157",
   "metadata": {},
   "outputs": [
    {
     "data": {
      "text/plain": [
       "\n",
       "Call:\n",
       " randomForest(formula = sex ~ ., data = heights_dt, ntree = 100,      nodesize = 5, maxnodes = 30, importance = TRUE) \n",
       "               Type of random forest: classification\n",
       "                     Number of trees: 100\n",
       "No. of variables tried at each split: 1\n",
       "\n",
       "        OOB estimate of  error rate: 10.19%\n",
       "Confusion matrix:\n",
       "    F   M class.error\n",
       "F 227  25  0.09920635\n",
       "M  30 258  0.10416667"
      ]
     },
     "metadata": {},
     "output_type": "display_data"
    },
    {
     "data": {
      "text/html": [
       "<table>\n",
       "<thead><tr><th></th><th scope=col>F</th><th scope=col>M</th><th scope=col>MeanDecreaseAccuracy</th><th scope=col>MeanDecreaseGini</th></tr></thead>\n",
       "<tbody>\n",
       "\t<tr><th scope=row>height</th><td>0.35319603 </td><td>0.291433521</td><td>0.31947897 </td><td>152.06655  </td></tr>\n",
       "\t<tr><th scope=row>mother</th><td>0.03919943 </td><td>0.007175171</td><td>0.02241581 </td><td> 19.29353  </td></tr>\n",
       "\t<tr><th scope=row>father</th><td>0.04425455 </td><td>0.026287798</td><td>0.03476921 </td><td> 26.05173  </td></tr>\n",
       "</tbody>\n",
       "</table>\n"
      ],
      "text/latex": [
       "\\begin{tabular}{r|llll}\n",
       "  & F & M & MeanDecreaseAccuracy & MeanDecreaseGini\\\\\n",
       "\\hline\n",
       "\theight & 0.35319603  & 0.291433521 & 0.31947897  & 152.06655  \\\\\n",
       "\tmother & 0.03919943  & 0.007175171 & 0.02241581  &  19.29353  \\\\\n",
       "\tfather & 0.04425455  & 0.026287798 & 0.03476921  &  26.05173  \\\\\n",
       "\\end{tabular}\n"
      ],
      "text/markdown": [
       "\n",
       "| <!--/--> | F | M | MeanDecreaseAccuracy | MeanDecreaseGini |\n",
       "|---|---|---|---|---|\n",
       "| height | 0.35319603  | 0.291433521 | 0.31947897  | 152.06655   |\n",
       "| mother | 0.03919943  | 0.007175171 | 0.02241581  |  19.29353   |\n",
       "| father | 0.04425455  | 0.026287798 | 0.03476921  |  26.05173   |\n",
       "\n"
      ],
      "text/plain": [
       "       F          M           MeanDecreaseAccuracy MeanDecreaseGini\n",
       "height 0.35319603 0.291433521 0.31947897           152.06655       \n",
       "mother 0.03919943 0.007175171 0.02241581            19.29353       \n",
       "father 0.04425455 0.026287798 0.03476921            26.05173       "
      ]
     },
     "metadata": {},
     "output_type": "display_data"
    }
   ],
   "source": [
    "# example:\n",
    "#   train random forest classifier for predicting gender of each person given height values\n",
    "\n",
    "heights_dt$V5 <- NULL\n",
    "rf_classifier <- randomForest(sex~.,               # Define formula and data\n",
    "                              data=heights_dt,     # Define formula and data\n",
    "                              \n",
    "                              # Hyper parameters (for each tree in forest)\n",
    "                              ntree=100,           # Define number of trees\n",
    "                              nodesize = 5,        # Minimum size of leaf nodes\n",
    "                              maxnodes = 30,       # Maximum number of leaf nodes\n",
    "                                                           \n",
    "                              importance=TRUE      # Output the feature importances\n",
    "                              )\n",
    "\n",
    "rf_classifier\n",
    "\n",
    "rf_classifier$importance\n",
    "\n",
    "# observations:\n",
    "#   - height of person most important feature\n",
    "#   - mother's height more important for predicting females\n",
    "#   - father's height more important for predicting males"
   ]
  },
  {
   "cell_type": "code",
   "execution_count": 9,
   "id": "7c7a218b",
   "metadata": {},
   "outputs": [
    {
     "data": {
      "text/html": [
       "<table>\n",
       "<thead><tr><th scope=col>height</th><th scope=col>sex</th><th scope=col>mother</th><th scope=col>father</th><th scope=col>sex_predicted</th></tr></thead>\n",
       "<tbody>\n",
       "\t<tr><td>150</td><td>F  </td><td>170</td><td>177</td><td>F  </td></tr>\n",
       "\t<tr><td>152</td><td>F  </td><td>157</td><td>175</td><td>F  </td></tr>\n",
       "\t<tr><td>152</td><td>F  </td><td>155</td><td>156</td><td>F  </td></tr>\n",
       "\t<tr><td>153</td><td>F  </td><td>155</td><td>175</td><td>F  </td></tr>\n",
       "\t<tr><td>153</td><td>F  </td><td>150</td><td>176</td><td>F  </td></tr>\n",
       "\t<tr><td>153</td><td>F  </td><td>150</td><td>165</td><td>F  </td></tr>\n",
       "</tbody>\n",
       "</table>\n"
      ],
      "text/latex": [
       "\\begin{tabular}{r|lllll}\n",
       " height & sex & mother & father & sex\\_predicted\\\\\n",
       "\\hline\n",
       "\t 150 & F   & 170 & 177 & F  \\\\\n",
       "\t 152 & F   & 157 & 175 & F  \\\\\n",
       "\t 152 & F   & 155 & 156 & F  \\\\\n",
       "\t 153 & F   & 155 & 175 & F  \\\\\n",
       "\t 153 & F   & 150 & 176 & F  \\\\\n",
       "\t 153 & F   & 150 & 165 & F  \\\\\n",
       "\\end{tabular}\n"
      ],
      "text/markdown": [
       "\n",
       "| height | sex | mother | father | sex_predicted |\n",
       "|---|---|---|---|---|\n",
       "| 150 | F   | 170 | 177 | F   |\n",
       "| 152 | F   | 157 | 175 | F   |\n",
       "| 152 | F   | 155 | 156 | F   |\n",
       "| 153 | F   | 155 | 175 | F   |\n",
       "| 153 | F   | 150 | 176 | F   |\n",
       "| 153 | F   | 150 | 165 | F   |\n",
       "\n"
      ],
      "text/plain": [
       "  height sex mother father sex_predicted\n",
       "1 150    F   170    177    F            \n",
       "2 152    F   157    175    F            \n",
       "3 152    F   155    156    F            \n",
       "4 153    F   155    175    F            \n",
       "5 153    F   150    176    F            \n",
       "6 153    F   150    165    F            "
      ]
     },
     "metadata": {},
     "output_type": "display_data"
    }
   ],
   "source": [
    "heights_dt[, sex_predicted := predict(rf_classifier, heights_dt[,-c(\"sex\")])]\n",
    "head(heights_dt)"
   ]
  },
  {
   "cell_type": "markdown",
   "id": "053f46b7",
   "metadata": {},
   "source": [
    "##### End of Section 12!"
   ]
  },
  {
   "cell_type": "markdown",
   "id": "33ff9e69",
   "metadata": {},
   "source": [
    "##### End of the lecture! :)"
   ]
  }
 ],
 "metadata": {
  "@webio": {
   "lastCommId": null,
   "lastKernelId": null
  },
  "kernelspec": {
   "display_name": "R",
   "language": "R",
   "name": "ir"
  },
  "language_info": {
   "codemirror_mode": "r",
   "file_extension": ".r",
   "mimetype": "text/x-r-source",
   "name": "R",
   "pygments_lexer": "r",
   "version": "3.6.1"
  }
 },
 "nbformat": 4,
 "nbformat_minor": 5
}
