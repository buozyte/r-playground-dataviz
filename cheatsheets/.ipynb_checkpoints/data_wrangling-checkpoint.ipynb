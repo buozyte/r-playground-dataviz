{
 "cells": [
  {
   "cell_type": "markdown",
   "id": "1ce8da6c",
   "metadata": {},
   "source": [
    "# Section 2 - Data Wrangling"
   ]
  },
  {
   "cell_type": "markdown",
   "id": "85110ab2",
   "metadata": {},
   "source": [
    "## Short Introduction to Piping\n",
    "\n",
    "Pipe operator `%>%` is used to pipe/forward an argument or expression into the next function call or expression. It is provided by the `magrittr` package."
   ]
  },
  {
   "cell_type": "code",
   "execution_count": 1,
   "id": "253cc771",
   "metadata": {},
   "outputs": [
    {
     "data": {
      "text/html": [
       "10"
      ],
      "text/latex": [
       "10"
      ],
      "text/markdown": [
       "10"
      ],
      "text/plain": [
       "[1] 10"
      ]
     },
     "metadata": {},
     "output_type": "display_data"
    },
    {
     "data": {
      "text/html": [
       "1"
      ],
      "text/latex": [
       "1"
      ],
      "text/markdown": [
       "1"
      ],
      "text/plain": [
       "[1] 1"
      ]
     },
     "metadata": {},
     "output_type": "display_data"
    },
    {
     "data": {
      "text/html": [
       "3"
      ],
      "text/latex": [
       "3"
      ],
      "text/markdown": [
       "3"
      ],
      "text/plain": [
       "[1] 3"
      ]
     },
     "metadata": {},
     "output_type": "display_data"
    }
   ],
   "source": [
    "# install.packages(\"magrittr\")\n",
    "library(magrittr)\n",
    "\n",
    "# examples\n",
    "c(1,2,3,4) %>% sum()                        # equivalent to: sum(c(1,2,3,4))\n",
    "c(1,2,3,4) %>% sum() %>% log(base = 10)     # equivalent to: log(sum(c(1,2,3,4)), base = 10)\n",
    "\n",
    "# pipe into another element with `.`\n",
    "c(1,2,3,4) %>% sum() %>% log(1000, .)     # equivalent to: log(1000, base = sum(c(1,2,3,4)))"
   ]
  },
  {
   "cell_type": "code",
   "execution_count": 2,
   "id": "6c472d79",
   "metadata": {},
   "outputs": [],
   "source": [
    "# --------------------"
   ]
  },
  {
   "cell_type": "markdown",
   "id": "6cfbfb8a",
   "metadata": {},
   "source": [
    "## `data.table`s"
   ]
  },
  {
   "cell_type": "markdown",
   "id": "49223b0a",
   "metadata": {},
   "source": [
    "### 1. Overview\n",
    "\n",
    "Modern implementation of `data.frame`s, less complicated (better syntax), memory efficient and a lot faster. Compatibility with `data.frame` functions.\n",
    "\n",
    "Operates on columns by reference (modifications in a `data.frame` lead to copies). Does not require row names. All columns have to have the same length.\n",
    "\n",
    "Basic syntax: `DT[i = row(s), j = column(s), by = grouped by]`\n",
    "\n",
    "(\"Take `DT`, subset rows by `i`, then compute `j` grouped by `by`.\")\n",
    "\n",
    "Big advantage of `data.table`s: within `[]` the columns names are handled like variables, i.e. they are interpreted using the `data.table` enviroment, which makes column operations very powerful (more on that later)!\n",
    "\n",
    "Do not forget: R interprets everything in `\" \"` or `' '` as a string. Hence if it should refer to a variable name of an `data.table`, `` ` ` `` (backticks) have to be used."
   ]
  },
  {
   "cell_type": "markdown",
   "id": "cfa42194",
   "metadata": {},
   "source": [
    "### 2. Creating and Loading Tables\n",
    "\n",
    "`data.table`s require the according package.\n",
    "\n",
    "`data.table`s can be defined based on vectors, based on a conversion of another object or by loading some (local) data/files.\n",
    "\n",
    "Hint: if a column is missing some entries (w.r.t. the other columns), the elements in this columns are recycled."
   ]
  },
  {
   "cell_type": "code",
   "execution_count": 3,
   "id": "63902328",
   "metadata": {},
   "outputs": [
    {
     "data": {
      "text/html": [
       "<ol class=list-inline>\n",
       "\t<li>'data.table'</li>\n",
       "\t<li>'data.frame'</li>\n",
       "</ol>\n"
      ],
      "text/latex": [
       "\\begin{enumerate*}\n",
       "\\item 'data.table'\n",
       "\\item 'data.frame'\n",
       "\\end{enumerate*}\n"
      ],
      "text/markdown": [
       "1. 'data.table'\n",
       "2. 'data.frame'\n",
       "\n",
       "\n"
      ],
      "text/plain": [
       "[1] \"data.table\" \"data.frame\""
      ]
     },
     "metadata": {},
     "output_type": "display_data"
    },
    {
     "data": {
      "text/html": [
       "<table>\n",
       "<thead><tr><th scope=col>x</th><th scope=col>names</th><th scope=col>y</th><th scope=col>z</th></tr></thead>\n",
       "<tbody>\n",
       "\t<tr><td>1      </td><td>Donata </td><td>1      </td><td>A      </td></tr>\n",
       "\t<tr><td>2      </td><td>Philipp</td><td>2      </td><td>A      </td></tr>\n",
       "\t<tr><td>3      </td><td>Donata </td><td>1      </td><td>B      </td></tr>\n",
       "\t<tr><td>4      </td><td>Philipp</td><td>2      </td><td>C      </td></tr>\n",
       "\t<tr><td>5      </td><td>Donata </td><td>1      </td><td>A      </td></tr>\n",
       "\t<tr><td>6      </td><td>Philipp</td><td>2      </td><td>B      </td></tr>\n",
       "</tbody>\n",
       "</table>\n"
      ],
      "text/latex": [
       "\\begin{tabular}{r|llll}\n",
       " x & names & y & z\\\\\n",
       "\\hline\n",
       "\t 1       & Donata  & 1       & A      \\\\\n",
       "\t 2       & Philipp & 2       & A      \\\\\n",
       "\t 3       & Donata  & 1       & B      \\\\\n",
       "\t 4       & Philipp & 2       & C      \\\\\n",
       "\t 5       & Donata  & 1       & A      \\\\\n",
       "\t 6       & Philipp & 2       & B      \\\\\n",
       "\\end{tabular}\n"
      ],
      "text/markdown": [
       "\n",
       "| x | names | y | z |\n",
       "|---|---|---|---|\n",
       "| 1       | Donata  | 1       | A       |\n",
       "| 2       | Philipp | 2       | A       |\n",
       "| 3       | Donata  | 1       | B       |\n",
       "| 4       | Philipp | 2       | C       |\n",
       "| 5       | Donata  | 1       | A       |\n",
       "| 6       | Philipp | 2       | B       |\n",
       "\n"
      ],
      "text/plain": [
       "  x names   y z\n",
       "1 1 Donata  1 A\n",
       "2 2 Philipp 2 A\n",
       "3 3 Donata  1 B\n",
       "4 4 Philipp 2 C\n",
       "5 5 Donata  1 A\n",
       "6 6 Philipp 2 B"
      ]
     },
     "metadata": {},
     "output_type": "display_data"
    }
   ],
   "source": [
    "# install.packages('data.table')\n",
    "library(data.table)\n",
    "\n",
    "# example\n",
    "DT <- data.table(x = 1:6,\n",
    "                 'names' = rep(c(\"Donata\", \"Philipp\"), 3),\n",
    "                 y = c(1,2),\n",
    "                 z = factor(c('A', 'A', 'B', 'C', 'A', 'B')))     # vector y is recycled\n",
    "class(DT)\n",
    "DT"
   ]
  },
  {
   "cell_type": "code",
   "execution_count": 4,
   "id": "bd19d30e",
   "metadata": {},
   "outputs": [
    {
     "data": {
      "text/html": [
       "<ol class=list-inline>\n",
       "\t<li>'data.table'</li>\n",
       "\t<li>'data.frame'</li>\n",
       "</ol>\n"
      ],
      "text/latex": [
       "\\begin{enumerate*}\n",
       "\\item 'data.table'\n",
       "\\item 'data.frame'\n",
       "\\end{enumerate*}\n"
      ],
      "text/markdown": [
       "1. 'data.table'\n",
       "2. 'data.frame'\n",
       "\n",
       "\n"
      ],
      "text/plain": [
       "[1] \"data.table\" \"data.frame\""
      ]
     },
     "metadata": {},
     "output_type": "display_data"
    }
   ],
   "source": [
    "# conversion (typically for `data.frames`)\n",
    "titanic_dt <- as.data.table(Titanic)           # Titanic is a data frame provided in the `data.table` package\n",
    "class(titanic_dt)"
   ]
  },
  {
   "cell_type": "code",
   "execution_count": 5,
   "id": "43ac4c77",
   "metadata": {},
   "outputs": [],
   "source": [
    "# loading (local) data into a table\n",
    "# often: different functions for different file types available\n",
    "\n",
    "# CSV:\n",
    "# DT <- fread('path_to_file/file.csv')\n",
    "\n",
    "# XLSX (excel files):\n",
    "# install.packages(\"readxl\")\n",
    "library(readxl)\n",
    "# DF <- read_excel('path_to_file/file.xlsx')     # return data.frames -> convert to data.table :)"
   ]
  },
  {
   "cell_type": "code",
   "execution_count": 6,
   "id": "a3d6465a",
   "metadata": {},
   "outputs": [
    {
     "data": {
      "text/html": [
       "'first/second/third'"
      ],
      "text/latex": [
       "'first/second/third'"
      ],
      "text/markdown": [
       "'first/second/third'"
      ],
      "text/plain": [
       "[1] \"first/second/third\""
      ]
     },
     "metadata": {},
     "output_type": "display_data"
    }
   ],
   "source": [
    "# get path to current working directory\n",
    "# getwd()\n",
    "\n",
    "# define file path for any system (different OS often means different representations of paths!)\n",
    "file.path('first', 'second', 'third')"
   ]
  },
  {
   "cell_type": "markdown",
   "id": "a79ce862",
   "metadata": {},
   "source": [
    "### 3. Inspecting Tables\n",
    "\n",
    "First step in every analysis involve inspecting the data to get a brief overview.\n",
    "\n",
    "Hint: by using just a part of a `data.table` this specific part can be analised."
   ]
  },
  {
   "cell_type": "code",
   "execution_count": 7,
   "id": "b9215adc",
   "metadata": {},
   "outputs": [
    {
     "data": {
      "text/html": [
       "4"
      ],
      "text/latex": [
       "4"
      ],
      "text/markdown": [
       "4"
      ],
      "text/plain": [
       "[1] 4"
      ]
     },
     "metadata": {},
     "output_type": "display_data"
    },
    {
     "data": {
      "text/html": [
       "6"
      ],
      "text/latex": [
       "6"
      ],
      "text/markdown": [
       "6"
      ],
      "text/plain": [
       "[1] 6"
      ]
     },
     "metadata": {},
     "output_type": "display_data"
    },
    {
     "data": {
      "text/html": [
       "<ol class=list-inline>\n",
       "\t<li>6</li>\n",
       "\t<li>4</li>\n",
       "</ol>\n"
      ],
      "text/latex": [
       "\\begin{enumerate*}\n",
       "\\item 6\n",
       "\\item 4\n",
       "\\end{enumerate*}\n"
      ],
      "text/markdown": [
       "1. 6\n",
       "2. 4\n",
       "\n",
       "\n"
      ],
      "text/plain": [
       "[1] 6 4"
      ]
     },
     "metadata": {},
     "output_type": "display_data"
    }
   ],
   "source": [
    "# inspect the size of the table\n",
    "ncol(DT)                            # number of columns in the table\n",
    "nrow(DT)                            # number of rows in the table\n",
    "dim(DT)                             # nrow and ncol"
   ]
  },
  {
   "cell_type": "code",
   "execution_count": 8,
   "id": "7aaff598",
   "metadata": {},
   "outputs": [
    {
     "data": {
      "text/plain": [
       "       x           names                 y       z    \n",
       " Min.   :1.00   Length:6           Min.   :1.0   A:3  \n",
       " 1st Qu.:2.25   Class :character   1st Qu.:1.0   B:2  \n",
       " Median :3.50   Mode  :character   Median :1.5   C:1  \n",
       " Mean   :3.50                      Mean   :1.5        \n",
       " 3rd Qu.:4.75                      3rd Qu.:2.0        \n",
       " Max.   :6.00                      Max.   :2.0        "
      ]
     },
     "metadata": {},
     "output_type": "display_data"
    }
   ],
   "source": [
    "# inspect the basic statistics of each column\n",
    "summary(DT)                                       # problem: not very helpful for strings"
   ]
  },
  {
   "cell_type": "code",
   "execution_count": 9,
   "id": "1d0a17b8",
   "metadata": {},
   "outputs": [
    {
     "data": {
      "text/html": [
       "<ol class=list-inline>\n",
       "\t<li>'Donata'</li>\n",
       "\t<li>'Philipp'</li>\n",
       "</ol>\n"
      ],
      "text/latex": [
       "\\begin{enumerate*}\n",
       "\\item 'Donata'\n",
       "\\item 'Philipp'\n",
       "\\end{enumerate*}\n"
      ],
      "text/markdown": [
       "1. 'Donata'\n",
       "2. 'Philipp'\n",
       "\n",
       "\n"
      ],
      "text/plain": [
       "[1] \"Donata\"  \"Philipp\""
      ]
     },
     "metadata": {},
     "output_type": "display_data"
    },
    {
     "data": {
      "text/html": [
       "<ol class=list-inline>\n",
       "\t<li>A</li>\n",
       "\t<li>B</li>\n",
       "\t<li>C</li>\n",
       "</ol>\n",
       "\n",
       "<details>\n",
       "\t<summary style=display:list-item;cursor:pointer>\n",
       "\t\t<strong>Levels</strong>:\n",
       "\t</summary>\n",
       "\t<ol class=list-inline>\n",
       "\t\t<li>'A'</li>\n",
       "\t\t<li>'B'</li>\n",
       "\t\t<li>'C'</li>\n",
       "\t</ol>\n",
       "</details>"
      ],
      "text/latex": [
       "\\begin{enumerate*}\n",
       "\\item A\n",
       "\\item B\n",
       "\\item C\n",
       "\\end{enumerate*}\n",
       "\n",
       "\\emph{Levels}: \\begin{enumerate*}\n",
       "\\item 'A'\n",
       "\\item 'B'\n",
       "\\item 'C'\n",
       "\\end{enumerate*}\n"
      ],
      "text/markdown": [
       "1. A\n",
       "2. B\n",
       "3. C\n",
       "\n",
       "\n",
       "\n",
       "**Levels**: 1. 'A'\n",
       "2. 'B'\n",
       "3. 'C'\n",
       "\n",
       "\n"
      ],
      "text/plain": [
       "[1] A B C\n",
       "Levels: A B C"
      ]
     },
     "metadata": {},
     "output_type": "display_data"
    },
    {
     "data": {
      "text/plain": [
       "names\n",
       " Donata Philipp \n",
       "      3       3 "
      ]
     },
     "metadata": {},
     "output_type": "display_data"
    },
    {
     "data": {
      "text/plain": [
       "z\n",
       "A B C \n",
       "3 2 1 "
      ]
     },
     "metadata": {},
     "output_type": "display_data"
    }
   ],
   "source": [
    "# inspect string columns\n",
    "DT[, unique(names)]          # return all unique elements of a certain variable ...\n",
    "DT[, unique(z)]\n",
    "\n",
    "DT[, table(names)]           # ... or return how often each element occurs\n",
    "DT[, table(z)]"
   ]
  },
  {
   "cell_type": "code",
   "execution_count": 10,
   "id": "40826f21",
   "metadata": {},
   "outputs": [],
   "source": [
    "# --------------------"
   ]
  },
  {
   "cell_type": "markdown",
   "id": "900583df",
   "metadata": {},
   "source": [
    "## Row Subsetting"
   ]
  },
  {
   "cell_type": "markdown",
   "id": "468d0e56",
   "metadata": {},
   "source": [
    "### 1. Subsetting Row by Indices\n",
    "\n",
    "Similar (even equivalent) to subsetting row in matrices."
   ]
  },
  {
   "cell_type": "code",
   "execution_count": 11,
   "id": "1e63a98f",
   "metadata": {},
   "outputs": [
    {
     "data": {
      "text/html": [
       "<table>\n",
       "<thead><tr><th scope=col>x</th><th scope=col>names</th><th scope=col>y</th><th scope=col>z</th></tr></thead>\n",
       "<tbody>\n",
       "\t<tr><td>2      </td><td>Philipp</td><td>2      </td><td>A      </td></tr>\n",
       "</tbody>\n",
       "</table>\n"
      ],
      "text/latex": [
       "\\begin{tabular}{r|llll}\n",
       " x & names & y & z\\\\\n",
       "\\hline\n",
       "\t 2       & Philipp & 2       & A      \\\\\n",
       "\\end{tabular}\n"
      ],
      "text/markdown": [
       "\n",
       "| x | names | y | z |\n",
       "|---|---|---|---|\n",
       "| 2       | Philipp | 2       | A       |\n",
       "\n"
      ],
      "text/plain": [
       "  x names   y z\n",
       "1 2 Philipp 2 A"
      ]
     },
     "metadata": {},
     "output_type": "display_data"
    },
    {
     "data": {
      "text/html": [
       "<table>\n",
       "<thead><tr><th scope=col>x</th><th scope=col>names</th><th scope=col>y</th><th scope=col>z</th></tr></thead>\n",
       "<tbody>\n",
       "\t<tr><td>2      </td><td>Philipp</td><td>2      </td><td>A      </td></tr>\n",
       "</tbody>\n",
       "</table>\n"
      ],
      "text/latex": [
       "\\begin{tabular}{r|llll}\n",
       " x & names & y & z\\\\\n",
       "\\hline\n",
       "\t 2       & Philipp & 2       & A      \\\\\n",
       "\\end{tabular}\n"
      ],
      "text/markdown": [
       "\n",
       "| x | names | y | z |\n",
       "|---|---|---|---|\n",
       "| 2       | Philipp | 2       | A       |\n",
       "\n"
      ],
      "text/plain": [
       "  x names   y z\n",
       "1 2 Philipp 2 A"
      ]
     },
     "metadata": {},
     "output_type": "display_data"
    },
    {
     "data": {
      "text/html": [
       "<table>\n",
       "<thead><tr><th scope=col>x</th><th scope=col>names</th><th scope=col>y</th><th scope=col>z</th></tr></thead>\n",
       "<tbody>\n",
       "\t<tr><td>2      </td><td>Philipp</td><td>2      </td><td>A      </td></tr>\n",
       "\t<tr><td>3      </td><td>Donata </td><td>1      </td><td>B      </td></tr>\n",
       "\t<tr><td>4      </td><td>Philipp</td><td>2      </td><td>C      </td></tr>\n",
       "</tbody>\n",
       "</table>\n"
      ],
      "text/latex": [
       "\\begin{tabular}{r|llll}\n",
       " x & names & y & z\\\\\n",
       "\\hline\n",
       "\t 2       & Philipp & 2       & A      \\\\\n",
       "\t 3       & Donata  & 1       & B      \\\\\n",
       "\t 4       & Philipp & 2       & C      \\\\\n",
       "\\end{tabular}\n"
      ],
      "text/markdown": [
       "\n",
       "| x | names | y | z |\n",
       "|---|---|---|---|\n",
       "| 2       | Philipp | 2       | A       |\n",
       "| 3       | Donata  | 1       | B       |\n",
       "| 4       | Philipp | 2       | C       |\n",
       "\n"
      ],
      "text/plain": [
       "  x names   y z\n",
       "1 2 Philipp 2 A\n",
       "2 3 Donata  1 B\n",
       "3 4 Philipp 2 C"
      ]
     },
     "metadata": {},
     "output_type": "display_data"
    },
    {
     "data": {
      "text/html": [
       "<table>\n",
       "<thead><tr><th scope=col>x</th><th scope=col>names</th><th scope=col>y</th><th scope=col>z</th></tr></thead>\n",
       "<tbody>\n",
       "\t<tr><td>2      </td><td>Philipp</td><td>2      </td><td>A      </td></tr>\n",
       "\t<tr><td>4      </td><td>Philipp</td><td>2      </td><td>C      </td></tr>\n",
       "\t<tr><td>6      </td><td>Philipp</td><td>2      </td><td>B      </td></tr>\n",
       "</tbody>\n",
       "</table>\n"
      ],
      "text/latex": [
       "\\begin{tabular}{r|llll}\n",
       " x & names & y & z\\\\\n",
       "\\hline\n",
       "\t 2       & Philipp & 2       & A      \\\\\n",
       "\t 4       & Philipp & 2       & C      \\\\\n",
       "\t 6       & Philipp & 2       & B      \\\\\n",
       "\\end{tabular}\n"
      ],
      "text/markdown": [
       "\n",
       "| x | names | y | z |\n",
       "|---|---|---|---|\n",
       "| 2       | Philipp | 2       | A       |\n",
       "| 4       | Philipp | 2       | C       |\n",
       "| 6       | Philipp | 2       | B       |\n",
       "\n"
      ],
      "text/plain": [
       "  x names   y z\n",
       "1 2 Philipp 2 A\n",
       "2 4 Philipp 2 C\n",
       "3 6 Philipp 2 B"
      ]
     },
     "metadata": {},
     "output_type": "display_data"
    }
   ],
   "source": [
    "# access one row\n",
    "DT[2,]                                                   # the comma can be left out as the row index is the first entry\n",
    "DT[2]\n",
    "\n",
    "# access consecutive rows\n",
    "DT[2:4]\n",
    "\n",
    "# access multiple (not necessarily consecutive) rows\n",
    "DT[c(2,4,6)]"
   ]
  },
  {
   "cell_type": "markdown",
   "id": "d61b7e3d",
   "metadata": {},
   "source": [
    "### 2. Subsetting Rows by Logical Conditions\n",
    "\n",
    "Again similar (even equivalent) to subsetting row in matrices.\n",
    "\n",
    "Operators: `==`, `>`, `<`, `!=`, `%in%`.\n",
    "\n",
    "Concatenate multiple conditions with `&` and/or `|`."
   ]
  },
  {
   "cell_type": "code",
   "execution_count": 12,
   "id": "b24a2a49",
   "metadata": {},
   "outputs": [
    {
     "data": {
      "text/html": [
       "<table>\n",
       "<thead><tr><th scope=col>x</th><th scope=col>names</th><th scope=col>y</th><th scope=col>z</th></tr></thead>\n",
       "<tbody>\n",
       "\t<tr><td>1     </td><td>Donata</td><td>1     </td><td>A     </td></tr>\n",
       "\t<tr><td>3     </td><td>Donata</td><td>1     </td><td>B     </td></tr>\n",
       "\t<tr><td>5     </td><td>Donata</td><td>1     </td><td>A     </td></tr>\n",
       "</tbody>\n",
       "</table>\n"
      ],
      "text/latex": [
       "\\begin{tabular}{r|llll}\n",
       " x & names & y & z\\\\\n",
       "\\hline\n",
       "\t 1      & Donata & 1      & A     \\\\\n",
       "\t 3      & Donata & 1      & B     \\\\\n",
       "\t 5      & Donata & 1      & A     \\\\\n",
       "\\end{tabular}\n"
      ],
      "text/markdown": [
       "\n",
       "| x | names | y | z |\n",
       "|---|---|---|---|\n",
       "| 1      | Donata | 1      | A      |\n",
       "| 3      | Donata | 1      | B      |\n",
       "| 5      | Donata | 1      | A      |\n",
       "\n"
      ],
      "text/plain": [
       "  x names  y z\n",
       "1 1 Donata 1 A\n",
       "2 3 Donata 1 B\n",
       "3 5 Donata 1 A"
      ]
     },
     "metadata": {},
     "output_type": "display_data"
    },
    {
     "data": {
      "text/html": [
       "<table>\n",
       "<thead><tr><th scope=col>x</th><th scope=col>names</th><th scope=col>y</th><th scope=col>z</th></tr></thead>\n",
       "<tbody>\n",
       "\t<tr><td>1      </td><td>Donata </td><td>1      </td><td>A      </td></tr>\n",
       "\t<tr><td>2      </td><td>Philipp</td><td>2      </td><td>A      </td></tr>\n",
       "\t<tr><td>3      </td><td>Donata </td><td>1      </td><td>B      </td></tr>\n",
       "</tbody>\n",
       "</table>\n"
      ],
      "text/latex": [
       "\\begin{tabular}{r|llll}\n",
       " x & names & y & z\\\\\n",
       "\\hline\n",
       "\t 1       & Donata  & 1       & A      \\\\\n",
       "\t 2       & Philipp & 2       & A      \\\\\n",
       "\t 3       & Donata  & 1       & B      \\\\\n",
       "\\end{tabular}\n"
      ],
      "text/markdown": [
       "\n",
       "| x | names | y | z |\n",
       "|---|---|---|---|\n",
       "| 1       | Donata  | 1       | A       |\n",
       "| 2       | Philipp | 2       | A       |\n",
       "| 3       | Donata  | 1       | B       |\n",
       "\n"
      ],
      "text/plain": [
       "  x names   y z\n",
       "1 1 Donata  1 A\n",
       "2 2 Philipp 2 A\n",
       "3 3 Donata  1 B"
      ]
     },
     "metadata": {},
     "output_type": "display_data"
    },
    {
     "data": {
      "text/html": [
       "<table>\n",
       "<thead><tr><th scope=col>x</th><th scope=col>names</th><th scope=col>y</th><th scope=col>z</th></tr></thead>\n",
       "<tbody>\n",
       "\t<tr><td>3      </td><td>Donata </td><td>1      </td><td>B      </td></tr>\n",
       "\t<tr><td>4      </td><td>Philipp</td><td>2      </td><td>C      </td></tr>\n",
       "\t<tr><td>6      </td><td>Philipp</td><td>2      </td><td>B      </td></tr>\n",
       "</tbody>\n",
       "</table>\n"
      ],
      "text/latex": [
       "\\begin{tabular}{r|llll}\n",
       " x & names & y & z\\\\\n",
       "\\hline\n",
       "\t 3       & Donata  & 1       & B      \\\\\n",
       "\t 4       & Philipp & 2       & C      \\\\\n",
       "\t 6       & Philipp & 2       & B      \\\\\n",
       "\\end{tabular}\n"
      ],
      "text/markdown": [
       "\n",
       "| x | names | y | z |\n",
       "|---|---|---|---|\n",
       "| 3       | Donata  | 1       | B       |\n",
       "| 4       | Philipp | 2       | C       |\n",
       "| 6       | Philipp | 2       | B       |\n",
       "\n"
      ],
      "text/plain": [
       "  x names   y z\n",
       "1 3 Donata  1 B\n",
       "2 4 Philipp 2 C\n",
       "3 6 Philipp 2 B"
      ]
     },
     "metadata": {},
     "output_type": "display_data"
    },
    {
     "data": {
      "text/html": [
       "<table>\n",
       "<thead><tr><th scope=col>x</th><th scope=col>names</th><th scope=col>y</th><th scope=col>z</th></tr></thead>\n",
       "<tbody>\n",
       "\t<tr><td>3     </td><td>Donata</td><td>1     </td><td>B     </td></tr>\n",
       "</tbody>\n",
       "</table>\n"
      ],
      "text/latex": [
       "\\begin{tabular}{r|llll}\n",
       " x & names & y & z\\\\\n",
       "\\hline\n",
       "\t 3      & Donata & 1      & B     \\\\\n",
       "\\end{tabular}\n"
      ],
      "text/markdown": [
       "\n",
       "| x | names | y | z |\n",
       "|---|---|---|---|\n",
       "| 3      | Donata | 1      | B      |\n",
       "\n"
      ],
      "text/plain": [
       "  x names  y z\n",
       "1 3 Donata 1 B"
      ]
     },
     "metadata": {},
     "output_type": "display_data"
    },
    {
     "data": {
      "text/html": [
       "<table>\n",
       "<thead><tr><th scope=col>x</th><th scope=col>names</th><th scope=col>y</th><th scope=col>z</th></tr></thead>\n",
       "<tbody>\n",
       "\t<tr><td>1      </td><td>Donata </td><td>1      </td><td>A      </td></tr>\n",
       "\t<tr><td>3      </td><td>Donata </td><td>1      </td><td>B      </td></tr>\n",
       "\t<tr><td>4      </td><td>Philipp</td><td>2      </td><td>C      </td></tr>\n",
       "\t<tr><td>5      </td><td>Donata </td><td>1      </td><td>A      </td></tr>\n",
       "\t<tr><td>6      </td><td>Philipp</td><td>2      </td><td>B      </td></tr>\n",
       "</tbody>\n",
       "</table>\n"
      ],
      "text/latex": [
       "\\begin{tabular}{r|llll}\n",
       " x & names & y & z\\\\\n",
       "\\hline\n",
       "\t 1       & Donata  & 1       & A      \\\\\n",
       "\t 3       & Donata  & 1       & B      \\\\\n",
       "\t 4       & Philipp & 2       & C      \\\\\n",
       "\t 5       & Donata  & 1       & A      \\\\\n",
       "\t 6       & Philipp & 2       & B      \\\\\n",
       "\\end{tabular}\n"
      ],
      "text/markdown": [
       "\n",
       "| x | names | y | z |\n",
       "|---|---|---|---|\n",
       "| 1       | Donata  | 1       | A       |\n",
       "| 3       | Donata  | 1       | B       |\n",
       "| 4       | Philipp | 2       | C       |\n",
       "| 5       | Donata  | 1       | A       |\n",
       "| 6       | Philipp | 2       | B       |\n",
       "\n"
      ],
      "text/plain": [
       "  x names   y z\n",
       "1 1 Donata  1 A\n",
       "2 3 Donata  1 B\n",
       "3 4 Philipp 2 C\n",
       "4 5 Donata  1 A\n",
       "5 6 Philipp 2 B"
      ]
     },
     "metadata": {},
     "output_type": "display_data"
    }
   ],
   "source": [
    "# examples\n",
    "DT[names == 'Donata']                          # opposite of: DT[names != 'Philipp']\n",
    "DT[x < 4]\n",
    "DT[z %in% c('B', 'C')]\n",
    "\n",
    "DT[z %in% c('B', 'C') & x < 4]                 # \"intersection of tables\"\n",
    "DT[z %in% c('B', 'C') | names == 'Donata']     # \"combination of tables\""
   ]
  },
  {
   "cell_type": "code",
   "execution_count": 13,
   "id": "8e5babe4",
   "metadata": {},
   "outputs": [],
   "source": [
    "# --------------------"
   ]
  },
  {
   "cell_type": "markdown",
   "id": "44a93b49",
   "metadata": {},
   "source": [
    "## Column Operations"
   ]
  },
  {
   "cell_type": "markdown",
   "id": "3f2a6861",
   "metadata": {},
   "source": [
    "### 1. Working with columns\n",
    "\n",
    "Accessing columns is similar (even equivalent) to accessing columns in matrices.\n",
    "\n",
    "Hint: do not access columns by index but rather by the column name to prevent bugs. (Except if you want to acces consecutive columns and know exactly where they are.)"
   ]
  },
  {
   "cell_type": "code",
   "execution_count": 14,
   "id": "0c14dee8",
   "metadata": {},
   "outputs": [
    {
     "data": {
      "text/html": [
       "<ol class=list-inline>\n",
       "\t<li>'Donata'</li>\n",
       "\t<li>'Philipp'</li>\n",
       "\t<li>'Donata'</li>\n",
       "\t<li>'Philipp'</li>\n",
       "\t<li>'Donata'</li>\n",
       "\t<li>'Philipp'</li>\n",
       "</ol>\n"
      ],
      "text/latex": [
       "\\begin{enumerate*}\n",
       "\\item 'Donata'\n",
       "\\item 'Philipp'\n",
       "\\item 'Donata'\n",
       "\\item 'Philipp'\n",
       "\\item 'Donata'\n",
       "\\item 'Philipp'\n",
       "\\end{enumerate*}\n"
      ],
      "text/markdown": [
       "1. 'Donata'\n",
       "2. 'Philipp'\n",
       "3. 'Donata'\n",
       "4. 'Philipp'\n",
       "5. 'Donata'\n",
       "6. 'Philipp'\n",
       "\n",
       "\n"
      ],
      "text/plain": [
       "[1] \"Donata\"  \"Philipp\" \"Donata\"  \"Philipp\" \"Donata\"  \"Philipp\""
      ]
     },
     "metadata": {},
     "output_type": "display_data"
    },
    {
     "data": {
      "text/html": [
       "'Philipp'"
      ],
      "text/latex": [
       "'Philipp'"
      ],
      "text/markdown": [
       "'Philipp'"
      ],
      "text/plain": [
       "[1] \"Philipp\""
      ]
     },
     "metadata": {},
     "output_type": "display_data"
    },
    {
     "data": {
      "text/html": [
       "<table>\n",
       "<thead><tr><th scope=col>x</th><th scope=col>names</th></tr></thead>\n",
       "<tbody>\n",
       "\t<tr><td>1      </td><td>Donata </td></tr>\n",
       "\t<tr><td>2      </td><td>Philipp</td></tr>\n",
       "\t<tr><td>3      </td><td>Donata </td></tr>\n",
       "\t<tr><td>4      </td><td>Philipp</td></tr>\n",
       "\t<tr><td>5      </td><td>Donata </td></tr>\n",
       "\t<tr><td>6      </td><td>Philipp</td></tr>\n",
       "</tbody>\n",
       "</table>\n"
      ],
      "text/latex": [
       "\\begin{tabular}{r|ll}\n",
       " x & names\\\\\n",
       "\\hline\n",
       "\t 1       & Donata \\\\\n",
       "\t 2       & Philipp\\\\\n",
       "\t 3       & Donata \\\\\n",
       "\t 4       & Philipp\\\\\n",
       "\t 5       & Donata \\\\\n",
       "\t 6       & Philipp\\\\\n",
       "\\end{tabular}\n"
      ],
      "text/markdown": [
       "\n",
       "| x | names |\n",
       "|---|---|\n",
       "| 1       | Donata  |\n",
       "| 2       | Philipp |\n",
       "| 3       | Donata  |\n",
       "| 4       | Philipp |\n",
       "| 5       | Donata  |\n",
       "| 6       | Philipp |\n",
       "\n"
      ],
      "text/plain": [
       "  x names  \n",
       "1 1 Donata \n",
       "2 2 Philipp\n",
       "3 3 Donata \n",
       "4 4 Philipp\n",
       "5 5 Donata \n",
       "6 6 Philipp"
      ]
     },
     "metadata": {},
     "output_type": "display_data"
    },
    {
     "data": {
      "text/html": [
       "<table>\n",
       "<thead><tr><th scope=col>x</th><th scope=col>names</th></tr></thead>\n",
       "<tbody>\n",
       "\t<tr><td>1      </td><td>Donata </td></tr>\n",
       "\t<tr><td>2      </td><td>Philipp</td></tr>\n",
       "\t<tr><td>3      </td><td>Donata </td></tr>\n",
       "\t<tr><td>4      </td><td>Philipp</td></tr>\n",
       "\t<tr><td>5      </td><td>Donata </td></tr>\n",
       "\t<tr><td>6      </td><td>Philipp</td></tr>\n",
       "</tbody>\n",
       "</table>\n"
      ],
      "text/latex": [
       "\\begin{tabular}{r|ll}\n",
       " x & names\\\\\n",
       "\\hline\n",
       "\t 1       & Donata \\\\\n",
       "\t 2       & Philipp\\\\\n",
       "\t 3       & Donata \\\\\n",
       "\t 4       & Philipp\\\\\n",
       "\t 5       & Donata \\\\\n",
       "\t 6       & Philipp\\\\\n",
       "\\end{tabular}\n"
      ],
      "text/markdown": [
       "\n",
       "| x | names |\n",
       "|---|---|\n",
       "| 1       | Donata  |\n",
       "| 2       | Philipp |\n",
       "| 3       | Donata  |\n",
       "| 4       | Philipp |\n",
       "| 5       | Donata  |\n",
       "| 6       | Philipp |\n",
       "\n"
      ],
      "text/plain": [
       "  x names  \n",
       "1 1 Donata \n",
       "2 2 Philipp\n",
       "3 3 Donata \n",
       "4 4 Philipp\n",
       "5 5 Donata \n",
       "6 6 Philipp"
      ]
     },
     "metadata": {},
     "output_type": "display_data"
    },
    {
     "data": {
      "text/html": [
       "<ol class=list-inline>\n",
       "\t<li>'1'</li>\n",
       "\t<li>'2'</li>\n",
       "\t<li>'3'</li>\n",
       "\t<li>'4'</li>\n",
       "\t<li>'5'</li>\n",
       "\t<li>'6'</li>\n",
       "\t<li>'Donata'</li>\n",
       "\t<li>'Philipp'</li>\n",
       "\t<li>'Donata'</li>\n",
       "\t<li>'Philipp'</li>\n",
       "\t<li>'Donata'</li>\n",
       "\t<li>'Philipp'</li>\n",
       "</ol>\n"
      ],
      "text/latex": [
       "\\begin{enumerate*}\n",
       "\\item '1'\n",
       "\\item '2'\n",
       "\\item '3'\n",
       "\\item '4'\n",
       "\\item '5'\n",
       "\\item '6'\n",
       "\\item 'Donata'\n",
       "\\item 'Philipp'\n",
       "\\item 'Donata'\n",
       "\\item 'Philipp'\n",
       "\\item 'Donata'\n",
       "\\item 'Philipp'\n",
       "\\end{enumerate*}\n"
      ],
      "text/markdown": [
       "1. '1'\n",
       "2. '2'\n",
       "3. '3'\n",
       "4. '4'\n",
       "5. '5'\n",
       "6. '6'\n",
       "7. 'Donata'\n",
       "8. 'Philipp'\n",
       "9. 'Donata'\n",
       "10. 'Philipp'\n",
       "11. 'Donata'\n",
       "12. 'Philipp'\n",
       "\n",
       "\n"
      ],
      "text/plain": [
       " [1] \"1\"       \"2\"       \"3\"       \"4\"       \"5\"       \"6\"       \"Donata\" \n",
       " [8] \"Philipp\" \"Donata\"  \"Philipp\" \"Donata\"  \"Philipp\""
      ]
     },
     "metadata": {},
     "output_type": "display_data"
    }
   ],
   "source": [
    "# access one column\n",
    "DT[, names]\n",
    "\n",
    "# access a cell\n",
    "DT[2, names]\n",
    "\n",
    "# access multiple columns\n",
    "DT[, list(x, names)]\n",
    "DT[, .(x, names)]\n",
    "\n",
    "DT[, c(x, names)]             # this returns the elements in the chosen columns (and rows) in a vector instead of a `data.table`"
   ]
  },
  {
   "cell_type": "markdown",
   "id": "798fd265",
   "metadata": {},
   "source": [
    "### 2. Column Operators\n",
    "\n",
    "Back to the big advantage of `data.table`s: it is possible to apply functions to the columns inside the `[]` enviroment! Even multiple operations (provided in a list) can be applied (returns a vector or table of the results).\n",
    "\n",
    "Hint: if the list is provided by `c()` the output will be again a vector."
   ]
  },
  {
   "cell_type": "code",
   "execution_count": 15,
   "id": "ba08ae9e",
   "metadata": {},
   "outputs": [
    {
     "data": {
      "text/html": [
       "TRUE"
      ],
      "text/latex": [
       "TRUE"
      ],
      "text/markdown": [
       "TRUE"
      ],
      "text/plain": [
       "[1] TRUE"
      ]
     },
     "metadata": {},
     "output_type": "display_data"
    },
    {
     "data": {
      "text/html": [
       "TRUE"
      ],
      "text/latex": [
       "TRUE"
      ],
      "text/markdown": [
       "TRUE"
      ],
      "text/plain": [
       "[1] TRUE"
      ]
     },
     "metadata": {},
     "output_type": "display_data"
    },
    {
     "data": {
      "text/html": [
       "<table>\n",
       "<thead><tr><th scope=col>mean_x</th><th scope=col>sum_x</th></tr></thead>\n",
       "<tbody>\n",
       "\t<tr><td>3.5</td><td>21 </td></tr>\n",
       "</tbody>\n",
       "</table>\n"
      ],
      "text/latex": [
       "\\begin{tabular}{r|ll}\n",
       " mean\\_x & sum\\_x\\\\\n",
       "\\hline\n",
       "\t 3.5 & 21 \\\\\n",
       "\\end{tabular}\n"
      ],
      "text/markdown": [
       "\n",
       "| mean_x | sum_x |\n",
       "|---|---|\n",
       "| 3.5 | 21  |\n",
       "\n"
      ],
      "text/plain": [
       "  mean_x sum_x\n",
       "1 3.5    21   "
      ]
     },
     "metadata": {},
     "output_type": "display_data"
    },
    {
     "data": {
      "text/html": [
       "<ol class=list-inline>\n",
       "\t<li>2</li>\n",
       "\t<li>4</li>\n",
       "\t<li>4</li>\n",
       "\t<li>6</li>\n",
       "\t<li>6</li>\n",
       "\t<li>8</li>\n",
       "</ol>\n"
      ],
      "text/latex": [
       "\\begin{enumerate*}\n",
       "\\item 2\n",
       "\\item 4\n",
       "\\item 4\n",
       "\\item 6\n",
       "\\item 6\n",
       "\\item 8\n",
       "\\end{enumerate*}\n"
      ],
      "text/markdown": [
       "1. 2\n",
       "2. 4\n",
       "3. 4\n",
       "4. 6\n",
       "5. 6\n",
       "6. 8\n",
       "\n",
       "\n"
      ],
      "text/plain": [
       "[1] 2 4 4 6 6 8"
      ]
     },
     "metadata": {},
     "output_type": "display_data"
    }
   ],
   "source": [
    "# applying function inside and outside\n",
    "mean_outside <- mean(DT$x, na.rm = TRUE)\n",
    "mean_inside <- DT[, mean(x, na.rm = TRUE)]             # na.rm = TRUE removes NAs/NULLs! (if there are any)\n",
    "mean_outside == mean_inside\n",
    "\n",
    "# applying the function on some rows of the column\n",
    "sum_outside <- sum(DT$x[2:5])\n",
    "sum_inside <- DT[2:5, sum(x)]\n",
    "sum_outside == sum_inside\n",
    "\n",
    "# simpler with this trick:\n",
    "sum_philipp <- DT[names == 'Philipp', sum(x)]\n",
    "\n",
    "# multiple operations\n",
    "sum_and_mean <- DT[, .(mean(x), sum(x))]\n",
    "DT[, .(mean_x = mean(x), sum_x = sum(x))]              # even names can be provided :)\n",
    "\n",
    "# operation applied to columns\n",
    "DT[, x+y]"
   ]
  },
  {
   "cell_type": "markdown",
   "id": "9af73427",
   "metadata": {},
   "source": [
    "### 3. Advanced Commands: `*apply()` over columns\n",
    "\n",
    "Columns of a table are exposed as a list, therefore other functions (applying to lists) can be applied to each column via functions from the `*apply()` family.\n",
    "\n",
    "Hint: I think `sapply()` is the simplest to use :)"
   ]
  },
  {
   "cell_type": "code",
   "execution_count": 16,
   "id": "9a5eb3d5",
   "metadata": {},
   "outputs": [
    {
     "data": {
      "text/html": [
       "<dl class=dl-horizontal>\n",
       "\t<dt>x</dt>\n",
       "\t\t<dd>'integer'</dd>\n",
       "\t<dt>names</dt>\n",
       "\t\t<dd>'character'</dd>\n",
       "\t<dt>y</dt>\n",
       "\t\t<dd>'numeric'</dd>\n",
       "\t<dt>z</dt>\n",
       "\t\t<dd>'factor'</dd>\n",
       "</dl>\n"
      ],
      "text/latex": [
       "\\begin{description*}\n",
       "\\item[x] 'integer'\n",
       "\\item[names] 'character'\n",
       "\\item[y] 'numeric'\n",
       "\\item[z] 'factor'\n",
       "\\end{description*}\n"
      ],
      "text/markdown": [
       "x\n",
       ":   'integer'names\n",
       ":   'character'y\n",
       ":   'numeric'z\n",
       ":   'factor'\n",
       "\n"
      ],
      "text/plain": [
       "          x       names           y           z \n",
       "  \"integer\" \"character\"   \"numeric\"    \"factor\" "
      ]
     },
     "metadata": {},
     "output_type": "display_data"
    },
    {
     "data": {
      "text/html": [
       "<dl class=dl-horizontal>\n",
       "\t<dt>Sepal.Length</dt>\n",
       "\t\t<dd>876.5</dd>\n",
       "\t<dt>Sepal.Width</dt>\n",
       "\t\t<dd>458.6</dd>\n",
       "\t<dt>Petal.Length</dt>\n",
       "\t\t<dd>563.7</dd>\n",
       "\t<dt>Petal.Width</dt>\n",
       "\t\t<dd>179.9</dd>\n",
       "</dl>\n"
      ],
      "text/latex": [
       "\\begin{description*}\n",
       "\\item[Sepal.Length] 876.5\n",
       "\\item[Sepal.Width] 458.6\n",
       "\\item[Petal.Length] 563.7\n",
       "\\item[Petal.Width] 179.9\n",
       "\\end{description*}\n"
      ],
      "text/markdown": [
       "Sepal.Length\n",
       ":   876.5Sepal.Width\n",
       ":   458.6Petal.Length\n",
       ":   563.7Petal.Width\n",
       ":   179.9\n",
       "\n"
      ],
      "text/plain": [
       "Sepal.Length  Sepal.Width Petal.Length  Petal.Width \n",
       "       876.5        458.6        563.7        179.9 "
      ]
     },
     "metadata": {},
     "output_type": "display_data"
    }
   ],
   "source": [
    "# examples\n",
    "sapply(DT, class)\n",
    "\n",
    "# Note that we can access columns stored as variables by setting with=F. In this case,\n",
    "# `colnames(iris_dt)!=\"Species\"` returns a logical vector and ` iris_dt` is subsetted by the logical vector.\n",
    "iris_dt <- as.data.table(iris)\n",
    "sapply(iris_dt[, colnames(iris_dt)!=\"Species\", with = F], sum)     # == sapply(iris_dt[, 1:4], sum)"
   ]
  },
  {
   "cell_type": "code",
   "execution_count": 17,
   "id": "a0b1fd25",
   "metadata": {},
   "outputs": [],
   "source": [
    "# --------------------"
   ]
  },
  {
   "cell_type": "markdown",
   "id": "9da569b5",
   "metadata": {},
   "source": [
    "## The `by` Option\n",
    "\n",
    "Execution of the `j` command by groups.\n",
    "\n",
    "Hint: the `by =` can be omitted, but is usually included for clarity."
   ]
  },
  {
   "cell_type": "code",
   "execution_count": 18,
   "id": "7f866451",
   "metadata": {},
   "outputs": [
    {
     "data": {
      "text/html": [
       "<table>\n",
       "<thead><tr><th scope=col>names</th><th scope=col>V1</th></tr></thead>\n",
       "<tbody>\n",
       "\t<tr><td>Donata </td><td>3      </td></tr>\n",
       "\t<tr><td>Philipp</td><td>6      </td></tr>\n",
       "</tbody>\n",
       "</table>\n"
      ],
      "text/latex": [
       "\\begin{tabular}{r|ll}\n",
       " names & V1\\\\\n",
       "\\hline\n",
       "\t Donata  & 3      \\\\\n",
       "\t Philipp & 6      \\\\\n",
       "\\end{tabular}\n"
      ],
      "text/markdown": [
       "\n",
       "| names | V1 |\n",
       "|---|---|\n",
       "| Donata  | 3       |\n",
       "| Philipp | 6       |\n",
       "\n"
      ],
      "text/plain": [
       "  names   V1\n",
       "1 Donata  3 \n",
       "2 Philipp 6 "
      ]
     },
     "metadata": {},
     "output_type": "display_data"
    },
    {
     "data": {
      "text/html": [
       "<table>\n",
       "<thead><tr><th scope=col>z</th><th scope=col>sum_y</th><th scope=col>mean_x</th></tr></thead>\n",
       "<tbody>\n",
       "\t<tr><td>A       </td><td>4       </td><td>2.666667</td></tr>\n",
       "\t<tr><td>B       </td><td>3       </td><td>4.500000</td></tr>\n",
       "\t<tr><td>C       </td><td>2       </td><td>4.000000</td></tr>\n",
       "</tbody>\n",
       "</table>\n"
      ],
      "text/latex": [
       "\\begin{tabular}{r|lll}\n",
       " z & sum\\_y & mean\\_x\\\\\n",
       "\\hline\n",
       "\t A        & 4        & 2.666667\\\\\n",
       "\t B        & 3        & 4.500000\\\\\n",
       "\t C        & 2        & 4.000000\\\\\n",
       "\\end{tabular}\n"
      ],
      "text/markdown": [
       "\n",
       "| z | sum_y | mean_x |\n",
       "|---|---|---|\n",
       "| A        | 4        | 2.666667 |\n",
       "| B        | 3        | 4.500000 |\n",
       "| C        | 2        | 4.000000 |\n",
       "\n"
      ],
      "text/plain": [
       "  z sum_y mean_x  \n",
       "1 A 4     2.666667\n",
       "2 B 3     4.500000\n",
       "3 C 2     4.000000"
      ]
     },
     "metadata": {},
     "output_type": "display_data"
    }
   ],
   "source": [
    "# examples\n",
    "DT[, sum(y), by=names]\n",
    "DT[, .(sum_y = sum(y), mean_x = mean(x)), by=z]"
   ]
  },
  {
   "cell_type": "code",
   "execution_count": 19,
   "id": "3c85179e",
   "metadata": {},
   "outputs": [],
   "source": [
    "# --------------------"
   ]
  },
  {
   "cell_type": "markdown",
   "id": "d17f761a",
   "metadata": {},
   "source": [
    "## Counting Occurences with `.N`\n",
    "\n",
    "Counting number of observations/rows within a table. If no `by` is provided, it is equivalent to `nrow`."
   ]
  },
  {
   "cell_type": "code",
   "execution_count": 20,
   "id": "8e60eca2",
   "metadata": {},
   "outputs": [
    {
     "data": {
      "text/html": [
       "TRUE"
      ],
      "text/latex": [
       "TRUE"
      ],
      "text/markdown": [
       "TRUE"
      ],
      "text/plain": [
       "[1] TRUE"
      ]
     },
     "metadata": {},
     "output_type": "display_data"
    },
    {
     "data": {
      "text/html": [
       "<table>\n",
       "<thead><tr><th scope=col>z</th><th scope=col>N</th></tr></thead>\n",
       "<tbody>\n",
       "\t<tr><td>A</td><td>3</td></tr>\n",
       "\t<tr><td>B</td><td>2</td></tr>\n",
       "\t<tr><td>C</td><td>1</td></tr>\n",
       "</tbody>\n",
       "</table>\n"
      ],
      "text/latex": [
       "\\begin{tabular}{r|ll}\n",
       " z & N\\\\\n",
       "\\hline\n",
       "\t A & 3\\\\\n",
       "\t B & 2\\\\\n",
       "\t C & 1\\\\\n",
       "\\end{tabular}\n"
      ],
      "text/markdown": [
       "\n",
       "| z | N |\n",
       "|---|---|\n",
       "| A | 3 |\n",
       "| B | 2 |\n",
       "| C | 1 |\n",
       "\n"
      ],
      "text/plain": [
       "  z N\n",
       "1 A 3\n",
       "2 B 2\n",
       "3 C 1"
      ]
     },
     "metadata": {},
     "output_type": "display_data"
    },
    {
     "data": {
      "text/html": [
       "<table>\n",
       "<thead><tr><th scope=col>z</th><th scope=col>N</th></tr></thead>\n",
       "<tbody>\n",
       "\t<tr><td>A</td><td>2</td></tr>\n",
       "\t<tr><td>B</td><td>1</td></tr>\n",
       "</tbody>\n",
       "</table>\n"
      ],
      "text/latex": [
       "\\begin{tabular}{r|ll}\n",
       " z & N\\\\\n",
       "\\hline\n",
       "\t A & 2\\\\\n",
       "\t B & 1\\\\\n",
       "\\end{tabular}\n"
      ],
      "text/markdown": [
       "\n",
       "| z | N |\n",
       "|---|---|\n",
       "| A | 2 |\n",
       "| B | 1 |\n",
       "\n"
      ],
      "text/plain": [
       "  z N\n",
       "1 A 2\n",
       "2 B 1"
      ]
     },
     "metadata": {},
     "output_type": "display_data"
    }
   ],
   "source": [
    "# examples\n",
    "DT[, .N] == nrow(DT)\n",
    "DT[, .N, by = z]                         # number of observations for each level in `z`\n",
    "DT[names == 'Donata', .N, by = z]"
   ]
  },
  {
   "cell_type": "code",
   "execution_count": 21,
   "id": "fc62e35e",
   "metadata": {},
   "outputs": [],
   "source": [
    "# --------------------"
   ]
  },
  {
   "cell_type": "markdown",
   "id": "105df8a8",
   "metadata": {},
   "source": [
    "## Extending Tables"
   ]
  },
  {
   "cell_type": "markdown",
   "id": "06528b74",
   "metadata": {},
   "source": [
    "### 1. Creating New Columns\n",
    "\n",
    "The `:=` operator updates the table inplace (no copy is made/needed!), i.e. changes of the input by reference.\n",
    "\n",
    "Columns can also be removed using `:= NULL"
   ]
  },
  {
   "cell_type": "code",
   "execution_count": 22,
   "id": "dab3cb34",
   "metadata": {},
   "outputs": [
    {
     "data": {
      "text/html": [
       "<table>\n",
       "<thead><tr><th scope=col>x</th><th scope=col>names</th><th scope=col>y</th><th scope=col>z</th><th scope=col>sum_x_y</th></tr></thead>\n",
       "<tbody>\n",
       "\t<tr><td>1      </td><td>Donata </td><td>1      </td><td>A      </td><td>2      </td></tr>\n",
       "\t<tr><td>2      </td><td>Philipp</td><td>2      </td><td>A      </td><td>4      </td></tr>\n",
       "\t<tr><td>3      </td><td>Donata </td><td>1      </td><td>B      </td><td>4      </td></tr>\n",
       "\t<tr><td>4      </td><td>Philipp</td><td>2      </td><td>C      </td><td>6      </td></tr>\n",
       "\t<tr><td>5      </td><td>Donata </td><td>1      </td><td>A      </td><td>6      </td></tr>\n",
       "\t<tr><td>6      </td><td>Philipp</td><td>2      </td><td>B      </td><td>8      </td></tr>\n",
       "</tbody>\n",
       "</table>\n"
      ],
      "text/latex": [
       "\\begin{tabular}{r|lllll}\n",
       " x & names & y & z & sum\\_x\\_y\\\\\n",
       "\\hline\n",
       "\t 1       & Donata  & 1       & A       & 2      \\\\\n",
       "\t 2       & Philipp & 2       & A       & 4      \\\\\n",
       "\t 3       & Donata  & 1       & B       & 4      \\\\\n",
       "\t 4       & Philipp & 2       & C       & 6      \\\\\n",
       "\t 5       & Donata  & 1       & A       & 6      \\\\\n",
       "\t 6       & Philipp & 2       & B       & 8      \\\\\n",
       "\\end{tabular}\n"
      ],
      "text/markdown": [
       "\n",
       "| x | names | y | z | sum_x_y |\n",
       "|---|---|---|---|---|\n",
       "| 1       | Donata  | 1       | A       | 2       |\n",
       "| 2       | Philipp | 2       | A       | 4       |\n",
       "| 3       | Donata  | 1       | B       | 4       |\n",
       "| 4       | Philipp | 2       | C       | 6       |\n",
       "| 5       | Donata  | 1       | A       | 6       |\n",
       "| 6       | Philipp | 2       | B       | 8       |\n",
       "\n"
      ],
      "text/plain": [
       "  x names   y z sum_x_y\n",
       "1 1 Donata  1 A 2      \n",
       "2 2 Philipp 2 A 4      \n",
       "3 3 Donata  1 B 4      \n",
       "4 4 Philipp 2 C 6      \n",
       "5 5 Donata  1 A 6      \n",
       "6 6 Philipp 2 B 8      "
      ]
     },
     "metadata": {},
     "output_type": "display_data"
    },
    {
     "data": {
      "text/html": [
       "<table>\n",
       "<thead><tr><th scope=col>x</th><th scope=col>names</th><th scope=col>y</th><th scope=col>sum_x_y</th></tr></thead>\n",
       "<tbody>\n",
       "\t<tr><td>1      </td><td>Donata </td><td>1      </td><td>2      </td></tr>\n",
       "\t<tr><td>2      </td><td>Philipp</td><td>2      </td><td>4      </td></tr>\n",
       "\t<tr><td>3      </td><td>Donata </td><td>1      </td><td>4      </td></tr>\n",
       "\t<tr><td>4      </td><td>Philipp</td><td>2      </td><td>6      </td></tr>\n",
       "\t<tr><td>5      </td><td>Donata </td><td>1      </td><td>6      </td></tr>\n",
       "\t<tr><td>6      </td><td>Philipp</td><td>2      </td><td>8      </td></tr>\n",
       "</tbody>\n",
       "</table>\n"
      ],
      "text/latex": [
       "\\begin{tabular}{r|llll}\n",
       " x & names & y & sum\\_x\\_y\\\\\n",
       "\\hline\n",
       "\t 1       & Donata  & 1       & 2      \\\\\n",
       "\t 2       & Philipp & 2       & 4      \\\\\n",
       "\t 3       & Donata  & 1       & 4      \\\\\n",
       "\t 4       & Philipp & 2       & 6      \\\\\n",
       "\t 5       & Donata  & 1       & 6      \\\\\n",
       "\t 6       & Philipp & 2       & 8      \\\\\n",
       "\\end{tabular}\n"
      ],
      "text/markdown": [
       "\n",
       "| x | names | y | sum_x_y |\n",
       "|---|---|---|---|\n",
       "| 1       | Donata  | 1       | 2       |\n",
       "| 2       | Philipp | 2       | 4       |\n",
       "| 3       | Donata  | 1       | 4       |\n",
       "| 4       | Philipp | 2       | 6       |\n",
       "| 5       | Donata  | 1       | 6       |\n",
       "| 6       | Philipp | 2       | 8       |\n",
       "\n"
      ],
      "text/plain": [
       "  x names   y sum_x_y\n",
       "1 1 Donata  1 2      \n",
       "2 2 Philipp 2 4      \n",
       "3 3 Donata  1 4      \n",
       "4 4 Philipp 2 6      \n",
       "5 5 Donata  1 6      \n",
       "6 6 Philipp 2 8      "
      ]
     },
     "metadata": {},
     "output_type": "display_data"
    }
   ],
   "source": [
    "# example\n",
    "DT[, sum_x_y := x+y]\n",
    "DT\n",
    "DT[, z := NULL]\n",
    "DT"
   ]
  },
  {
   "cell_type": "markdown",
   "id": "e16ceea8",
   "metadata": {},
   "source": [
    "### 2. Advanced: Multiple Assignments\n",
    "\n",
    "Create or delete multiple new columns or new columns with specific entries based on other columns."
   ]
  },
  {
   "cell_type": "code",
   "execution_count": 23,
   "id": "7b5ef1a5",
   "metadata": {},
   "outputs": [
    {
     "data": {
      "text/html": [
       "<table>\n",
       "<thead><tr><th scope=col>Sepal.Length</th><th scope=col>Sepal.Width</th><th scope=col>Petal.Length</th><th scope=col>Petal.Width</th><th scope=col>Species</th></tr></thead>\n",
       "<tbody>\n",
       "\t<tr><td>5.1   </td><td>3.5   </td><td>1.4   </td><td>0.2   </td><td>setosa</td></tr>\n",
       "\t<tr><td>4.9   </td><td>3.0   </td><td>1.4   </td><td>0.2   </td><td>setosa</td></tr>\n",
       "\t<tr><td>4.7   </td><td>3.2   </td><td>1.3   </td><td>0.2   </td><td>setosa</td></tr>\n",
       "</tbody>\n",
       "</table>\n"
      ],
      "text/latex": [
       "\\begin{tabular}{r|lllll}\n",
       " Sepal.Length & Sepal.Width & Petal.Length & Petal.Width & Species\\\\\n",
       "\\hline\n",
       "\t 5.1    & 3.5    & 1.4    & 0.2    & setosa\\\\\n",
       "\t 4.9    & 3.0    & 1.4    & 0.2    & setosa\\\\\n",
       "\t 4.7    & 3.2    & 1.3    & 0.2    & setosa\\\\\n",
       "\\end{tabular}\n"
      ],
      "text/markdown": [
       "\n",
       "| Sepal.Length | Sepal.Width | Petal.Length | Petal.Width | Species |\n",
       "|---|---|---|---|---|\n",
       "| 5.1    | 3.5    | 1.4    | 0.2    | setosa |\n",
       "| 4.9    | 3.0    | 1.4    | 0.2    | setosa |\n",
       "| 4.7    | 3.2    | 1.3    | 0.2    | setosa |\n",
       "\n"
      ],
      "text/plain": [
       "  Sepal.Length Sepal.Width Petal.Length Petal.Width Species\n",
       "1 5.1          3.5         1.4          0.2         setosa \n",
       "2 4.9          3.0         1.4          0.2         setosa \n",
       "3 4.7          3.2         1.3          0.2         setosa "
      ]
     },
     "metadata": {},
     "output_type": "display_data"
    },
    {
     "data": {
      "text/html": [
       "<table>\n",
       "<thead><tr><th scope=col>Sepal.Length</th><th scope=col>Sepal.Width</th><th scope=col>Petal.Length</th><th scope=col>Petal.Width</th><th scope=col>Species</th><th scope=col>Sepal.Area</th><th scope=col>Petal.Area</th></tr></thead>\n",
       "<tbody>\n",
       "\t<tr><td>5.1   </td><td>3.5   </td><td>1.4   </td><td>0.2   </td><td>setosa</td><td>17.85 </td><td>0.28  </td></tr>\n",
       "\t<tr><td>4.9   </td><td>3.0   </td><td>1.4   </td><td>0.2   </td><td>setosa</td><td>14.70 </td><td>0.28  </td></tr>\n",
       "\t<tr><td>4.7   </td><td>3.2   </td><td>1.3   </td><td>0.2   </td><td>setosa</td><td>15.04 </td><td>0.26  </td></tr>\n",
       "</tbody>\n",
       "</table>\n"
      ],
      "text/latex": [
       "\\begin{tabular}{r|lllllll}\n",
       " Sepal.Length & Sepal.Width & Petal.Length & Petal.Width & Species & Sepal.Area & Petal.Area\\\\\n",
       "\\hline\n",
       "\t 5.1    & 3.5    & 1.4    & 0.2    & setosa & 17.85  & 0.28  \\\\\n",
       "\t 4.9    & 3.0    & 1.4    & 0.2    & setosa & 14.70  & 0.28  \\\\\n",
       "\t 4.7    & 3.2    & 1.3    & 0.2    & setosa & 15.04  & 0.26  \\\\\n",
       "\\end{tabular}\n"
      ],
      "text/markdown": [
       "\n",
       "| Sepal.Length | Sepal.Width | Petal.Length | Petal.Width | Species | Sepal.Area | Petal.Area |\n",
       "|---|---|---|---|---|---|---|\n",
       "| 5.1    | 3.5    | 1.4    | 0.2    | setosa | 17.85  | 0.28   |\n",
       "| 4.9    | 3.0    | 1.4    | 0.2    | setosa | 14.70  | 0.28   |\n",
       "| 4.7    | 3.2    | 1.3    | 0.2    | setosa | 15.04  | 0.26   |\n",
       "\n"
      ],
      "text/plain": [
       "  Sepal.Length Sepal.Width Petal.Length Petal.Width Species Sepal.Area\n",
       "1 5.1          3.5         1.4          0.2         setosa  17.85     \n",
       "2 4.9          3.0         1.4          0.2         setosa  14.70     \n",
       "3 4.7          3.2         1.3          0.2         setosa  15.04     \n",
       "  Petal.Area\n",
       "1 0.28      \n",
       "2 0.28      \n",
       "3 0.26      "
      ]
     },
     "metadata": {},
     "output_type": "display_data"
    },
    {
     "data": {
      "text/html": [
       "<table>\n",
       "<thead><tr><th scope=col>Sepal.Length</th><th scope=col>Sepal.Width</th><th scope=col>Petal.Length</th><th scope=col>Petal.Width</th><th scope=col>Species</th></tr></thead>\n",
       "<tbody>\n",
       "\t<tr><td>5.1   </td><td>3.5   </td><td>1.4   </td><td>0.2   </td><td>setosa</td></tr>\n",
       "\t<tr><td>4.9   </td><td>3.0   </td><td>1.4   </td><td>0.2   </td><td>setosa</td></tr>\n",
       "\t<tr><td>4.7   </td><td>3.2   </td><td>1.3   </td><td>0.2   </td><td>setosa</td></tr>\n",
       "</tbody>\n",
       "</table>\n"
      ],
      "text/latex": [
       "\\begin{tabular}{r|lllll}\n",
       " Sepal.Length & Sepal.Width & Petal.Length & Petal.Width & Species\\\\\n",
       "\\hline\n",
       "\t 5.1    & 3.5    & 1.4    & 0.2    & setosa\\\\\n",
       "\t 4.9    & 3.0    & 1.4    & 0.2    & setosa\\\\\n",
       "\t 4.7    & 3.2    & 1.3    & 0.2    & setosa\\\\\n",
       "\\end{tabular}\n"
      ],
      "text/markdown": [
       "\n",
       "| Sepal.Length | Sepal.Width | Petal.Length | Petal.Width | Species |\n",
       "|---|---|---|---|---|\n",
       "| 5.1    | 3.5    | 1.4    | 0.2    | setosa |\n",
       "| 4.9    | 3.0    | 1.4    | 0.2    | setosa |\n",
       "| 4.7    | 3.2    | 1.3    | 0.2    | setosa |\n",
       "\n"
      ],
      "text/plain": [
       "  Sepal.Length Sepal.Width Petal.Length Petal.Width Species\n",
       "1 5.1          3.5         1.4          0.2         setosa \n",
       "2 4.9          3.0         1.4          0.2         setosa \n",
       "3 4.7          3.2         1.3          0.2         setosa "
      ]
     },
     "metadata": {},
     "output_type": "display_data"
    },
    {
     "data": {
      "text/html": [
       "<table>\n",
       "<thead><tr><th scope=col>Species</th><th scope=col>color</th></tr></thead>\n",
       "<tbody>\n",
       "\t<tr><td>setosa    </td><td>orange    </td></tr>\n",
       "\t<tr><td>versicolor</td><td>NA        </td></tr>\n",
       "\t<tr><td>virginica </td><td>NA        </td></tr>\n",
       "</tbody>\n",
       "</table>\n"
      ],
      "text/latex": [
       "\\begin{tabular}{r|ll}\n",
       " Species & color\\\\\n",
       "\\hline\n",
       "\t setosa     & orange    \\\\\n",
       "\t versicolor & NA        \\\\\n",
       "\t virginica  & NA        \\\\\n",
       "\\end{tabular}\n"
      ],
      "text/markdown": [
       "\n",
       "| Species | color |\n",
       "|---|---|\n",
       "| setosa     | orange     |\n",
       "| versicolor | NA         |\n",
       "| virginica  | NA         |\n",
       "\n"
      ],
      "text/plain": [
       "  Species    color \n",
       "1 setosa     orange\n",
       "2 versicolor NA    \n",
       "3 virginica  NA    "
      ]
     },
     "metadata": {},
     "output_type": "display_data"
    },
    {
     "data": {
      "text/html": [
       "<table>\n",
       "<thead><tr><th scope=col>Species</th><th scope=col>color</th></tr></thead>\n",
       "<tbody>\n",
       "\t<tr><td>setosa    </td><td>orange    </td></tr>\n",
       "\t<tr><td>versicolor</td><td>purple    </td></tr>\n",
       "\t<tr><td>virginica </td><td>NA        </td></tr>\n",
       "</tbody>\n",
       "</table>\n"
      ],
      "text/latex": [
       "\\begin{tabular}{r|ll}\n",
       " Species & color\\\\\n",
       "\\hline\n",
       "\t setosa     & orange    \\\\\n",
       "\t versicolor & purple    \\\\\n",
       "\t virginica  & NA        \\\\\n",
       "\\end{tabular}\n"
      ],
      "text/markdown": [
       "\n",
       "| Species | color |\n",
       "|---|---|\n",
       "| setosa     | orange     |\n",
       "| versicolor | purple     |\n",
       "| virginica  | NA         |\n",
       "\n"
      ],
      "text/plain": [
       "  Species    color \n",
       "1 setosa     orange\n",
       "2 versicolor purple\n",
       "3 virginica  NA    "
      ]
     },
     "metadata": {},
     "output_type": "display_data"
    },
    {
     "data": {
      "text/html": [
       "<table>\n",
       "<thead><tr><th scope=col>Species</th><th scope=col>color</th></tr></thead>\n",
       "<tbody>\n",
       "\t<tr><td>setosa    </td><td>orange    </td></tr>\n",
       "\t<tr><td>versicolor</td><td>purple    </td></tr>\n",
       "\t<tr><td>virginica </td><td>pink      </td></tr>\n",
       "</tbody>\n",
       "</table>\n"
      ],
      "text/latex": [
       "\\begin{tabular}{r|ll}\n",
       " Species & color\\\\\n",
       "\\hline\n",
       "\t setosa     & orange    \\\\\n",
       "\t versicolor & purple    \\\\\n",
       "\t virginica  & pink      \\\\\n",
       "\\end{tabular}\n"
      ],
      "text/markdown": [
       "\n",
       "| Species | color |\n",
       "|---|---|\n",
       "| setosa     | orange     |\n",
       "| versicolor | purple     |\n",
       "| virginica  | pink       |\n",
       "\n"
      ],
      "text/plain": [
       "  Species    color \n",
       "1 setosa     orange\n",
       "2 versicolor purple\n",
       "3 virginica  pink  "
      ]
     },
     "metadata": {},
     "output_type": "display_data"
    }
   ],
   "source": [
    "# create multiple new columns\n",
    "iris_dt[1:3]\n",
    "iris_dt[, `:=` (Sepal.Area = Sepal.Length * Sepal.Width, Petal.Area = Petal.Length * Petal.Width)][1:3]\n",
    "iris_dt[, `:=` (Sepal.Area = NULL, Petal.Area = NULL)][1:3]\n",
    "\n",
    "# add new column based on other column\n",
    "iris_dt[Species == \"setosa\", color := \"orange\"]\n",
    "unique(iris_dt[, .(Species, color)])\n",
    "iris_dt[Species == \"versicolor\", color := \"purple\"]\n",
    "unique(iris_dt[, .(Species, color)])\n",
    "iris_dt[Species == \"virginica\", color := \"pink\"]\n",
    "unique(iris_dt[, .(Species, color)])"
   ]
  },
  {
   "cell_type": "markdown",
   "id": "afdcfd61",
   "metadata": {},
   "source": [
    "### 3. Copying Tables\n",
    "\n",
    "Create a copy of a table in the memory by using `copy()`. This copy is no longer linked to the original hence changes in one tables does not affect the other one (in contrast to \"copies\" created via `<-`)."
   ]
  },
  {
   "cell_type": "code",
   "execution_count": 24,
   "id": "ca45c157",
   "metadata": {},
   "outputs": [
    {
     "data": {
      "text/html": [
       "<ol class=list-inline>\n",
       "\t<li>'x'</li>\n",
       "\t<li>'names'</li>\n",
       "\t<li>'y'</li>\n",
       "\t<li>'sum_x_y'</li>\n",
       "</ol>\n"
      ],
      "text/latex": [
       "\\begin{enumerate*}\n",
       "\\item 'x'\n",
       "\\item 'names'\n",
       "\\item 'y'\n",
       "\\item 'sum\\_x\\_y'\n",
       "\\end{enumerate*}\n"
      ],
      "text/markdown": [
       "1. 'x'\n",
       "2. 'names'\n",
       "3. 'y'\n",
       "4. 'sum_x_y'\n",
       "\n",
       "\n"
      ],
      "text/plain": [
       "[1] \"x\"       \"names\"   \"y\"       \"sum_x_y\""
      ]
     },
     "metadata": {},
     "output_type": "display_data"
    },
    {
     "data": {
      "text/html": [
       "<ol class=list-inline>\n",
       "\t<li>'x'</li>\n",
       "\t<li>'y'</li>\n",
       "\t<li>'sum_x_y'</li>\n",
       "</ol>\n"
      ],
      "text/latex": [
       "\\begin{enumerate*}\n",
       "\\item 'x'\n",
       "\\item 'y'\n",
       "\\item 'sum\\_x\\_y'\n",
       "\\end{enumerate*}\n"
      ],
      "text/markdown": [
       "1. 'x'\n",
       "2. 'y'\n",
       "3. 'sum_x_y'\n",
       "\n",
       "\n"
      ],
      "text/plain": [
       "[1] \"x\"       \"y\"       \"sum_x_y\""
      ]
     },
     "metadata": {},
     "output_type": "display_data"
    },
    {
     "data": {
      "text/html": [
       "<ol class=list-inline>\n",
       "\t<li>'x'</li>\n",
       "\t<li>'y'</li>\n",
       "\t<li>'sum_x_y'</li>\n",
       "\t<li>'names'</li>\n",
       "</ol>\n"
      ],
      "text/latex": [
       "\\begin{enumerate*}\n",
       "\\item 'x'\n",
       "\\item 'y'\n",
       "\\item 'sum\\_x\\_y'\n",
       "\\item 'names'\n",
       "\\end{enumerate*}\n"
      ],
      "text/markdown": [
       "1. 'x'\n",
       "2. 'y'\n",
       "3. 'sum_x_y'\n",
       "4. 'names'\n",
       "\n",
       "\n"
      ],
      "text/plain": [
       "[1] \"x\"       \"y\"       \"sum_x_y\" \"names\"  "
      ]
     },
     "metadata": {},
     "output_type": "display_data"
    },
    {
     "data": {
      "text/html": [
       "<ol class=list-inline>\n",
       "\t<li>'x'</li>\n",
       "\t<li>'y'</li>\n",
       "\t<li>'sum_x_y'</li>\n",
       "</ol>\n"
      ],
      "text/latex": [
       "\\begin{enumerate*}\n",
       "\\item 'x'\n",
       "\\item 'y'\n",
       "\\item 'sum\\_x\\_y'\n",
       "\\end{enumerate*}\n"
      ],
      "text/markdown": [
       "1. 'x'\n",
       "2. 'y'\n",
       "3. 'sum_x_y'\n",
       "\n",
       "\n"
      ],
      "text/plain": [
       "[1] \"x\"       \"y\"       \"sum_x_y\""
      ]
     },
     "metadata": {},
     "output_type": "display_data"
    }
   ],
   "source": [
    "# example\n",
    "DT_copy <- DT\n",
    "DT %>% colnames()\n",
    "DT_copy[, names := NULL]                                      # changes in this \"copy\" affect the original table\n",
    "DT %>% colnames()\n",
    "\n",
    "DT_copy_real <- copy(DT)\n",
    "DT_copy_real[, 'names' := rep(c(\"Donata\", \"Philipp\"), 3)]\n",
    "DT_copy_real %>% colnames()\n",
    "DT %>% colnames()"
   ]
  },
  {
   "cell_type": "code",
   "execution_count": 25,
   "id": "e292c370",
   "metadata": {},
   "outputs": [],
   "source": [
    "# --------------------"
   ]
  },
  {
   "cell_type": "markdown",
   "id": "053f46b7",
   "metadata": {},
   "source": [
    "##### End of Section 2!"
   ]
  }
 ],
 "metadata": {
  "@webio": {
   "lastCommId": null,
   "lastKernelId": null
  },
  "kernelspec": {
   "display_name": "R",
   "language": "R",
   "name": "ir"
  },
  "language_info": {
   "codemirror_mode": "r",
   "file_extension": ".r",
   "mimetype": "text/x-r-source",
   "name": "R",
   "pygments_lexer": "r",
   "version": "3.6.1"
  }
 },
 "nbformat": 4,
 "nbformat_minor": 5
}
