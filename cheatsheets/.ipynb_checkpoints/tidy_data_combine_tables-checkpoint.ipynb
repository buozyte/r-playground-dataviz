{
 "cells": [
  {
   "cell_type": "markdown",
   "id": "6cfbfb8a",
   "metadata": {},
   "source": [
    "# Section 3 - Tidy Data and Combining Tables"
   ]
  },
  {
   "cell_type": "markdown",
   "id": "27805470",
   "metadata": {},
   "source": [
    "## Motivation\n",
    "\n",
    "Get tidy data (i.e. data in standard representation) for good and easier analysis and visulization.\n",
    "\n",
    "Concatenate tables with same format or merge tables with common tables for analysis and visulization"
   ]
  },
  {
   "cell_type": "code",
   "execution_count": 1,
   "id": "7d6480be",
   "metadata": {},
   "outputs": [],
   "source": [
    "library(data.table)\n",
    "library(tidyr)          # package for tidying data"
   ]
  },
  {
   "cell_type": "code",
   "execution_count": 2,
   "id": "6b77adb1",
   "metadata": {},
   "outputs": [
    {
     "name": "stderr",
     "output_type": "stream",
     "text": [
      "Warning message in fread(file.path(file_path, \"US-pres16results.csv\"), na.strings = c(\"NULL\", :\n",
      "“Discarded single-line footer: <<\"Menard County\",\"48327\",\"Jill Stein\",\"TX\",1,1,8>>”"
     ]
    }
   ],
   "source": [
    "# prepare some tables\n",
    "file_path <- file.path(\"/Users\", \"donatabuozyte\", \"Downloads\", \"extdata\")\n",
    "\n",
    "election_results <- fread(file.path(file_path, \"US-pres16results.csv\"), \n",
    "                            na.strings=c(\"NULL\", \"NA\"), encoding = \"UTF-8\", sep = \",\")\n",
    "election_results <- election_results[is.na(county) & st != \"US\", .(cand, st, votes, total_votes)]\n",
    "\n",
    "setnames(election_results, \"cand\", \"candidate\")\n",
    "setnames(election_results, \"st\", \"state\")\n",
    "\n",
    "table1 <- fread(file.path(file_path, \"table1_alternate.csv\"),\n",
    "                  na.strings=c(\"NULL\", \"NA\"), encoding = \"UTF-8\", sep = \",\") \n",
    "\n",
    "table2 <- fread(file.path(file_path, \"table2_alternate.csv\"), \n",
    "                  na.strings=c(\"NULL\", \"NA\"), encoding = \"UTF-8\", sep = \",\") \n",
    "\n",
    "table3 <- fread(file.path(file_path, \"table3_alternate.csv\"), \n",
    "                  na.strings=c(\"NULL\", \"NA\"), encoding = \"UTF-8\", sep = \",\")\n",
    "\n",
    "table4 <- fread(file.path(file_path, \"table4_alternate.csv\"), \n",
    "                  na.strings=c(\"NULL\", \"NA\"), encoding = \"UTF-8\", sep = \",\") \n",
    "\n",
    "table5 <- fread(file.path(file_path, \"table5_alternate.csv\"), \n",
    "                  na.strings=c(\"NULL\", \"NA\"), encoding = \"UTF-8\", sep = \",\") \n",
    "                  \n",
    "survey <- fread(file.path(file_path, \"kaggle-survey-2017\", \"multipleChoiceResponses.csv\"))"
   ]
  },
  {
   "cell_type": "code",
   "execution_count": 3,
   "id": "bcfac9bf",
   "metadata": {},
   "outputs": [],
   "source": [
    "# --------------------"
   ]
  },
  {
   "cell_type": "markdown",
   "id": "a8c8ce31",
   "metadata": {},
   "source": [
    "## Tidy and Untidy Data"
   ]
  },
  {
   "cell_type": "markdown",
   "id": "a3d13e9d",
   "metadata": {},
   "source": [
    "### 1. Definition of Tidy Data\n",
    "\n",
    "1. each *variable* has its own *column*.\n",
    "2. each *observation* has its own *row*.\n",
    "3. each *value* has its own *cell*."
   ]
  },
  {
   "cell_type": "code",
   "execution_count": 4,
   "id": "769c3df5",
   "metadata": {},
   "outputs": [
    {
     "data": {
      "text/html": [
       "<table>\n",
       "<thead><tr><th scope=col>candidate</th><th scope=col>state</th><th scope=col>votes</th><th scope=col>total_votes</th></tr></thead>\n",
       "<tbody>\n",
       "\t<tr><td>Hillary Clinton</td><td>CA             </td><td>5931283        </td><td>9631972        </td></tr>\n",
       "\t<tr><td>Donald Trump   </td><td>CA             </td><td>3184721        </td><td>9631972        </td></tr>\n",
       "\t<tr><td>Gary Johnson   </td><td>CA             </td><td> 308392        </td><td>9631972        </td></tr>\n",
       "\t<tr><td>Jill Stein     </td><td>CA             </td><td> 166311        </td><td>9631972        </td></tr>\n",
       "\t<tr><td>Gloria La Riva </td><td>CA             </td><td>  41265        </td><td>9631972        </td></tr>\n",
       "\t<tr><td>Donald Trump   </td><td>FL             </td><td>4605515        </td><td>9386750        </td></tr>\n",
       "</tbody>\n",
       "</table>\n"
      ],
      "text/latex": [
       "\\begin{tabular}{r|llll}\n",
       " candidate & state & votes & total\\_votes\\\\\n",
       "\\hline\n",
       "\t Hillary Clinton & CA              & 5931283         & 9631972        \\\\\n",
       "\t Donald Trump    & CA              & 3184721         & 9631972        \\\\\n",
       "\t Gary Johnson    & CA              &  308392         & 9631972        \\\\\n",
       "\t Jill Stein      & CA              &  166311         & 9631972        \\\\\n",
       "\t Gloria La Riva  & CA              &   41265         & 9631972        \\\\\n",
       "\t Donald Trump    & FL              & 4605515         & 9386750        \\\\\n",
       "\\end{tabular}\n"
      ],
      "text/markdown": [
       "\n",
       "| candidate | state | votes | total_votes |\n",
       "|---|---|---|---|\n",
       "| Hillary Clinton | CA              | 5931283         | 9631972         |\n",
       "| Donald Trump    | CA              | 3184721         | 9631972         |\n",
       "| Gary Johnson    | CA              |  308392         | 9631972         |\n",
       "| Jill Stein      | CA              |  166311         | 9631972         |\n",
       "| Gloria La Riva  | CA              |   41265         | 9631972         |\n",
       "| Donald Trump    | FL              | 4605515         | 9386750         |\n",
       "\n"
      ],
      "text/plain": [
       "  candidate       state votes   total_votes\n",
       "1 Hillary Clinton CA    5931283 9631972    \n",
       "2 Donald Trump    CA    3184721 9631972    \n",
       "3 Gary Johnson    CA     308392 9631972    \n",
       "4 Jill Stein      CA     166311 9631972    \n",
       "5 Gloria La Riva  CA      41265 9631972    \n",
       "6 Donald Trump    FL    4605515 9386750    "
      ]
     },
     "metadata": {},
     "output_type": "display_data"
    }
   ],
   "source": [
    "# examples for a tidy dataset\n",
    "head(election_results)"
   ]
  },
  {
   "cell_type": "markdown",
   "id": "dcba2d38",
   "metadata": {},
   "source": [
    "### 2. Advantages of Tidy Data\n",
    "\n",
    "Reduce burden to frequently reorganize data, in particular:\n",
    "    1. easier manipulation (via `data.table` commands).\n",
    "    2. vectorizes opersations easier to use.\n",
    "    3. other tools (like plotting or modeling functions) work better."
   ]
  },
  {
   "cell_type": "markdown",
   "id": "14558c01",
   "metadata": {},
   "source": [
    "### 3. Common Signs of Untidy Datasets\n",
    "\n",
    "1. column headers are values (not variable names).\n",
    "2. multiple variables in column.\n",
    "3. variables stored on columns **and** rows.\n",
    "4. single observational unit stored in multiple tables.\n",
    "5. multiple types of observational units stored in same table (see last section)."
   ]
  },
  {
   "cell_type": "code",
   "execution_count": 5,
   "id": "9f72f27f",
   "metadata": {},
   "outputs": [],
   "source": [
    "# --------------------"
   ]
  },
  {
   "cell_type": "markdown",
   "id": "28e31ff5",
   "metadata": {},
   "source": [
    "## Tidying Up Datasets"
   ]
  },
  {
   "cell_type": "markdown",
   "id": "df95a610",
   "metadata": {},
   "source": [
    "### 1. Melting (Wide to Long)\n",
    "\n",
    "Common operation: transform wide table to long table (*Melting*).\n",
    "\n",
    "Useful if: column headers are values (not variable names).\n",
    "\n",
    "For more info: `?melt`"
   ]
  },
  {
   "cell_type": "code",
   "execution_count": 6,
   "id": "c08472c7",
   "metadata": {},
   "outputs": [
    {
     "data": {
      "text/html": [
       "<table>\n",
       "<thead><tr><th scope=col>candidate</th><th scope=col>CA</th><th scope=col>FL</th></tr></thead>\n",
       "<tbody>\n",
       "\t<tr><td>Hillary Clinton</td><td>5931283        </td><td>4485745        </td></tr>\n",
       "\t<tr><td>Donald Trump   </td><td>3184721        </td><td>4605515        </td></tr>\n",
       "\t<tr><td>Gary Johnson   </td><td> 308392        </td><td> 206007        </td></tr>\n",
       "\t<tr><td>Jill Stein     </td><td> 166311        </td><td>  64019        </td></tr>\n",
       "</tbody>\n",
       "</table>\n"
      ],
      "text/latex": [
       "\\begin{tabular}{r|lll}\n",
       " candidate & CA & FL\\\\\n",
       "\\hline\n",
       "\t Hillary Clinton & 5931283         & 4485745        \\\\\n",
       "\t Donald Trump    & 3184721         & 4605515        \\\\\n",
       "\t Gary Johnson    &  308392         &  206007        \\\\\n",
       "\t Jill Stein      &  166311         &   64019        \\\\\n",
       "\\end{tabular}\n"
      ],
      "text/markdown": [
       "\n",
       "| candidate | CA | FL |\n",
       "|---|---|---|\n",
       "| Hillary Clinton | 5931283         | 4485745         |\n",
       "| Donald Trump    | 3184721         | 4605515         |\n",
       "| Gary Johnson    |  308392         |  206007         |\n",
       "| Jill Stein      |  166311         |   64019         |\n",
       "\n"
      ],
      "text/plain": [
       "  candidate       CA      FL     \n",
       "1 Hillary Clinton 5931283 4485745\n",
       "2 Donald Trump    3184721 4605515\n",
       "3 Gary Johnson     308392  206007\n",
       "4 Jill Stein       166311   64019"
      ]
     },
     "metadata": {},
     "output_type": "display_data"
    },
    {
     "data": {
      "text/html": [
       "<table>\n",
       "<thead><tr><th scope=col>candidate</th><th scope=col>state</th><th scope=col>votes</th></tr></thead>\n",
       "<tbody>\n",
       "\t<tr><td>Hillary Clinton</td><td>CA             </td><td>5931283        </td></tr>\n",
       "\t<tr><td>Donald Trump   </td><td>CA             </td><td>3184721        </td></tr>\n",
       "\t<tr><td>Gary Johnson   </td><td>CA             </td><td> 308392        </td></tr>\n",
       "\t<tr><td>Jill Stein     </td><td>CA             </td><td> 166311        </td></tr>\n",
       "\t<tr><td>Hillary Clinton</td><td>FL             </td><td>4485745        </td></tr>\n",
       "\t<tr><td>Donald Trump   </td><td>FL             </td><td>4605515        </td></tr>\n",
       "\t<tr><td>Gary Johnson   </td><td>FL             </td><td> 206007        </td></tr>\n",
       "\t<tr><td>Jill Stein     </td><td>FL             </td><td>  64019        </td></tr>\n",
       "</tbody>\n",
       "</table>\n"
      ],
      "text/latex": [
       "\\begin{tabular}{r|lll}\n",
       " candidate & state & votes\\\\\n",
       "\\hline\n",
       "\t Hillary Clinton & CA              & 5931283        \\\\\n",
       "\t Donald Trump    & CA              & 3184721        \\\\\n",
       "\t Gary Johnson    & CA              &  308392        \\\\\n",
       "\t Jill Stein      & CA              &  166311        \\\\\n",
       "\t Hillary Clinton & FL              & 4485745        \\\\\n",
       "\t Donald Trump    & FL              & 4605515        \\\\\n",
       "\t Gary Johnson    & FL              &  206007        \\\\\n",
       "\t Jill Stein      & FL              &   64019        \\\\\n",
       "\\end{tabular}\n"
      ],
      "text/markdown": [
       "\n",
       "| candidate | state | votes |\n",
       "|---|---|---|\n",
       "| Hillary Clinton | CA              | 5931283         |\n",
       "| Donald Trump    | CA              | 3184721         |\n",
       "| Gary Johnson    | CA              |  308392         |\n",
       "| Jill Stein      | CA              |  166311         |\n",
       "| Hillary Clinton | FL              | 4485745         |\n",
       "| Donald Trump    | FL              | 4605515         |\n",
       "| Gary Johnson    | FL              |  206007         |\n",
       "| Jill Stein      | FL              |   64019         |\n",
       "\n"
      ],
      "text/plain": [
       "  candidate       state votes  \n",
       "1 Hillary Clinton CA    5931283\n",
       "2 Donald Trump    CA    3184721\n",
       "3 Gary Johnson    CA     308392\n",
       "4 Jill Stein      CA     166311\n",
       "5 Hillary Clinton FL    4485745\n",
       "6 Donald Trump    FL    4605515\n",
       "7 Gary Johnson    FL     206007\n",
       "8 Jill Stein      FL      64019"
      ]
     },
     "metadata": {},
     "output_type": "display_data"
    }
   ],
   "source": [
    "# example: column names for US states are values of variable `state`\n",
    "table4\n",
    "\n",
    "melt(table4,\n",
    "     id.vars = \"candidate\", \n",
    "     measure.vars = c(\"CA\", \"FL\"),     # gather all values in these columns ...\n",
    "     value.name = \"votes\",             # ... into this column\n",
    "     variable.name = \"state\")          # create new column storing all values previously contained in column names\n",
    "                                       # (i.e. in measure.vars)"
   ]
  },
  {
   "cell_type": "markdown",
   "id": "33f0a8b3",
   "metadata": {},
   "source": [
    "### 2. Casting (Long to Wide)\n",
    "\n",
    "Common operation: transform long table to wide table (*Casting*).\n",
    "\n",
    "Useful if: multiple variables stored in one column.\n",
    "\n",
    "Format of `dcast`: `dcast(data, formula, value.var = guess(data))`, for more info: `?dcast`"
   ]
  },
  {
   "cell_type": "code",
   "execution_count": 7,
   "id": "1d8af63e",
   "metadata": {},
   "outputs": [
    {
     "data": {
      "text/html": [
       "<table>\n",
       "<thead><tr><th scope=col>candidate</th><th scope=col>state</th><th scope=col>type</th><th scope=col>value</th></tr></thead>\n",
       "<tbody>\n",
       "\t<tr><td>Hillary Clinton</td><td>CA             </td><td>votes          </td><td>5931283        </td></tr>\n",
       "\t<tr><td>Hillary Clinton</td><td>CA             </td><td>total_votes    </td><td>9631972        </td></tr>\n",
       "\t<tr><td>Donald Trump   </td><td>CA             </td><td>votes          </td><td>3184721        </td></tr>\n",
       "\t<tr><td>Donald Trump   </td><td>CA             </td><td>total_votes    </td><td>9631972        </td></tr>\n",
       "\t<tr><td>Gary Johnson   </td><td>CA             </td><td>votes          </td><td> 308392        </td></tr>\n",
       "\t<tr><td>Gary Johnson   </td><td>CA             </td><td>total_votes    </td><td>9631972        </td></tr>\n",
       "</tbody>\n",
       "</table>\n"
      ],
      "text/latex": [
       "\\begin{tabular}{r|llll}\n",
       " candidate & state & type & value\\\\\n",
       "\\hline\n",
       "\t Hillary Clinton & CA              & votes           & 5931283        \\\\\n",
       "\t Hillary Clinton & CA              & total\\_votes   & 9631972        \\\\\n",
       "\t Donald Trump    & CA              & votes           & 3184721        \\\\\n",
       "\t Donald Trump    & CA              & total\\_votes   & 9631972        \\\\\n",
       "\t Gary Johnson    & CA              & votes           &  308392        \\\\\n",
       "\t Gary Johnson    & CA              & total\\_votes   & 9631972        \\\\\n",
       "\\end{tabular}\n"
      ],
      "text/markdown": [
       "\n",
       "| candidate | state | type | value |\n",
       "|---|---|---|---|\n",
       "| Hillary Clinton | CA              | votes           | 5931283         |\n",
       "| Hillary Clinton | CA              | total_votes     | 9631972         |\n",
       "| Donald Trump    | CA              | votes           | 3184721         |\n",
       "| Donald Trump    | CA              | total_votes     | 9631972         |\n",
       "| Gary Johnson    | CA              | votes           |  308392         |\n",
       "| Gary Johnson    | CA              | total_votes     | 9631972         |\n",
       "\n"
      ],
      "text/plain": [
       "  candidate       state type        value  \n",
       "1 Hillary Clinton CA    votes       5931283\n",
       "2 Hillary Clinton CA    total_votes 9631972\n",
       "3 Donald Trump    CA    votes       3184721\n",
       "4 Donald Trump    CA    total_votes 9631972\n",
       "5 Gary Johnson    CA    votes        308392\n",
       "6 Gary Johnson    CA    total_votes 9631972"
      ]
     },
     "metadata": {},
     "output_type": "display_data"
    },
    {
     "data": {
      "text/html": [
       "<table>\n",
       "<thead><tr><th scope=col>candidate</th><th scope=col>state</th><th scope=col>total_votes</th><th scope=col>votes</th></tr></thead>\n",
       "<tbody>\n",
       "\t<tr><td>Donald Trump   </td><td>CA             </td><td>9631972        </td><td>3184721        </td></tr>\n",
       "\t<tr><td>Gary Johnson   </td><td>CA             </td><td>9631972        </td><td> 308392        </td></tr>\n",
       "\t<tr><td>Hillary Clinton</td><td>CA             </td><td>9631972        </td><td>5931283        </td></tr>\n",
       "</tbody>\n",
       "</table>\n"
      ],
      "text/latex": [
       "\\begin{tabular}{r|llll}\n",
       " candidate & state & total\\_votes & votes\\\\\n",
       "\\hline\n",
       "\t Donald Trump    & CA              & 9631972         & 3184721        \\\\\n",
       "\t Gary Johnson    & CA              & 9631972         &  308392        \\\\\n",
       "\t Hillary Clinton & CA              & 9631972         & 5931283        \\\\\n",
       "\\end{tabular}\n"
      ],
      "text/markdown": [
       "\n",
       "| candidate | state | total_votes | votes |\n",
       "|---|---|---|---|\n",
       "| Donald Trump    | CA              | 9631972         | 3184721         |\n",
       "| Gary Johnson    | CA              | 9631972         |  308392         |\n",
       "| Hillary Clinton | CA              | 9631972         | 5931283         |\n",
       "\n"
      ],
      "text/plain": [
       "  candidate       state total_votes votes  \n",
       "1 Donald Trump    CA    9631972     3184721\n",
       "2 Gary Johnson    CA    9631972      308392\n",
       "3 Hillary Clinton CA    9631972     5931283"
      ]
     },
     "metadata": {},
     "output_type": "display_data"
    }
   ],
   "source": [
    "# example: column `value` contains `votes` and `total_votes`\n",
    "table2\n",
    "\n",
    "dcast(table2,\n",
    "      ... ~ type,              # \"create new columns containg the values of this column\",\n",
    "                               #     other columns are arranged accordingly\n",
    "      value.var = \"value\")     # extract values from this column"
   ]
  },
  {
   "cell_type": "markdown",
   "id": "58e7611d",
   "metadata": {},
   "source": [
    "### 3. Separating Columns\n",
    "\n",
    "Spread values/information in one column across multiple columns.\n",
    "\n",
    "Hint: separation by non-alphanumerical characters by default."
   ]
  },
  {
   "cell_type": "code",
   "execution_count": 8,
   "id": "6f657239",
   "metadata": {},
   "outputs": [
    {
     "data": {
      "text/html": [
       "<table>\n",
       "<thead><tr><th scope=col>candidate</th><th scope=col>state</th><th scope=col>proportion</th></tr></thead>\n",
       "<tbody>\n",
       "\t<tr><td>Hillary Clinton</td><td>CA             </td><td>5931283/9631972</td></tr>\n",
       "\t<tr><td>Donald Trump   </td><td>CA             </td><td>3184721/9631972</td></tr>\n",
       "\t<tr><td>Gary Johnson   </td><td>CA             </td><td>308392/9631972 </td></tr>\n",
       "</tbody>\n",
       "</table>\n"
      ],
      "text/latex": [
       "\\begin{tabular}{r|lll}\n",
       " candidate & state & proportion\\\\\n",
       "\\hline\n",
       "\t Hillary Clinton & CA              & 5931283/9631972\\\\\n",
       "\t Donald Trump    & CA              & 3184721/9631972\\\\\n",
       "\t Gary Johnson    & CA              & 308392/9631972 \\\\\n",
       "\\end{tabular}\n"
      ],
      "text/markdown": [
       "\n",
       "| candidate | state | proportion |\n",
       "|---|---|---|\n",
       "| Hillary Clinton | CA              | 5931283/9631972 |\n",
       "| Donald Trump    | CA              | 3184721/9631972 |\n",
       "| Gary Johnson    | CA              | 308392/9631972  |\n",
       "\n"
      ],
      "text/plain": [
       "  candidate       state proportion     \n",
       "1 Hillary Clinton CA    5931283/9631972\n",
       "2 Donald Trump    CA    3184721/9631972\n",
       "3 Gary Johnson    CA    308392/9631972 "
      ]
     },
     "metadata": {},
     "output_type": "display_data"
    },
    {
     "data": {
      "text/html": [
       "<table>\n",
       "<thead><tr><th scope=col>candidate</th><th scope=col>state</th><th scope=col>votes</th><th scope=col>total_votes</th></tr></thead>\n",
       "<tbody>\n",
       "\t<tr><td>Hillary Clinton</td><td>CA             </td><td>5931283        </td><td>9631972        </td></tr>\n",
       "\t<tr><td>Donald Trump   </td><td>CA             </td><td>3184721        </td><td>9631972        </td></tr>\n",
       "\t<tr><td>Gary Johnson   </td><td>CA             </td><td>308392         </td><td>9631972        </td></tr>\n",
       "</tbody>\n",
       "</table>\n"
      ],
      "text/latex": [
       "\\begin{tabular}{r|llll}\n",
       " candidate & state & votes & total\\_votes\\\\\n",
       "\\hline\n",
       "\t Hillary Clinton & CA              & 5931283         & 9631972        \\\\\n",
       "\t Donald Trump    & CA              & 3184721         & 9631972        \\\\\n",
       "\t Gary Johnson    & CA              & 308392          & 9631972        \\\\\n",
       "\\end{tabular}\n"
      ],
      "text/markdown": [
       "\n",
       "| candidate | state | votes | total_votes |\n",
       "|---|---|---|---|\n",
       "| Hillary Clinton | CA              | 5931283         | 9631972         |\n",
       "| Donald Trump    | CA              | 3184721         | 9631972         |\n",
       "| Gary Johnson    | CA              | 308392          | 9631972         |\n",
       "\n"
      ],
      "text/plain": [
       "  candidate       state votes   total_votes\n",
       "1 Hillary Clinton CA    5931283 9631972    \n",
       "2 Donald Trump    CA    3184721 9631972    \n",
       "3 Gary Johnson    CA    308392  9631972    "
      ]
     },
     "metadata": {},
     "output_type": "display_data"
    }
   ],
   "source": [
    "# example: `proportion` column should be divided into `votes` and `total_votes` (more useful!)\n",
    "table3\n",
    "\n",
    "separate(table3,\n",
    "         col = proportion,\n",
    "         into = c(\"votes\", \"total_votes\"))     # default separator: anything non-alphanumerical"
   ]
  },
  {
   "cell_type": "markdown",
   "id": "6b8cee90",
   "metadata": {},
   "source": [
    "### 4. Uniting Columns\n",
    "\n",
    "Unite multiple columns with values, which should be together (like the first and last name), into one column."
   ]
  },
  {
   "cell_type": "code",
   "execution_count": 9,
   "id": "bc4d19c5",
   "metadata": {},
   "outputs": [
    {
     "data": {
      "text/html": [
       "<table>\n",
       "<thead><tr><th scope=col>name</th><th scope=col>surname</th><th scope=col>state</th><th scope=col>votes</th><th scope=col>total_votes</th></tr></thead>\n",
       "<tbody>\n",
       "\t<tr><td>Hillary</td><td>Clinton</td><td>CA     </td><td>5931283</td><td>9631972</td></tr>\n",
       "\t<tr><td>Donald </td><td>Trump  </td><td>CA     </td><td>3184721</td><td>9631972</td></tr>\n",
       "\t<tr><td>Gary   </td><td>Johnson</td><td>CA     </td><td> 308392</td><td>9631972</td></tr>\n",
       "\t<tr><td>Jill   </td><td>Stein  </td><td>CA     </td><td> 166311</td><td>9631972</td></tr>\n",
       "\t<tr><td>Gloria </td><td>La Riva</td><td>CA     </td><td>  41265</td><td>9631972</td></tr>\n",
       "</tbody>\n",
       "</table>\n"
      ],
      "text/latex": [
       "\\begin{tabular}{r|lllll}\n",
       " name & surname & state & votes & total\\_votes\\\\\n",
       "\\hline\n",
       "\t Hillary & Clinton & CA      & 5931283 & 9631972\\\\\n",
       "\t Donald  & Trump   & CA      & 3184721 & 9631972\\\\\n",
       "\t Gary    & Johnson & CA      &  308392 & 9631972\\\\\n",
       "\t Jill    & Stein   & CA      &  166311 & 9631972\\\\\n",
       "\t Gloria  & La Riva & CA      &   41265 & 9631972\\\\\n",
       "\\end{tabular}\n"
      ],
      "text/markdown": [
       "\n",
       "| name | surname | state | votes | total_votes |\n",
       "|---|---|---|---|---|\n",
       "| Hillary | Clinton | CA      | 5931283 | 9631972 |\n",
       "| Donald  | Trump   | CA      | 3184721 | 9631972 |\n",
       "| Gary    | Johnson | CA      |  308392 | 9631972 |\n",
       "| Jill    | Stein   | CA      |  166311 | 9631972 |\n",
       "| Gloria  | La Riva | CA      |   41265 | 9631972 |\n",
       "\n"
      ],
      "text/plain": [
       "  name    surname state votes   total_votes\n",
       "1 Hillary Clinton CA    5931283 9631972    \n",
       "2 Donald  Trump   CA    3184721 9631972    \n",
       "3 Gary    Johnson CA     308392 9631972    \n",
       "4 Jill    Stein   CA     166311 9631972    \n",
       "5 Gloria  La Riva CA      41265 9631972    "
      ]
     },
     "metadata": {},
     "output_type": "display_data"
    },
    {
     "data": {
      "text/html": [
       "<table>\n",
       "<thead><tr><th scope=col>candidate</th><th scope=col>state</th><th scope=col>votes</th><th scope=col>total_votes</th></tr></thead>\n",
       "<tbody>\n",
       "\t<tr><td>Hillary Clinton</td><td>CA             </td><td>5931283        </td><td>9631972        </td></tr>\n",
       "\t<tr><td>Donald Trump   </td><td>CA             </td><td>3184721        </td><td>9631972        </td></tr>\n",
       "\t<tr><td>Gary Johnson   </td><td>CA             </td><td> 308392        </td><td>9631972        </td></tr>\n",
       "\t<tr><td>Jill Stein     </td><td>CA             </td><td> 166311        </td><td>9631972        </td></tr>\n",
       "\t<tr><td>Gloria La Riva </td><td>CA             </td><td>  41265        </td><td>9631972        </td></tr>\n",
       "</tbody>\n",
       "</table>\n"
      ],
      "text/latex": [
       "\\begin{tabular}{r|llll}\n",
       " candidate & state & votes & total\\_votes\\\\\n",
       "\\hline\n",
       "\t Hillary Clinton & CA              & 5931283         & 9631972        \\\\\n",
       "\t Donald Trump    & CA              & 3184721         & 9631972        \\\\\n",
       "\t Gary Johnson    & CA              &  308392         & 9631972        \\\\\n",
       "\t Jill Stein      & CA              &  166311         & 9631972        \\\\\n",
       "\t Gloria La Riva  & CA              &   41265         & 9631972        \\\\\n",
       "\\end{tabular}\n"
      ],
      "text/markdown": [
       "\n",
       "| candidate | state | votes | total_votes |\n",
       "|---|---|---|---|\n",
       "| Hillary Clinton | CA              | 5931283         | 9631972         |\n",
       "| Donald Trump    | CA              | 3184721         | 9631972         |\n",
       "| Gary Johnson    | CA              |  308392         | 9631972         |\n",
       "| Jill Stein      | CA              |  166311         | 9631972         |\n",
       "| Gloria La Riva  | CA              |   41265         | 9631972         |\n",
       "\n"
      ],
      "text/plain": [
       "  candidate       state votes   total_votes\n",
       "1 Hillary Clinton CA    5931283 9631972    \n",
       "2 Donald Trump    CA    3184721 9631972    \n",
       "3 Gary Johnson    CA     308392 9631972    \n",
       "4 Jill Stein      CA     166311 9631972    \n",
       "5 Gloria La Riva  CA      41265 9631972    "
      ]
     },
     "metadata": {},
     "output_type": "display_data"
    }
   ],
   "source": [
    "# example: first and last name are separated\n",
    "table5\n",
    "unite(table5,\n",
    "      col = candidate,     # this column shoul contain the values of ...\n",
    "      name,                # ... this column ...\n",
    "      surname,             # ... and this column ...\n",
    "      sep = \" \")           # ... with this separator between the combined values"
   ]
  },
  {
   "cell_type": "markdown",
   "id": "bb16f3a7",
   "metadata": {},
   "source": [
    "### 5. Advanced: Columns Containing Sets of Values\n",
    "\n",
    "Sets of values are contained in one column, i.e. a string containing multpile informations from a survey."
   ]
  },
  {
   "cell_type": "code",
   "execution_count": 10,
   "id": "34b26ac5",
   "metadata": {
    "scrolled": false
   },
   "outputs": [
    {
     "data": {
      "text/html": [
       "<table>\n",
       "<thead><tr><th scope=col>LanguageRecommendationSelect</th><th scope=col>LearningPlatformSelect</th><th scope=col>PastJobTitlesSelect</th></tr></thead>\n",
       "<tbody>\n",
       "\t<tr><td>F#                                                                                                                                                                        </td><td>College/University,Conferences,Podcasts,Trade book                                                                                                                        </td><td>Predictive Modeler,Programmer,Researcher                                                                                                                                  </td></tr>\n",
       "\t<tr><td>Python                                                                                                                                                                    </td><td>Kaggle                                                                                                                                                                    </td><td>Software Developer/Software Engineer                                                                                                                                      </td></tr>\n",
       "\t<tr><td>R                                                                                                                                                                         </td><td>Arxiv,College/University,Kaggle,Online courses,YouTube Videos                                                                                                             </td><td>Data Scientist,Machine Learning Engineer                                                                                                                                  </td></tr>\n",
       "\t<tr><td>Python                                                                                                                                                                    </td><td>Blogs,College/University,Conferences,Friends network,Official documentation,Online courses,Personal Projects                                                              </td><td>Business Analyst,Operations Research Practitioner,Predictive Modeler,Programmer,Other                                                                                     </td></tr>\n",
       "\t<tr><td>Python                                                                                                                                                                    </td><td>Arxiv,Conferences,Kaggle,Textbook                                                                                                                                         </td><td>Computer Scientist,Data Analyst,Data Miner,Data Scientist,Engineer,Machine Learning Engineer,Predictive Modeler,Programmer,Researcher,Software Developer/Software Engineer</td></tr>\n",
       "\t<tr><td>Python                                                                                                                                                                                                            </td><td><span style=white-space:pre-wrap>Kaggle,Online courses,Stack Overflow Q&amp;A,Textbook                                                           </span>                                                          </td><td><span style=white-space:pre-wrap>Data Analyst,Engineer,Researcher,Other                                                                                                                                    </span></td></tr>\n",
       "</tbody>\n",
       "</table>\n"
      ],
      "text/latex": [
       "\\begin{tabular}{r|lll}\n",
       " LanguageRecommendationSelect & LearningPlatformSelect & PastJobTitlesSelect\\\\\n",
       "\\hline\n",
       "\t F\\#                                                                                                                                                                       & College/University,Conferences,Podcasts,Trade book                                                                                                                         & Predictive Modeler,Programmer,Researcher                                                                                                                                  \\\\\n",
       "\t Python                                                                                                                                                                     & Kaggle                                                                                                                                                                     & Software Developer/Software Engineer                                                                                                                                      \\\\\n",
       "\t R                                                                                                                                                                          & Arxiv,College/University,Kaggle,Online courses,YouTube Videos                                                                                                              & Data Scientist,Machine Learning Engineer                                                                                                                                  \\\\\n",
       "\t Python                                                                                                                                                                     & Blogs,College/University,Conferences,Friends network,Official documentation,Online courses,Personal Projects                                                               & Business Analyst,Operations Research Practitioner,Predictive Modeler,Programmer,Other                                                                                     \\\\\n",
       "\t Python                                                                                                                                                                     & Arxiv,Conferences,Kaggle,Textbook                                                                                                                                          & Computer Scientist,Data Analyst,Data Miner,Data Scientist,Engineer,Machine Learning Engineer,Predictive Modeler,Programmer,Researcher,Software Developer/Software Engineer\\\\\n",
       "\t Python                                                                                                                                                                     & Kaggle,Online courses,Stack Overflow Q\\&A,Textbook                                                                                                                        & Data Analyst,Engineer,Researcher,Other                                                                                                                                    \\\\\n",
       "\\end{tabular}\n"
      ],
      "text/markdown": [
       "\n",
       "| LanguageRecommendationSelect | LearningPlatformSelect | PastJobTitlesSelect |\n",
       "|---|---|---|\n",
       "| F#                                                                                                                                                                         | College/University,Conferences,Podcasts,Trade book                                                                                                                         | Predictive Modeler,Programmer,Researcher                                                                                                                                   |\n",
       "| Python                                                                                                                                                                     | Kaggle                                                                                                                                                                     | Software Developer/Software Engineer                                                                                                                                       |\n",
       "| R                                                                                                                                                                          | Arxiv,College/University,Kaggle,Online courses,YouTube Videos                                                                                                              | Data Scientist,Machine Learning Engineer                                                                                                                                   |\n",
       "| Python                                                                                                                                                                     | Blogs,College/University,Conferences,Friends network,Official documentation,Online courses,Personal Projects                                                               | Business Analyst,Operations Research Practitioner,Predictive Modeler,Programmer,Other                                                                                      |\n",
       "| Python                                                                                                                                                                     | Arxiv,Conferences,Kaggle,Textbook                                                                                                                                          | Computer Scientist,Data Analyst,Data Miner,Data Scientist,Engineer,Machine Learning Engineer,Predictive Modeler,Programmer,Researcher,Software Developer/Software Engineer |\n",
       "| Python                                                                                                                                                                     | Kaggle,Online courses,Stack Overflow Q&A,Textbook                                                                                                                          | Data Analyst,Engineer,Researcher,Other                                                                                                                                     |\n",
       "\n"
      ],
      "text/plain": [
       "  LanguageRecommendationSelect\n",
       "1 F#                          \n",
       "2 Python                      \n",
       "3 R                           \n",
       "4 Python                      \n",
       "5 Python                      \n",
       "6 Python                      \n",
       "  LearningPlatformSelect                                                                                      \n",
       "1 College/University,Conferences,Podcasts,Trade book                                                          \n",
       "2 Kaggle                                                                                                      \n",
       "3 Arxiv,College/University,Kaggle,Online courses,YouTube Videos                                               \n",
       "4 Blogs,College/University,Conferences,Friends network,Official documentation,Online courses,Personal Projects\n",
       "5 Arxiv,Conferences,Kaggle,Textbook                                                                           \n",
       "6 Kaggle,Online courses,Stack Overflow Q&A,Textbook                                                           \n",
       "  PastJobTitlesSelect                                                                                                                                                       \n",
       "1 Predictive Modeler,Programmer,Researcher                                                                                                                                  \n",
       "2 Software Developer/Software Engineer                                                                                                                                      \n",
       "3 Data Scientist,Machine Learning Engineer                                                                                                                                  \n",
       "4 Business Analyst,Operations Research Practitioner,Predictive Modeler,Programmer,Other                                                                                     \n",
       "5 Computer Scientist,Data Analyst,Data Miner,Data Scientist,Engineer,Machine Learning Engineer,Predictive Modeler,Programmer,Researcher,Software Developer/Software Engineer\n",
       "6 Data Analyst,Engineer,Researcher,Other                                                                                                                                    "
      ]
     },
     "metadata": {},
     "output_type": "display_data"
    }
   ],
   "source": [
    "# example: answers of survey are contained in one string instead of multiple columns\n",
    "survey[, .(LanguageRecommendationSelect, LearningPlatformSelect, PastJobTitlesSelect)] %>% head()"
   ]
  },
  {
   "cell_type": "code",
   "execution_count": 11,
   "id": "50f75b17",
   "metadata": {},
   "outputs": [
    {
     "data": {
      "text/html": [
       "<table>\n",
       "<thead><tr><th scope=col>individual</th><th scope=col>value</th></tr></thead>\n",
       "<tbody>\n",
       "\t<tr><td>1                 </td><td>College/University</td></tr>\n",
       "\t<tr><td>1                 </td><td>Conferences       </td></tr>\n",
       "\t<tr><td>1                 </td><td>Podcasts          </td></tr>\n",
       "\t<tr><td>1                 </td><td>Trade book        </td></tr>\n",
       "\t<tr><td>2                 </td><td>Kaggle            </td></tr>\n",
       "</tbody>\n",
       "</table>\n"
      ],
      "text/latex": [
       "\\begin{tabular}{r|ll}\n",
       " individual & value\\\\\n",
       "\\hline\n",
       "\t 1                  & College/University\\\\\n",
       "\t 1                  & Conferences       \\\\\n",
       "\t 1                  & Podcasts          \\\\\n",
       "\t 1                  & Trade book        \\\\\n",
       "\t 2                  & Kaggle            \\\\\n",
       "\\end{tabular}\n"
      ],
      "text/markdown": [
       "\n",
       "| individual | value |\n",
       "|---|---|\n",
       "| 1                  | College/University |\n",
       "| 1                  | Conferences        |\n",
       "| 1                  | Podcasts           |\n",
       "| 1                  | Trade book         |\n",
       "| 2                  | Kaggle             |\n",
       "\n"
      ],
      "text/plain": [
       "  individual value             \n",
       "1 1          College/University\n",
       "2 1          Conferences       \n",
       "3 1          Podcasts          \n",
       "4 1          Trade book        \n",
       "5 2          Kaggle            "
      ]
     },
     "metadata": {},
     "output_type": "display_data"
    }
   ],
   "source": [
    "# example of how this data can be transformed into a tidy format\n",
    "survey_split <- survey[,tstrsplit(LearningPlatformSelect, ',')]\n",
    "survey_split[, individual := 1:nrow(survey)]\n",
    "LearningPlatformMelt <- melt(survey_split, \n",
    "                             id.vars = 'individual',\n",
    "                             na.rm = TRUE)[, variable := NULL]\n",
    "\n",
    "LearningPlatformMelt[order(individual)] %>% head(n=5)"
   ]
  },
  {
   "cell_type": "code",
   "execution_count": 12,
   "id": "4f95da2e",
   "metadata": {},
   "outputs": [],
   "source": [
    "# --------------------"
   ]
  },
  {
   "cell_type": "markdown",
   "id": "d4843353",
   "metadata": {},
   "source": [
    "## Concatenating Tables\n",
    "\n",
    "Concatenate tables with the same format, useful if for example new data (either in table or list format) is generated each day and should be combined to analyse multiple days."
   ]
  },
  {
   "cell_type": "code",
   "execution_count": 13,
   "id": "7f9806cd",
   "metadata": {},
   "outputs": [
    {
     "data": {
      "text/html": [
       "<dl>\n",
       "\t<dt>$covid_cases_01_03_2020.csv</dt>\n",
       "\t\t<dd><table>\n",
       "<thead><tr><th scope=col>cases</th><th scope=col>deaths</th><th scope=col>countriesAndTerritories</th><th scope=col>geoId</th><th scope=col>countryterritoryCode</th><th scope=col>popData2019</th><th scope=col>continentExp</th><th scope=col>Cumulative_number_for_14_days_of_COVID-19_cases_per_100000</th></tr></thead>\n",
       "<tbody>\n",
       "\t<tr><td> 54      </td><td>0        </td><td>Germany  </td><td>DE       </td><td>DEU      </td><td>83019213 </td><td>Europe   </td><td>0.1156359</td></tr>\n",
       "\t<tr><td>240      </td><td>8        </td><td>Italy    </td><td>IT       </td><td>ITA      </td><td>60359546 </td><td>Europe   </td><td>1.8638311</td></tr>\n",
       "</tbody>\n",
       "</table>\n",
       "</dd>\n",
       "\t<dt>$covid_cases_02_03_2020.csv</dt>\n",
       "\t\t<dd><table>\n",
       "<thead><tr><th scope=col>cases</th><th scope=col>deaths</th><th scope=col>countriesAndTerritories</th><th scope=col>geoId</th><th scope=col>countryterritoryCode</th><th scope=col>popData2019</th><th scope=col>continentExp</th><th scope=col>Cumulative_number_for_14_days_of_COVID-19_cases_per_100000</th></tr></thead>\n",
       "<tbody>\n",
       "\t<tr><td> 18      </td><td>0        </td><td>Germany  </td><td>DE       </td><td>DEU      </td><td>83019213 </td><td>Europe   </td><td>0.1373176</td></tr>\n",
       "\t<tr><td>561      </td><td>6        </td><td>Italy    </td><td>IT       </td><td>ITA      </td><td>60359546 </td><td>Europe   </td><td>2.7932616</td></tr>\n",
       "</tbody>\n",
       "</table>\n",
       "</dd>\n",
       "\t<dt>$covid_cases_03_03_2020.csv</dt>\n",
       "\t\t<dd><table>\n",
       "<thead><tr><th scope=col>cases</th><th scope=col>deaths</th><th scope=col>countriesAndTerritories</th><th scope=col>geoId</th><th scope=col>countryterritoryCode</th><th scope=col>popData2019</th><th scope=col>continentExp</th><th scope=col>Cumulative_number_for_14_days_of_COVID-19_cases_per_100000</th></tr></thead>\n",
       "<tbody>\n",
       "\t<tr><td> 28      </td><td> 0       </td><td>Germany  </td><td>DE       </td><td>DEU      </td><td>83019213 </td><td>Europe   </td><td>0.1710447</td></tr>\n",
       "\t<tr><td>347      </td><td>17       </td><td>Italy    </td><td>IT       </td><td>ITA      </td><td>60359546 </td><td>Europe   </td><td>3.3681499</td></tr>\n",
       "</tbody>\n",
       "</table>\n",
       "</dd>\n",
       "</dl>\n"
      ],
      "text/latex": [
       "\\begin{description}\n",
       "\\item[\\$covid\\_cases\\_01\\_03\\_2020.csv] \\begin{tabular}{r|llllllll}\n",
       " cases & deaths & countriesAndTerritories & geoId & countryterritoryCode & popData2019 & continentExp & Cumulative\\_number\\_for\\_14\\_days\\_of\\_COVID-19\\_cases\\_per\\_100000\\\\\n",
       "\\hline\n",
       "\t  54       & 0         & Germany   & DE        & DEU       & 83019213  & Europe    & 0.1156359\\\\\n",
       "\t 240       & 8         & Italy     & IT        & ITA       & 60359546  & Europe    & 1.8638311\\\\\n",
       "\\end{tabular}\n",
       "\n",
       "\\item[\\$covid\\_cases\\_02\\_03\\_2020.csv] \\begin{tabular}{r|llllllll}\n",
       " cases & deaths & countriesAndTerritories & geoId & countryterritoryCode & popData2019 & continentExp & Cumulative\\_number\\_for\\_14\\_days\\_of\\_COVID-19\\_cases\\_per\\_100000\\\\\n",
       "\\hline\n",
       "\t  18       & 0         & Germany   & DE        & DEU       & 83019213  & Europe    & 0.1373176\\\\\n",
       "\t 561       & 6         & Italy     & IT        & ITA       & 60359546  & Europe    & 2.7932616\\\\\n",
       "\\end{tabular}\n",
       "\n",
       "\\item[\\$covid\\_cases\\_03\\_03\\_2020.csv] \\begin{tabular}{r|llllllll}\n",
       " cases & deaths & countriesAndTerritories & geoId & countryterritoryCode & popData2019 & continentExp & Cumulative\\_number\\_for\\_14\\_days\\_of\\_COVID-19\\_cases\\_per\\_100000\\\\\n",
       "\\hline\n",
       "\t  28       &  0        & Germany   & DE        & DEU       & 83019213  & Europe    & 0.1710447\\\\\n",
       "\t 347       & 17        & Italy     & IT        & ITA       & 60359546  & Europe    & 3.3681499\\\\\n",
       "\\end{tabular}\n",
       "\n",
       "\\end{description}\n"
      ],
      "text/markdown": [
       "$covid_cases_01_03_2020.csv\n",
       ":   \n",
       "| cases | deaths | countriesAndTerritories | geoId | countryterritoryCode | popData2019 | continentExp | Cumulative_number_for_14_days_of_COVID-19_cases_per_100000 |\n",
       "|---|---|---|---|---|---|---|---|\n",
       "|  54       | 0         | Germany   | DE        | DEU       | 83019213  | Europe    | 0.1156359 |\n",
       "| 240       | 8         | Italy     | IT        | ITA       | 60359546  | Europe    | 1.8638311 |\n",
       "\n",
       "\n",
       "$covid_cases_02_03_2020.csv\n",
       ":   \n",
       "| cases | deaths | countriesAndTerritories | geoId | countryterritoryCode | popData2019 | continentExp | Cumulative_number_for_14_days_of_COVID-19_cases_per_100000 |\n",
       "|---|---|---|---|---|---|---|---|\n",
       "|  18       | 0         | Germany   | DE        | DEU       | 83019213  | Europe    | 0.1373176 |\n",
       "| 561       | 6         | Italy     | IT        | ITA       | 60359546  | Europe    | 2.7932616 |\n",
       "\n",
       "\n",
       "$covid_cases_03_03_2020.csv\n",
       ":   \n",
       "| cases | deaths | countriesAndTerritories | geoId | countryterritoryCode | popData2019 | continentExp | Cumulative_number_for_14_days_of_COVID-19_cases_per_100000 |\n",
       "|---|---|---|---|---|---|---|---|\n",
       "|  28       |  0        | Germany   | DE        | DEU       | 83019213  | Europe    | 0.1710447 |\n",
       "| 347       | 17        | Italy     | IT        | ITA       | 60359546  | Europe    | 3.3681499 |\n",
       "\n",
       "\n",
       "\n",
       "\n"
      ],
      "text/plain": [
       "$covid_cases_01_03_2020.csv\n",
       "   cases deaths countriesAndTerritories geoId countryterritoryCode popData2019\n",
       "1:    54      0                 Germany    DE                  DEU    83019213\n",
       "2:   240      8                   Italy    IT                  ITA    60359546\n",
       "   continentExp Cumulative_number_for_14_days_of_COVID-19_cases_per_100000\n",
       "1:       Europe                                                  0.1156359\n",
       "2:       Europe                                                  1.8638311\n",
       "\n",
       "$covid_cases_02_03_2020.csv\n",
       "   cases deaths countriesAndTerritories geoId countryterritoryCode popData2019\n",
       "1:    18      0                 Germany    DE                  DEU    83019213\n",
       "2:   561      6                   Italy    IT                  ITA    60359546\n",
       "   continentExp Cumulative_number_for_14_days_of_COVID-19_cases_per_100000\n",
       "1:       Europe                                                  0.1373176\n",
       "2:       Europe                                                  2.7932616\n",
       "\n",
       "$covid_cases_03_03_2020.csv\n",
       "   cases deaths countriesAndTerritories geoId countryterritoryCode popData2019\n",
       "1:    28      0                 Germany    DE                  DEU    83019213\n",
       "2:   347     17                   Italy    IT                  ITA    60359546\n",
       "   continentExp Cumulative_number_for_14_days_of_COVID-19_cases_per_100000\n",
       "1:       Europe                                                  0.1710447\n",
       "2:       Europe                                                  3.3681499\n"
      ]
     },
     "metadata": {},
     "output_type": "display_data"
    }
   ],
   "source": [
    "# example: new data is generated daily and should be combine to one data frame\n",
    "# first step: load all tables\n",
    "\n",
    "# produce character vector of filenames/directories in given path/directory\n",
    "files <- list.files(file.path(file_path, \"cov_concatenate\"), full.names = TRUE)\n",
    "\n",
    "names(files) <- basename(files)     # name list elements by filenames\n",
    "tables <- lapply(files, fread)      # load all files as `data.table`s\n",
    "head(tables, 3)"
   ]
  },
  {
   "cell_type": "code",
   "execution_count": 14,
   "id": "b717e4c1",
   "metadata": {},
   "outputs": [
    {
     "data": {
      "text/html": [
       "<table>\n",
       "<thead><tr><th scope=col>filepath</th><th scope=col>cases</th><th scope=col>deaths</th><th scope=col>countriesAndTerritories</th><th scope=col>geoId</th><th scope=col>countryterritoryCode</th><th scope=col>popData2019</th><th scope=col>continentExp</th><th scope=col>Cumulative_number_for_14_days_of_COVID-19_cases_per_100000</th></tr></thead>\n",
       "<tbody>\n",
       "\t<tr><td>covid_cases_01_03_2020.csv</td><td> 54                       </td><td> 0                        </td><td>Germany                   </td><td>DE                        </td><td>DEU                       </td><td>83019213                  </td><td>Europe                    </td><td>0.1156359                 </td></tr>\n",
       "\t<tr><td>covid_cases_01_03_2020.csv</td><td>240                       </td><td> 8                        </td><td>Italy                     </td><td>IT                        </td><td>ITA                       </td><td>60359546                  </td><td>Europe                    </td><td>1.8638311                 </td></tr>\n",
       "\t<tr><td>covid_cases_02_03_2020.csv</td><td> 18                       </td><td> 0                        </td><td>Germany                   </td><td>DE                        </td><td>DEU                       </td><td>83019213                  </td><td>Europe                    </td><td>0.1373176                 </td></tr>\n",
       "\t<tr><td>covid_cases_02_03_2020.csv</td><td>561                       </td><td> 6                        </td><td>Italy                     </td><td>IT                        </td><td>ITA                       </td><td>60359546                  </td><td>Europe                    </td><td>2.7932616                 </td></tr>\n",
       "\t<tr><td>covid_cases_03_03_2020.csv</td><td> 28                       </td><td> 0                        </td><td>Germany                   </td><td>DE                        </td><td>DEU                       </td><td>83019213                  </td><td>Europe                    </td><td>0.1710447                 </td></tr>\n",
       "\t<tr><td>covid_cases_03_03_2020.csv</td><td>347                       </td><td>17                        </td><td>Italy                     </td><td>IT                        </td><td>ITA                       </td><td>60359546                  </td><td>Europe                    </td><td>3.3681499                 </td></tr>\n",
       "</tbody>\n",
       "</table>\n"
      ],
      "text/latex": [
       "\\begin{tabular}{r|lllllllll}\n",
       " filepath & cases & deaths & countriesAndTerritories & geoId & countryterritoryCode & popData2019 & continentExp & Cumulative\\_number\\_for\\_14\\_days\\_of\\_COVID-19\\_cases\\_per\\_100000\\\\\n",
       "\\hline\n",
       "\t covid\\_cases\\_01\\_03\\_2020.csv &  54                                &  0                                 & Germany                            & DE                                 & DEU                                & 83019213                           & Europe                             & 0.1156359                         \\\\\n",
       "\t covid\\_cases\\_01\\_03\\_2020.csv & 240                                &  8                                 & Italy                              & IT                                 & ITA                                & 60359546                           & Europe                             & 1.8638311                         \\\\\n",
       "\t covid\\_cases\\_02\\_03\\_2020.csv &  18                                &  0                                 & Germany                            & DE                                 & DEU                                & 83019213                           & Europe                             & 0.1373176                         \\\\\n",
       "\t covid\\_cases\\_02\\_03\\_2020.csv & 561                                &  6                                 & Italy                              & IT                                 & ITA                                & 60359546                           & Europe                             & 2.7932616                         \\\\\n",
       "\t covid\\_cases\\_03\\_03\\_2020.csv &  28                                &  0                                 & Germany                            & DE                                 & DEU                                & 83019213                           & Europe                             & 0.1710447                         \\\\\n",
       "\t covid\\_cases\\_03\\_03\\_2020.csv & 347                                & 17                                 & Italy                              & IT                                 & ITA                                & 60359546                           & Europe                             & 3.3681499                         \\\\\n",
       "\\end{tabular}\n"
      ],
      "text/markdown": [
       "\n",
       "| filepath | cases | deaths | countriesAndTerritories | geoId | countryterritoryCode | popData2019 | continentExp | Cumulative_number_for_14_days_of_COVID-19_cases_per_100000 |\n",
       "|---|---|---|---|---|---|---|---|---|\n",
       "| covid_cases_01_03_2020.csv |  54                        |  0                         | Germany                    | DE                         | DEU                        | 83019213                   | Europe                     | 0.1156359                  |\n",
       "| covid_cases_01_03_2020.csv | 240                        |  8                         | Italy                      | IT                         | ITA                        | 60359546                   | Europe                     | 1.8638311                  |\n",
       "| covid_cases_02_03_2020.csv |  18                        |  0                         | Germany                    | DE                         | DEU                        | 83019213                   | Europe                     | 0.1373176                  |\n",
       "| covid_cases_02_03_2020.csv | 561                        |  6                         | Italy                      | IT                         | ITA                        | 60359546                   | Europe                     | 2.7932616                  |\n",
       "| covid_cases_03_03_2020.csv |  28                        |  0                         | Germany                    | DE                         | DEU                        | 83019213                   | Europe                     | 0.1710447                  |\n",
       "| covid_cases_03_03_2020.csv | 347                        | 17                         | Italy                      | IT                         | ITA                        | 60359546                   | Europe                     | 3.3681499                  |\n",
       "\n"
      ],
      "text/plain": [
       "  filepath                   cases deaths countriesAndTerritories geoId\n",
       "1 covid_cases_01_03_2020.csv  54    0     Germany                 DE   \n",
       "2 covid_cases_01_03_2020.csv 240    8     Italy                   IT   \n",
       "3 covid_cases_02_03_2020.csv  18    0     Germany                 DE   \n",
       "4 covid_cases_02_03_2020.csv 561    6     Italy                   IT   \n",
       "5 covid_cases_03_03_2020.csv  28    0     Germany                 DE   \n",
       "6 covid_cases_03_03_2020.csv 347   17     Italy                   IT   \n",
       "  countryterritoryCode popData2019 continentExp\n",
       "1 DEU                  83019213    Europe      \n",
       "2 ITA                  60359546    Europe      \n",
       "3 DEU                  83019213    Europe      \n",
       "4 ITA                  60359546    Europe      \n",
       "5 DEU                  83019213    Europe      \n",
       "6 ITA                  60359546    Europe      \n",
       "  Cumulative_number_for_14_days_of_COVID-19_cases_per_100000\n",
       "1 0.1156359                                                 \n",
       "2 1.8638311                                                 \n",
       "3 0.1373176                                                 \n",
       "4 2.7932616                                                 \n",
       "5 0.1710447                                                 \n",
       "6 3.3681499                                                 "
      ]
     },
     "metadata": {},
     "output_type": "display_data"
    }
   ],
   "source": [
    "# second step: combine all tables and add according filename to each row (i.e. from which file the table is)\n",
    "#               to avoind loosing any information\n",
    "dt <- rbindlist(tables, idcol = 'filepath')\n",
    "head(dt)"
   ]
  },
  {
   "cell_type": "code",
   "execution_count": 15,
   "id": "10809a58",
   "metadata": {},
   "outputs": [],
   "source": [
    "# --------------------"
   ]
  },
  {
   "cell_type": "markdown",
   "id": "a0538c78",
   "metadata": {},
   "source": [
    "## Merging Tables\n",
    "\n",
    "Similar to merging in `SQL`. Four different types of merges: Inner (default), Outer (`all`), Left (`all.x`), Right (`all.y`).\n",
    "\n",
    "Core signature:\n",
    "```{R}\n",
    "merge(\n",
    "  x, y,                                                                         # tables to merge\n",
    "  by = {colname in x and y}, by.x = {colname in x}, by.y = {colname in y},      # by which columns\n",
    "  all = {bool}, all.x = {bool}, all.y = {bool}                                  # types of merge\n",
    ")\n",
    "```"
   ]
  },
  {
   "cell_type": "code",
   "execution_count": 16,
   "id": "9b440ccb",
   "metadata": {},
   "outputs": [
    {
     "data": {
      "text/html": [
       "<table>\n",
       "<thead><tr><th scope=col>p_id</th><th scope=col>value</th></tr></thead>\n",
       "<tbody>\n",
       "\t<tr><td>G008       </td><td>-0.05456035</td></tr>\n",
       "\t<tr><td>F027       </td><td> 1.44897955</td></tr>\n",
       "\t<tr><td>L051       </td><td> 0.41691232</td></tr>\n",
       "</tbody>\n",
       "</table>\n"
      ],
      "text/latex": [
       "\\begin{tabular}{r|ll}\n",
       " p\\_id & value\\\\\n",
       "\\hline\n",
       "\t G008        & -0.05456035\\\\\n",
       "\t F027        &  1.44897955\\\\\n",
       "\t L051        &  0.41691232\\\\\n",
       "\\end{tabular}\n"
      ],
      "text/markdown": [
       "\n",
       "| p_id | value |\n",
       "|---|---|\n",
       "| G008        | -0.05456035 |\n",
       "| F027        |  1.44897955 |\n",
       "| L051        |  0.41691232 |\n",
       "\n"
      ],
      "text/plain": [
       "  p_id value      \n",
       "1 G008 -0.05456035\n",
       "2 F027  1.44897955\n",
       "3 L051  0.41691232"
      ]
     },
     "metadata": {},
     "output_type": "display_data"
    },
    {
     "data": {
      "text/html": [
       "<table>\n",
       "<thead><tr><th scope=col>p_id</th><th scope=col>country</th></tr></thead>\n",
       "<tbody>\n",
       "\t<tr><td>G008   </td><td>Germany</td></tr>\n",
       "\t<tr><td>F027   </td><td>France </td></tr>\n",
       "\t<tr><td>U093   </td><td>USA    </td></tr>\n",
       "</tbody>\n",
       "</table>\n"
      ],
      "text/latex": [
       "\\begin{tabular}{r|ll}\n",
       " p\\_id & country\\\\\n",
       "\\hline\n",
       "\t G008    & Germany\\\\\n",
       "\t F027    & France \\\\\n",
       "\t U093    & USA    \\\\\n",
       "\\end{tabular}\n"
      ],
      "text/markdown": [
       "\n",
       "| p_id | country |\n",
       "|---|---|\n",
       "| G008    | Germany |\n",
       "| F027    | France  |\n",
       "| U093    | USA     |\n",
       "\n"
      ],
      "text/plain": [
       "  p_id country\n",
       "1 G008 Germany\n",
       "2 F027 France \n",
       "3 U093 USA    "
      ]
     },
     "metadata": {},
     "output_type": "display_data"
    }
   ],
   "source": [
    "# examples for each type of merge in the following subsubsections\n",
    "dt1 <- data.table(p_id = c(\"G008\", \"F027\", \"L051\"), value = rnorm(3))\n",
    "dt2 <- data.table(p_id = c(\"G008\", \"F027\", \"U093\"), country = c(\"Germany\", \"France\", \"USA\"))\n",
    "\n",
    "dt1\n",
    "dt2"
   ]
  },
  {
   "cell_type": "markdown",
   "id": "02101c8a",
   "metadata": {},
   "source": [
    "### 1. Inner Merge\n",
    "\n",
    "Only add rows with matching values in `by` column, discard the others."
   ]
  },
  {
   "cell_type": "code",
   "execution_count": 17,
   "id": "824e90f2",
   "metadata": {},
   "outputs": [
    {
     "data": {
      "text/html": [
       "<table>\n",
       "<thead><tr><th scope=col>p_id</th><th scope=col>value</th><th scope=col>country</th></tr></thead>\n",
       "<tbody>\n",
       "\t<tr><td>F027       </td><td> 1.44897955</td><td>France     </td></tr>\n",
       "\t<tr><td>G008       </td><td>-0.05456035</td><td>Germany    </td></tr>\n",
       "</tbody>\n",
       "</table>\n"
      ],
      "text/latex": [
       "\\begin{tabular}{r|lll}\n",
       " p\\_id & value & country\\\\\n",
       "\\hline\n",
       "\t F027        &  1.44897955 & France     \\\\\n",
       "\t G008        & -0.05456035 & Germany    \\\\\n",
       "\\end{tabular}\n"
      ],
      "text/markdown": [
       "\n",
       "| p_id | value | country |\n",
       "|---|---|---|\n",
       "| F027        |  1.44897955 | France      |\n",
       "| G008        | -0.05456035 | Germany     |\n",
       "\n"
      ],
      "text/plain": [
       "  p_id value       country\n",
       "1 F027  1.44897955 France \n",
       "2 G008 -0.05456035 Germany"
      ]
     },
     "metadata": {},
     "output_type": "display_data"
    },
    {
     "data": {
      "text/html": [
       "<table>\n",
       "<thead><tr><th scope=col>p_id</th><th scope=col>value</th><th scope=col>country</th></tr></thead>\n",
       "<tbody>\n",
       "\t<tr><td>G008       </td><td>-0.05456035</td><td>Germany    </td></tr>\n",
       "\t<tr><td>F027       </td><td> 1.44897955</td><td>France     </td></tr>\n",
       "</tbody>\n",
       "</table>\n"
      ],
      "text/latex": [
       "\\begin{tabular}{r|lll}\n",
       " p\\_id & value & country\\\\\n",
       "\\hline\n",
       "\t G008        & -0.05456035 & Germany    \\\\\n",
       "\t F027        &  1.44897955 & France     \\\\\n",
       "\\end{tabular}\n"
      ],
      "text/markdown": [
       "\n",
       "| p_id | value | country |\n",
       "|---|---|---|\n",
       "| G008        | -0.05456035 | Germany     |\n",
       "| F027        |  1.44897955 | France      |\n",
       "\n"
      ],
      "text/plain": [
       "  p_id value       country\n",
       "1 G008 -0.05456035 Germany\n",
       "2 F027  1.44897955 France "
      ]
     },
     "metadata": {},
     "output_type": "display_data"
    }
   ],
   "source": [
    "merge(dt1, dt2, by = \"p_id\", all = FALSE)\n",
    "\n",
    "merge(dt1, dt2, by = \"p_id\", all = FALSE, sort = FALSE)     # use this to avoid reordering"
   ]
  },
  {
   "cell_type": "markdown",
   "id": "54ef5ca3",
   "metadata": {},
   "source": [
    "### 2. Outer Merge\n",
    "\n",
    "Return all columns from both tables, fill out missing values with `NA`."
   ]
  },
  {
   "cell_type": "code",
   "execution_count": 18,
   "id": "a0a47b02",
   "metadata": {},
   "outputs": [
    {
     "data": {
      "text/html": [
       "<table>\n",
       "<thead><tr><th scope=col>p_id</th><th scope=col>value</th><th scope=col>country</th></tr></thead>\n",
       "<tbody>\n",
       "\t<tr><td>F027       </td><td> 1.44897955</td><td>France     </td></tr>\n",
       "\t<tr><td>G008       </td><td>-0.05456035</td><td>Germany    </td></tr>\n",
       "\t<tr><td>L051       </td><td> 0.41691232</td><td>NA         </td></tr>\n",
       "\t<tr><td>U093       </td><td>         NA</td><td>USA        </td></tr>\n",
       "</tbody>\n",
       "</table>\n"
      ],
      "text/latex": [
       "\\begin{tabular}{r|lll}\n",
       " p\\_id & value & country\\\\\n",
       "\\hline\n",
       "\t F027        &  1.44897955 & France     \\\\\n",
       "\t G008        & -0.05456035 & Germany    \\\\\n",
       "\t L051        &  0.41691232 & NA         \\\\\n",
       "\t U093        &          NA & USA        \\\\\n",
       "\\end{tabular}\n"
      ],
      "text/markdown": [
       "\n",
       "| p_id | value | country |\n",
       "|---|---|---|\n",
       "| F027        |  1.44897955 | France      |\n",
       "| G008        | -0.05456035 | Germany     |\n",
       "| L051        |  0.41691232 | NA          |\n",
       "| U093        |          NA | USA         |\n",
       "\n"
      ],
      "text/plain": [
       "  p_id value       country\n",
       "1 F027  1.44897955 France \n",
       "2 G008 -0.05456035 Germany\n",
       "3 L051  0.41691232 NA     \n",
       "4 U093          NA USA    "
      ]
     },
     "metadata": {},
     "output_type": "display_data"
    }
   ],
   "source": [
    "merge(dt1, dt2, by = \"p_id\", all = TRUE)"
   ]
  },
  {
   "cell_type": "markdown",
   "id": "e9a28d72",
   "metadata": {},
   "source": [
    "### 3. Left Merge\n",
    "\n",
    "Return all columns from `x`, fill out rows with no matches in `y` with `NA`."
   ]
  },
  {
   "cell_type": "code",
   "execution_count": 19,
   "id": "fb02d6ce",
   "metadata": {},
   "outputs": [
    {
     "data": {
      "text/html": [
       "<table>\n",
       "<thead><tr><th scope=col>p_id</th><th scope=col>value</th><th scope=col>country</th></tr></thead>\n",
       "<tbody>\n",
       "\t<tr><td>F027       </td><td> 1.44897955</td><td>France     </td></tr>\n",
       "\t<tr><td>G008       </td><td>-0.05456035</td><td>Germany    </td></tr>\n",
       "\t<tr><td>L051       </td><td> 0.41691232</td><td>NA         </td></tr>\n",
       "</tbody>\n",
       "</table>\n"
      ],
      "text/latex": [
       "\\begin{tabular}{r|lll}\n",
       " p\\_id & value & country\\\\\n",
       "\\hline\n",
       "\t F027        &  1.44897955 & France     \\\\\n",
       "\t G008        & -0.05456035 & Germany    \\\\\n",
       "\t L051        &  0.41691232 & NA         \\\\\n",
       "\\end{tabular}\n"
      ],
      "text/markdown": [
       "\n",
       "| p_id | value | country |\n",
       "|---|---|---|\n",
       "| F027        |  1.44897955 | France      |\n",
       "| G008        | -0.05456035 | Germany     |\n",
       "| L051        |  0.41691232 | NA          |\n",
       "\n"
      ],
      "text/plain": [
       "  p_id value       country\n",
       "1 F027  1.44897955 France \n",
       "2 G008 -0.05456035 Germany\n",
       "3 L051  0.41691232 NA     "
      ]
     },
     "metadata": {},
     "output_type": "display_data"
    }
   ],
   "source": [
    "merge(dt1, dt2, by = \"p_id\", all.x = TRUE)"
   ]
  },
  {
   "cell_type": "markdown",
   "id": "afa91f91",
   "metadata": {},
   "source": [
    "### 4. Right Merge\n",
    "\n",
    "Return all columns from `y`, fill out rows with no matches in `x` with `NA`."
   ]
  },
  {
   "cell_type": "code",
   "execution_count": 20,
   "id": "96634330",
   "metadata": {},
   "outputs": [
    {
     "data": {
      "text/html": [
       "<table>\n",
       "<thead><tr><th scope=col>p_id</th><th scope=col>value</th><th scope=col>country</th></tr></thead>\n",
       "<tbody>\n",
       "\t<tr><td>F027       </td><td> 1.44897955</td><td>France     </td></tr>\n",
       "\t<tr><td>G008       </td><td>-0.05456035</td><td>Germany    </td></tr>\n",
       "\t<tr><td>U093       </td><td>         NA</td><td>USA        </td></tr>\n",
       "</tbody>\n",
       "</table>\n"
      ],
      "text/latex": [
       "\\begin{tabular}{r|lll}\n",
       " p\\_id & value & country\\\\\n",
       "\\hline\n",
       "\t F027        &  1.44897955 & France     \\\\\n",
       "\t G008        & -0.05456035 & Germany    \\\\\n",
       "\t U093        &          NA & USA        \\\\\n",
       "\\end{tabular}\n"
      ],
      "text/markdown": [
       "\n",
       "| p_id | value | country |\n",
       "|---|---|---|\n",
       "| F027        |  1.44897955 | France      |\n",
       "| G008        | -0.05456035 | Germany     |\n",
       "| U093        |          NA | USA         |\n",
       "\n"
      ],
      "text/plain": [
       "  p_id value       country\n",
       "1 F027  1.44897955 France \n",
       "2 G008 -0.05456035 Germany\n",
       "3 U093          NA USA    "
      ]
     },
     "metadata": {},
     "output_type": "display_data"
    }
   ],
   "source": [
    "merge(dt1, dt2, by = \"p_id\", all.y = TRUE)"
   ]
  },
  {
   "cell_type": "markdown",
   "id": "f2e9dc22",
   "metadata": {},
   "source": [
    "### 5. Merging by Several Columns\n",
    "\n",
    "Instead of just merging based on one column, multiple columns can be used.\n",
    "\n",
    "Useful if: multiple conditions have to be fulfilled to assign new values to obervation."
   ]
  },
  {
   "cell_type": "code",
   "execution_count": 21,
   "id": "ded25539",
   "metadata": {},
   "outputs": [
    {
     "data": {
      "text/html": [
       "<table>\n",
       "<thead><tr><th scope=col>firstname</th><th scope=col>lastname</th><th scope=col>x</th></tr></thead>\n",
       "<tbody>\n",
       "\t<tr><td>Alice</td><td>Coop </td><td>1    </td></tr>\n",
       "\t<tr><td>Alice</td><td>Smith</td><td>2    </td></tr>\n",
       "\t<tr><td>Bob  </td><td>Smith</td><td>3    </td></tr>\n",
       "</tbody>\n",
       "</table>\n"
      ],
      "text/latex": [
       "\\begin{tabular}{r|lll}\n",
       " firstname & lastname & x\\\\\n",
       "\\hline\n",
       "\t Alice & Coop  & 1    \\\\\n",
       "\t Alice & Smith & 2    \\\\\n",
       "\t Bob   & Smith & 3    \\\\\n",
       "\\end{tabular}\n"
      ],
      "text/markdown": [
       "\n",
       "| firstname | lastname | x |\n",
       "|---|---|---|\n",
       "| Alice | Coop  | 1     |\n",
       "| Alice | Smith | 2     |\n",
       "| Bob   | Smith | 3     |\n",
       "\n"
      ],
      "text/plain": [
       "  firstname lastname x\n",
       "1 Alice     Coop     1\n",
       "2 Alice     Smith    2\n",
       "3 Bob       Smith    3"
      ]
     },
     "metadata": {},
     "output_type": "display_data"
    },
    {
     "data": {
      "text/html": [
       "<table>\n",
       "<thead><tr><th scope=col>firstname</th><th scope=col>lastname</th><th scope=col>y</th></tr></thead>\n",
       "<tbody>\n",
       "\t<tr><td>Alice </td><td>Coop  </td><td>A     </td></tr>\n",
       "\t<tr><td>Bob   </td><td>Marley</td><td>B     </td></tr>\n",
       "\t<tr><td>Bob   </td><td>Smith </td><td>C     </td></tr>\n",
       "</tbody>\n",
       "</table>\n"
      ],
      "text/latex": [
       "\\begin{tabular}{r|lll}\n",
       " firstname & lastname & y\\\\\n",
       "\\hline\n",
       "\t Alice  & Coop   & A     \\\\\n",
       "\t Bob    & Marley & B     \\\\\n",
       "\t Bob    & Smith  & C     \\\\\n",
       "\\end{tabular}\n"
      ],
      "text/markdown": [
       "\n",
       "| firstname | lastname | y |\n",
       "|---|---|---|\n",
       "| Alice  | Coop   | A      |\n",
       "| Bob    | Marley | B      |\n",
       "| Bob    | Smith  | C      |\n",
       "\n"
      ],
      "text/plain": [
       "  firstname lastname y\n",
       "1 Alice     Coop     A\n",
       "2 Bob       Marley   B\n",
       "3 Bob       Smith    C"
      ]
     },
     "metadata": {},
     "output_type": "display_data"
    },
    {
     "data": {
      "text/html": [
       "<table>\n",
       "<thead><tr><th scope=col>firstname</th><th scope=col>lastname</th><th scope=col>x</th><th scope=col>y</th></tr></thead>\n",
       "<tbody>\n",
       "\t<tr><td>Alice</td><td>Coop </td><td>1    </td><td>A    </td></tr>\n",
       "\t<tr><td>Bob  </td><td>Smith</td><td>3    </td><td>C    </td></tr>\n",
       "</tbody>\n",
       "</table>\n"
      ],
      "text/latex": [
       "\\begin{tabular}{r|llll}\n",
       " firstname & lastname & x & y\\\\\n",
       "\\hline\n",
       "\t Alice & Coop  & 1     & A    \\\\\n",
       "\t Bob   & Smith & 3     & C    \\\\\n",
       "\\end{tabular}\n"
      ],
      "text/markdown": [
       "\n",
       "| firstname | lastname | x | y |\n",
       "|---|---|---|---|\n",
       "| Alice | Coop  | 1     | A     |\n",
       "| Bob   | Smith | 3     | C     |\n",
       "\n"
      ],
      "text/plain": [
       "  firstname lastname x y\n",
       "1 Alice     Coop     1 A\n",
       "2 Bob       Smith    3 C"
      ]
     },
     "metadata": {},
     "output_type": "display_data"
    }
   ],
   "source": [
    "# example\n",
    "dt3 <- data.table(firstname = c(\"Alice\", \"Alice\", \"Bob\"), lastname = c(\"Coop\", \"Smith\", \"Smith\"), x=1:3)\n",
    "dt4 <- data.table(firstname = c(\"Alice\", \"Bob\", \"Bob\"), lastname = c(\"Coop\", \"Marley\", \"Smith\"), y=LETTERS[1:3])\n",
    "\n",
    "dt3\n",
    "dt4\n",
    "\n",
    "merge(dt3, dt4, by=c(\"firstname\", \"lastname\"))"
   ]
  },
  {
   "cell_type": "code",
   "execution_count": 22,
   "id": "827e803e",
   "metadata": {},
   "outputs": [],
   "source": [
    "# --------------------"
   ]
  },
  {
   "cell_type": "markdown",
   "id": "720f537f",
   "metadata": {},
   "source": [
    "## Tidy Representations Are Not Unique"
   ]
  },
  {
   "cell_type": "markdown",
   "id": "c87622cd",
   "metadata": {},
   "source": [
    "### 1. Alternative tidy form of a table\n",
    "\n",
    "One table can have multiple tidy forms. Hence the chosen tidy should be carefully picked based on the further operations (i.e. one form may be better for plotting certain relationships between columns, while another form is better for computing means, etc.)."
   ]
  },
  {
   "cell_type": "markdown",
   "id": "0ac614c0",
   "metadata": {},
   "source": [
    "### 2. About Multiple Types of Observational Units in the Same Table\n",
    "\n",
    "While a table can be considered to be tidy, the columns it contains may be more useful if the table is split into multiple \"sub-tables\", for example because it contains repetitive data (e.g. due to a merge).\n",
    "\n",
    "Separated representation where each table has unique entrie is a normalized representation. Due to storage and redundancy, normalized representations should be used.\n",
    "\n",
    "Which representation is used often depends on the context. The normalized representation is better in the back-en context, while the normal representation might be better in the front-end context."
   ]
  },
  {
   "cell_type": "code",
   "execution_count": 23,
   "id": "04a7e0fb",
   "metadata": {},
   "outputs": [],
   "source": [
    "# --------------------"
   ]
  },
  {
   "cell_type": "markdown",
   "id": "053f46b7",
   "metadata": {},
   "source": [
    "##### End of Section 3!"
   ]
  }
 ],
 "metadata": {
  "@webio": {
   "lastCommId": null,
   "lastKernelId": null
  },
  "kernelspec": {
   "display_name": "R",
   "language": "R",
   "name": "ir"
  },
  "language_info": {
   "codemirror_mode": "r",
   "file_extension": ".r",
   "mimetype": "text/x-r-source",
   "name": "R",
   "pygments_lexer": "r",
   "version": "3.6.1"
  }
 },
 "nbformat": 4,
 "nbformat_minor": 5
}
