{
 "cells": [
  {
   "cell_type": "markdown",
   "id": "6cfbfb8a",
   "metadata": {},
   "source": [
    "# Section 8 - Analytical Statistical Assessment\n",
    "\n",
    "Last section: trends in data can arise by chance. Avoid wrong conclusions by using e.g. statistical hypothesis testing via permutation.\n",
    "\n",
    "This section: more analytical testing approaches, making stronger assumptions on underlying data."
   ]
  },
  {
   "cell_type": "code",
   "execution_count": 1,
   "id": "d795e92d",
   "metadata": {},
   "outputs": [
    {
     "name": "stderr",
     "output_type": "stream",
     "text": [
      "\n",
      "Attaching package: ‘magrittr’\n",
      "\n",
      "The following object is masked from ‘package:tidyr’:\n",
      "\n",
      "    extract\n",
      "\n"
     ]
    }
   ],
   "source": [
    "library(data.table)\n",
    "library(ggplot2)\n",
    "library(tidyr)\n",
    "library(magrittr)\n",
    "library(gridExtra)\n",
    "\n",
    "options(repr.plot.width = 7, repr.plot.height = 5, repr.plot.res = 100)\n",
    "\n",
    "file_path <- file.path(\"/Users\", \"donatabuozyte\", \"Downloads\", \"extdata\")"
   ]
  },
  {
   "cell_type": "code",
   "execution_count": 2,
   "id": "bcfac9bf",
   "metadata": {},
   "outputs": [],
   "source": [
    "# --------------------"
   ]
  },
  {
   "cell_type": "markdown",
   "id": "7cfde82b",
   "metadata": {},
   "source": [
    "## Motivation: Hypothesis Testing in Large Datasets\n",
    "\n",
    "In big data era: how to test association between multiple up to million data points? Many tests can lead to misleading results, as even if possibility to e.g. falsy reject null hypothesis, it will happen often when many tests are done. Hence lower, scaleable P-values (if $P \\leq \\frac{r+1}{m+1}$, then $\\frac{1}{m+1} \\leq P$) are needed for many tests. (`multiple testing problem`)"
   ]
  },
  {
   "cell_type": "code",
   "execution_count": 3,
   "id": "75d1ac9f",
   "metadata": {},
   "outputs": [],
   "source": [
    "# --------------------"
   ]
  },
  {
   "cell_type": "markdown",
   "id": "a8c8ce31",
   "metadata": {},
   "source": [
    "## Binomial Test: Testing Hypotheses for Single Binary Variable"
   ]
  },
  {
   "cell_type": "markdown",
   "id": "df95a610",
   "metadata": {},
   "source": [
    "### 1. Abstraction: Tossing Coin\n",
    "\n",
    "Experiment: test if coin is biased.\n",
    "\n",
    "Notation:\n",
    "- $n$: total number of independent, random tosses\n",
    "- $X_{i}$ (i.i.d.): value of i-th toss with 1 = head and 0 = tail\n",
    "- $\\mu = E(X_{i}) = p(X_{i} = 1)$\n",
    "\n",
    "Ingredients:\n",
    "- $H_{0}$: null hypothesis\n",
    "- $T$: test statistic\n",
    "- $p(T | H_{0})$: distribution of test statistic under null hypothesis\n",
    "\n",
    "---\n",
    "\n",
    "Choose $H_{0}: \\mu = 0.5$ (i.e. coin is fair), hence $H_{1}: \\mu \\neq 0.5$.\n",
    "Choose $T = \\sum_{i} X_{i}$ (i.e. number of heads)."
   ]
  },
  {
   "cell_type": "markdown",
   "id": "80a28b4b",
   "metadata": {},
   "source": [
    "#### 1.1 Single Coin Toss\n",
    "\n",
    "Scenario: two possible outcomes (head/tail), equally likely under null hypothesis, $T_{\\mathrm{obs}} = 1$ (i.e. toss is head).\n",
    "\n",
    "Hence: $p(T=0 | H_{0}) = p(T=1 | H_{0}) = 0.5$ and $P = 2 \\cdot \\min \\{p(T \\leq T_{\\mathrm{obs}} | H_{0}), p(T \\geq T_{\\mathrm{obs}} | H_{0})\\} = 1$ (two sided P-value as direction of bias not important).\n",
    "\n",
    "Conclusion: no sufficient evidence for rejection null hypothesis in two sided test, but $p(H_{0}) = 1$ isn't correct either."
   ]
  },
  {
   "cell_type": "markdown",
   "id": "484af532",
   "metadata": {},
   "source": [
    "#### 1.2 Tossing Coin Several Times\n",
    "\n",
    "Probability of observing $T$ head after $n$ tosses given by binomial distribution (binomial coefficient): $p(T | n, \\mu) = \\begin{pmatrix} n \\\\ T \\end{pmatrix} \\mu^{T} (1-\\mu)^{n-T}$, i.e. (number of possible events with same amount of heads) times (probability of given sequence).\n",
    "\n",
    "Hence: $p(T | n, \\mu=0.5) = \\begin{pmatrix} n \\\\ T \\end{pmatrix} 0.5^{n}$ = `dbinom(x=T, size=n, prob=0.5)`.\n",
    "\n",
    "Two sided P-value: $P = 2 \\cdot \\min \\{p(T \\leq T_{\\mathrm{obs}} | H_{0}), p(T \\geq T_{\\mathrm{obs}} | H_{0})\\} = 2 \\cdot \\min \\{\\sum_{T \\leq T_{\\mathrm{obs}}} \\begin{pmatrix} n \\\\ T \\end{pmatrix} 0.5^{n}, \\sum_{T \\geq T_{\\mathrm{obs}}} \\begin{pmatrix} n \\\\ T \\end{pmatrix} 0.5^{n}\\}$.\n",
    "\n",
    "---\n",
    "\n",
    "For example: $P = 2 \\cdot \\sum_{T \\geq 7} \\begin{pmatrix} 10 \\\\ T \\end{pmatrix} 0.5^{10} = 2 \\cdot (1 - \\sum_{T \\leq 6} \\begin{pmatrix} 10 \\\\ T \\end{pmatrix} 0.5^{10})$"
   ]
  },
  {
   "cell_type": "code",
   "execution_count": 4,
   "id": "236d39ef",
   "metadata": {},
   "outputs": [
    {
     "data": {
      "text/html": [
       "<ol class=list-inline>\n",
       "\t<li>0</li>\n",
       "\t<li>1</li>\n",
       "\t<li>1</li>\n",
       "\t<li>1</li>\n",
       "\t<li>1</li>\n",
       "\t<li>0</li>\n",
       "\t<li>1</li>\n",
       "\t<li>0</li>\n",
       "\t<li>1</li>\n",
       "\t<li>1</li>\n",
       "</ol>\n"
      ],
      "text/latex": [
       "\\begin{enumerate*}\n",
       "\\item 0\n",
       "\\item 1\n",
       "\\item 1\n",
       "\\item 1\n",
       "\\item 1\n",
       "\\item 0\n",
       "\\item 1\n",
       "\\item 0\n",
       "\\item 1\n",
       "\\item 1\n",
       "\\end{enumerate*}\n"
      ],
      "text/markdown": [
       "1. 0\n",
       "2. 1\n",
       "3. 1\n",
       "4. 1\n",
       "5. 1\n",
       "6. 0\n",
       "7. 1\n",
       "8. 0\n",
       "9. 1\n",
       "10. 1\n",
       "\n",
       "\n"
      ],
      "text/plain": [
       " [1] 0 1 1 1 1 0 1 0 1 1"
      ]
     },
     "metadata": {},
     "output_type": "display_data"
    },
    {
     "data": {
      "text/html": [
       "7"
      ],
      "text/latex": [
       "7"
      ],
      "text/markdown": [
       "7"
      ],
      "text/plain": [
       "[1] 7"
      ]
     },
     "metadata": {},
     "output_type": "display_data"
    },
    {
     "data": {
      "text/html": [
       "0.1171875"
      ],
      "text/latex": [
       "0.1171875"
      ],
      "text/markdown": [
       "0.1171875"
      ],
      "text/plain": [
       "[1] 0.1171875"
      ]
     },
     "metadata": {},
     "output_type": "display_data"
    },
    {
     "data": {
      "text/html": [
       "0.34375"
      ],
      "text/latex": [
       "0.34375"
      ],
      "text/markdown": [
       "0.34375"
      ],
      "text/plain": [
       "[1] 0.34375"
      ]
     },
     "metadata": {},
     "output_type": "display_data"
    }
   ],
   "source": [
    "# example under null hypothesis:\n",
    "set.seed(7)  \n",
    "n <- 10\n",
    "\n",
    "# assume that null hypothesis is true\n",
    "x <- sample(c(0,1), n, replace=TRUE, prob=c(0.5,0.5))     # prob = probability of each outcome\n",
    "t <- sum(x)                                               # test statistic\n",
    "x\n",
    "t\n",
    "\n",
    "dbinom(x=t, size=n, prob=0.5)                             # (n over T) times 0.5^n\n",
    "\n",
    "2*(1-pbinom(q=t-1, size=n, prob=0.5))                     # P-value\n",
    "\n",
    "# conclusion: do not reject null hypothesis"
   ]
  },
  {
   "cell_type": "markdown",
   "id": "1c409a90",
   "metadata": {},
   "source": [
    "### 2. Computing Binomial Test with R (`binom.test()`)\n",
    "\n",
    "`binom.test()` parameters: `t` =  $T_{\\mathrm{obs}}$, `n` = $n$ and `p` = $(\\mu \\;\\mathrm{under}\\; H_{0})$.\n",
    "\n",
    "Additional parameter: `alternative` $\\in$ {\"two.sided\", \"greater\", \"less\"}, i.e. either one- or two-sided test."
   ]
  },
  {
   "cell_type": "code",
   "execution_count": 5,
   "id": "6184e6d4",
   "metadata": {},
   "outputs": [
    {
     "data": {
      "text/html": [
       "0.34375"
      ],
      "text/latex": [
       "0.34375"
      ],
      "text/markdown": [
       "0.34375"
      ],
      "text/plain": [
       "[1] 0.34375"
      ]
     },
     "metadata": {},
     "output_type": "display_data"
    },
    {
     "data": {
      "text/plain": [
       "\n",
       "\tExact binomial test\n",
       "\n",
       "data:  t and n\n",
       "number of successes = 7, number of trials = 10, p-value = 0.3438\n",
       "alternative hypothesis: true probability of success is not equal to 0.5\n",
       "95 percent confidence interval:\n",
       " 0.3475471 0.9332605\n",
       "sample estimates:\n",
       "probability of success \n",
       "                   0.7 \n"
      ]
     },
     "metadata": {},
     "output_type": "display_data"
    }
   ],
   "source": [
    "# based on example above\n",
    "test <- binom.test(t, n, p = 0.5, alternative = c(\"two.sided\"))\n",
    "test$p.value\n",
    "\n",
    "test"
   ]
  },
  {
   "cell_type": "code",
   "execution_count": 6,
   "id": "10809a58",
   "metadata": {},
   "outputs": [],
   "source": [
    "# --------------------"
   ]
  },
  {
   "cell_type": "markdown",
   "id": "a0538c78",
   "metadata": {},
   "source": [
    "## Fisher’s Exact Test: Testing Association Between Two Binary Variables\n",
    "\n",
    "Suppose: try to determine whether smokers are more likely to develop severe symptoms conpared to non-smokers.\n",
    "\n",
    "Data:\n",
    "$\\begin{matrix}\n",
    "(n=110) & \\textbf{Severe} & \\textbf{Mild} \\\\\n",
    "\\textbf{Smoker} & 10 & 20 \\\\\n",
    "\\textbf{Non-smoker} & 10 & 70 \\\\\n",
    "\\end{matrix}$\n",
    "\n",
    "Observation:\n",
    "- non-smokers: $\\frac{1}{8}$ developed severe symptoms, i.e. **odds** are 1:7\n",
    "- smokers: $\\frac{1}{3}$ developed severe symptoms, i.e. **odds** are 1:2\n",
    "\n",
    "Conclusion: possible relationship between smoking and developing severe symptoms, i.e. **odds** are 3.5 times higher.\n",
    "\n",
    "Test conclusion, but not with binomial test (as inverstigating relationship between variables)."
   ]
  },
  {
   "cell_type": "markdown",
   "id": "56574382",
   "metadata": {},
   "source": [
    "### 1. Permutation Testing and Hypergeometric Distribution\n",
    "\n",
    "Null hypothesis: smoking and symptoms are independent.\n",
    "\n",
    "First: consider underlying, not aggregated data set of individual cases (tidy!)\n",
    "$\\rightarrow \\begin{matrix}\n",
    "\\textbf{Patient} & \\textbf{Smoker} & \\textbf{Symptoms}\\\\\n",
    "patient\\_1 & n & mild \\\\\n",
    "patient\\_2 & y & severe \\\\\n",
    "patient\\_3 & n & severe \\\\\n",
    "\\ldots & \\ldots & \\ldots \\\\\n",
    "\\end{matrix}$\n",
    "\n",
    "Then: simulate data under null hypothesis by permutation of one column (\"Symptoms\"). Keeps number of smokers and number of patients with severe symptoms constant.\n",
    "\n",
    "Lastly: summarize result in *contingency table*\n",
    "$\\rightarrow \\begin{matrix}\n",
    "(n=110) & \\textbf{Severe} & \\textbf{Mild} & \\textbf{Total (constant)} \\\\\n",
    "\\textbf{Smoker} & a & b & a+b \\\\\n",
    "\\textbf{Non-smoker} & c & d & c+d \\\\\n",
    "\\textbf{Total (constant)} & a+c & b+d & a+b+c+d = n \\\\\n",
    "\\end{matrix}$\n",
    "\n",
    "Distribution of $a$ under null hypothesis: $p(k=a | H_{0}) = \\frac{(a+b)!(c+d)!(a+c)!(b+d)!}{a!b!c!d!n!}$ (hypergeometric), i.e. frequency of $a$ among all possible permutations."
   ]
  },
  {
   "cell_type": "markdown",
   "id": "02101c8a",
   "metadata": {},
   "source": [
    "### 2. Fisher’s Exact Test\n",
    "\n",
    "Derive one-sided P-value based on (hypergeometric or other) distribution: $P = \\sum_{i \\geq a} p(k=i | H_{0})$ (Fisher’s exact test).\n",
    "\n",
    "Remember: underlying assumptions, i.e. margins/totals in contingency table are constant.\n",
    "\n",
    "But: assumptions often violated in practice, but Fisher’s exact test is still applied.\n",
    "\n",
    "---\n",
    "\n",
    "Alternatives: Chi-squared test (based on larger number approximations), logistic regression."
   ]
  },
  {
   "cell_type": "markdown",
   "id": "a7537535",
   "metadata": {},
   "source": [
    "### 3. Fisher’s Exact Test in R (`fisher.test()`)\n",
    "\n",
    "Input: data table, optionally an `alternative`.\n",
    "\n",
    "Output: P-value, extimate of odds ratio, confidence interval"
   ]
  },
  {
   "cell_type": "code",
   "execution_count": 7,
   "id": "a15167d1",
   "metadata": {},
   "outputs": [
    {
     "data": {
      "text/html": [
       "<strong>severe:</strong> 0.0148094506861756"
      ],
      "text/latex": [
       "\\textbf{severe:} 0.0148094506861756"
      ],
      "text/markdown": [
       "**severe:** 0.0148094506861756"
      ],
      "text/plain": [
       "    severe \n",
       "0.01480945 "
      ]
     },
     "metadata": {},
     "output_type": "display_data"
    },
    {
     "data": {
      "text/plain": [
       "\n",
       "\tFisher's Exact Test for Count Data\n",
       "\n",
       "data:  tbl\n",
       "p-value = 0.01481\n",
       "alternative hypothesis: true odds ratio is greater than 1\n",
       "95 percent confidence interval:\n",
       " 1.316358      Inf\n",
       "sample estimates:\n",
       "odds ratio \n",
       "  3.453224 \n"
      ]
     },
     "metadata": {},
     "output_type": "display_data"
    }
   ],
   "source": [
    "tbl = data.table(\n",
    "  severe = c(10, 10),\n",
    "  mild = c(20, 70)\n",
    ")\n",
    "test <- fisher.test(tbl,  alternative = \"greater\")\n",
    "\n",
    "test$p.value\n",
    "test\n",
    "\n",
    "# conclusion: reject null hypothesis"
   ]
  },
  {
   "cell_type": "code",
   "execution_count": 8,
   "id": "1ce8529f",
   "metadata": {},
   "outputs": [],
   "source": [
    "# --------------------"
   ]
  },
  {
   "cell_type": "markdown",
   "id": "c2b9e766",
   "metadata": {},
   "source": [
    "## Testing Association Between One Quantitative and One Binary Variable\n",
    "\n",
    "Question: genotype at marker 5211 significantly associated with growth rates in Maltose media?\n",
    "\n",
    "So far: yeast strains which with wild isolate genotype generally grow faster than those with lab strain genotype.\n",
    "\n",
    "---\n",
    "\n",
    "Evaluation of association between binary variable (genotype at marker) and quantitative variable (growth rate in Maltose media) hence new test needed!\n",
    "\n",
    "Define groups based on binary variable: $X$ = quantitative data of first group (lab strain genotype), $Y$ = quantitative data of second group (wild isolate genotype)."
   ]
  },
  {
   "cell_type": "code",
   "execution_count": 9,
   "id": "21fb9b29",
   "metadata": {},
   "outputs": [
    {
     "name": "stderr",
     "output_type": "stream",
     "text": [
      "Warning message:\n",
      "“Removed 4 rows containing non-finite values (stat_boxplot).”"
     ]
    },
    {
     "data": {
      "image/png": "[encoded data removed]",
      "text/plain": [
       "plot without title"
      ]
     },
     "metadata": {},
     "output_type": "display_data"
    }
   ],
   "source": [
    "genotype <- fread(file.path(file_path, \"eqtl\", \"genotype.txt\"))\n",
    "genotype <- genotype %>% melt(id.vars = 'strain', variable.name = 'marker', value.name = 'genotype')\n",
    "marker <- fread(file.path(file_path, \"eqtl\", \"marker.txt\"))\n",
    "growth <- fread(file.path(file_path, \"eqtl\", \"growth.txt\"))\n",
    "growth <- growth %>% melt(id.vars = \"strain\", variable.name = 'media', value.name = 'growth_rate')\n",
    "\n",
    "mk <- marker[chrom == \"chr07\" & start == 1069229, id]\n",
    "\n",
    "dt <- merge(\n",
    "  growth[media == 'YPMalt'],\n",
    "  genotype[marker == mk, .(strain, genotype)],\n",
    "  by = 'strain'\n",
    ")\n",
    "\n",
    "p <- dt%>% \n",
    "  ggplot(., aes(genotype, growth_rate)) +\n",
    "  geom_boxplot() +\n",
    "  xlab(paste0(\"Genotype at \", mk)) + \n",
    "  ylab(\"Growth rate in Maltose [Generations/day]\")\n",
    "\n",
    "p"
   ]
  },
  {
   "cell_type": "markdown",
   "id": "58d74b19",
   "metadata": {},
   "source": [
    "### 1. The *t*-test\n",
    "\n",
    "Student's *t* test statistic: $t = c \\frac{\\bar{x} - \\bar{y}}{s}$ with\n",
    "1. means $\\bar{z} = \\frac{1}{n_{Z}} \\sum_{i} z_{i}$.\n",
    "2. pooled standard deviation $s = \\sqrt{\\frac{\\sum_{i} (x_{i} - \\bar{x})^{2} + \\sum_{j} (y_{j} - \\bar{y})^{2}}{n_{X} + n_{Y} -2}}$.\n",
    "3. constant $c = \\sqrt{\\frac{n_{X} n_{Y}}{n_{X} + n_{Y}}}$.\n",
    "\n",
    "Intuitively: *t* statistic compares (up to constant $c$) \"signal\" of group difference (e.g. estimated difference of group means) to \"noise\" (i.e. uncertainty about estimation), hence test statistic is a \"signal-to-noise\" ratio.\n",
    "\n",
    "Interpretation: large statistic (caused by e.g. more data, large between-group differences) = clear signal, small statistic = signal not large compared to noise."
   ]
  },
  {
   "cell_type": "markdown",
   "id": "d704aabd",
   "metadata": {},
   "source": [
    "#### 1.1 Student’s *t*-distribution\n",
    "\n",
    "Additional assumptions:\n",
    "1. All observations are independent of each other.\n",
    "2. X and Y are Gaussian distributions and have same (unkown) variance.\n",
    "\n",
    "Consequence: null hypothesis simplifies, i.e. $H_{0}: E(X) = E(Y)$, as only possible difference by definition is the mean. Hence test statistic *t* under null hypothesis follows Student's *t*-distribution with $\\nu = n_{X} + n_{Y} - 2$ degrees of freedom (see https://en.wikipedia.org/wiki/Student%27s_t-distribution).\n",
    "\n",
    "Observations:\n",
    "1. distribution of test statistic under null hypothesis not dependend on variance.\n",
    "2. Student's *t*-distribution has heavier tails than Gaussian as numerator of *t*-statistic normally distributed, but estimate of standard deviation in denominator is noisy.\n",
    "\n",
    "---\n",
    "\n",
    "Note: smaller sample size -> noisier estimate. Hence: smaller degrees of freedom -> heavier tails, infinite degrees of freedom -> Student's *t*-distribution = normal distribution. "
   ]
  },
  {
   "cell_type": "markdown",
   "id": "8a41c810",
   "metadata": {},
   "source": [
    "#### 1.2 Student’s *t*-distribution in R (`t.test(..., var.equal=TRUE)`)\n",
    "\n",
    "As equal variance assumed: `var.equal=TRUE`.\n",
    "\n",
    "Extraction of values for each group: `var1 ~ var2`, e.g. `growth_rate ~ genotype`.\n",
    "\n",
    "Output: *t*-statistic, degrees of freedom, confidence intervals for difference of means, P-value."
   ]
  },
  {
   "cell_type": "code",
   "execution_count": 10,
   "id": "9cdae6d9",
   "metadata": {},
   "outputs": [
    {
     "data": {
      "text/plain": [
       "\n",
       "\tTwo Sample t-test\n",
       "\n",
       "data:  growth_rate by genotype\n",
       "t = -10.77, df = 152, p-value < 2.2e-16\n",
       "alternative hypothesis: true difference in means is not equal to 0\n",
       "95 percent confidence interval:\n",
       " -2.406400 -1.660387\n",
       "sample estimates:\n",
       "  mean in group Lab strain mean in group Wild isolate \n",
       "                  5.763086                   7.796480 \n"
      ]
     },
     "metadata": {},
     "output_type": "display_data"
    }
   ],
   "source": [
    "t.test(growth_rate ~ genotype, data=dt, var.equal=TRUE)"
   ]
  },
  {
   "cell_type": "markdown",
   "id": "6e6f5d3f",
   "metadata": {},
   "source": [
    "#### 1.3 Unequal Variance (Welch’s Test) in R (`t.test()`)\n",
    "\n",
    "Case: don't assume equal variances. Slightly changes degrees of freedom."
   ]
  },
  {
   "cell_type": "code",
   "execution_count": 11,
   "id": "adbac3c3",
   "metadata": {},
   "outputs": [
    {
     "data": {
      "text/plain": [
       "\n",
       "\tWelch Two Sample t-test\n",
       "\n",
       "data:  growth_rate by genotype\n",
       "t = -10.805, df = 152, p-value < 2.2e-16\n",
       "alternative hypothesis: true difference in means is not equal to 0\n",
       "95 percent confidence interval:\n",
       " -2.405189 -1.661599\n",
       "sample estimates:\n",
       "  mean in group Lab strain mean in group Wild isolate \n",
       "                  5.763086                   7.796480 \n"
      ]
     },
     "metadata": {},
     "output_type": "display_data"
    }
   ],
   "source": [
    "t.test(growth_rate ~ genotype, data=dt)"
   ]
  },
  {
   "cell_type": "markdown",
   "id": "a661210c",
   "metadata": {},
   "source": [
    "### 2. Wilcoxon Rank-Sum Test: Alternative to t-test for Non-Gaussian Data"
   ]
  },
  {
   "cell_type": "markdown",
   "id": "f8f3babf",
   "metadata": {},
   "source": [
    "#### 2.1 Assumptions\n",
    "\n",
    "1. All observations are independent of each other.\n",
    "2. Responses are ordinal (i.e. can be ranked).\n",
    "\n",
    "Specifically: assume that under null hypothesis, probability of observation from population X exceeding observation from population Y equals to probablity of observation from Y exceeding observation from X, i.e. $H_{0}: p(X > Y) = p(Y > X)$.\n",
    "\n",
    "For two-sided test: alternative hypothesis is $H_{1}: p(X > Y) \\neq p(Y > X)$."
   ]
  },
  {
   "cell_type": "markdown",
   "id": "6239c7de",
   "metadata": {},
   "source": [
    "#### 2.2 Mann-Whitney U Statistic and Wilcoxon Rank-Sum Test\n",
    "\n",
    "Consider some ranking of all observed values.\n",
    "\n",
    "Idea of Wilcoxon rank-sum test: under null hypothesis, observed values should be well interleaved in ranking, hence test statistic is based on sum of ranks of realizations of one variable.\n",
    "\n",
    "---\n",
    "\n",
    "Mann-Whitney U statistic: $U = \\min \\{ U_{X}, U_{Y} \\}$ with $U_{Z} = R_{Z} - \\frac{n_{Z}(n_{Z}+1)}{2}$ and the sum of the ranks of the elements of set $Z$ $R_{Z}$.\n",
    "\n",
    "P-value: based on distribution of Mann-Whitney U statistic under null hypothesis.\n",
    "\n",
    "Note: $\\frac{n_{Z}(n_{Z}+1)}{2}$ is Gauss sum, i.e. if all first values are from $Z$, then $U_{Z} = 0$."
   ]
  },
  {
   "cell_type": "markdown",
   "id": "1816c5f8",
   "metadata": {},
   "source": [
    "#### 2.3 Wilcoxon Rank-Sum Test in R (`wilcox.test()`)"
   ]
  },
  {
   "cell_type": "code",
   "execution_count": 12,
   "id": "b8acb69c",
   "metadata": {},
   "outputs": [
    {
     "data": {
      "text/plain": [
       "\n",
       "\tWilcoxon rank sum test with continuity correction\n",
       "\n",
       "data:  growth_rate by genotype\n",
       "W = 690, p-value = 2.264e-16\n",
       "alternative hypothesis: true location shift is not equal to 0\n"
      ]
     },
     "metadata": {},
     "output_type": "display_data"
    }
   ],
   "source": [
    "wilcox.test(growth_rate ~ genotype, data=dt)"
   ]
  },
  {
   "cell_type": "markdown",
   "id": "ab32a47f",
   "metadata": {},
   "source": [
    "### 3. Why Bother With Wilcoxon Rank-Sum Test?\n",
    "\n",
    "Advantage: no Gaussian distribution required.\n",
    "\n",
    "---\n",
    "\n",
    "Example: groups sampled from normal distribution with different means. Add non-normal outlier to second group to ensure that overall mean looks the same.\n",
    "\n",
    "Consequence of Gaussian-assumption: null hypothesis of *t*-test is difference of means being 0. As means are the same, *t*-test cannot reject null hypothesis.\n",
    "\n",
    "Actual observation: groups quiet different, means only similar due to outlier. Hence null hypothesis is rejected in Wilcoxon rank-sum test (not based on means!).\n",
    "\n",
    "---\n",
    "\n",
    "**Summary**: Wilcoxon rank-sum test more robust (especially if distirbution unknown), but *t*-test more powerful (i.e. can detect violations of null hypothesis better) for Gaussian data."
   ]
  },
  {
   "cell_type": "code",
   "execution_count": 13,
   "id": "059259c8",
   "metadata": {},
   "outputs": [
    {
     "data": {
      "text/plain": [
       "\n",
       "\tWelch Two Sample t-test\n",
       "\n",
       "data:  x1 and x2\n",
       "t = -0.00052129, df = 99.072, p-value = 0.9996\n",
       "alternative hypothesis: true difference in means is not equal to 0\n",
       "95 percent confidence interval:\n",
       " -9.829688  9.824525\n",
       "sample estimates:\n",
       "mean of x mean of y \n",
       " 9.863451  9.866033 \n"
      ]
     },
     "metadata": {},
     "output_type": "display_data"
    },
    {
     "data": {
      "text/plain": [
       "\n",
       "\tWilcoxon rank sum test with continuity correction\n",
       "\n",
       "data:  x1 and x2\n",
       "W = 9900, p-value < 2.2e-16\n",
       "alternative hypothesis: true location shift is not equal to 0\n"
      ]
     },
     "metadata": {},
     "output_type": "display_data"
    },
    {
     "data": {
      "image/png": "[encoded data removed]",
      "text/plain": [
       "plot without title"
      ]
     },
     "metadata": {},
     "output_type": "display_data"
    }
   ],
   "source": [
    "set.seed(10)\n",
    "x1 <- rnorm(100, 10)\n",
    "x2 <- c(rnorm(99, 5), 500)\n",
    "grp_tbl <- data.table(\n",
    "  group = rep(c(\"group1\", \"group2\"), each=100),\n",
    "  x = c(x1,x2)\n",
    ")\n",
    "\n",
    "t.test(x1, x2)\n",
    "wilcox.test(x1, x2)\n",
    "\n",
    "ggplot(data = grp_tbl, aes(x=x, color=group)) +\n",
    "    geom_boxplot() +\n",
    "    scale_x_log10()"
   ]
  },
  {
   "cell_type": "code",
   "execution_count": 14,
   "id": "d1b62c9e",
   "metadata": {},
   "outputs": [],
   "source": [
    "# --------------------"
   ]
  },
  {
   "cell_type": "markdown",
   "id": "2c09a86d",
   "metadata": {},
   "source": [
    "## Association between two quantitative variables\n",
    "\n",
    "Assumption: data in form of tuples, i.e. $(X,Y): (x_{1}, y_{2}), \\ldots, (x_{n}, y_{n})$.\n",
    "\n",
    "Question: does knowing one value in tuple give us information about other one?"
   ]
  },
  {
   "cell_type": "markdown",
   "id": "a318beeb",
   "metadata": {},
   "source": [
    "### 1. Pearson Correlation Test\n",
    "\n",
    "Additional assumptions:\n",
    "1. Data from bivariate Gaussian distribution.\n",
    "2. Observations are i.i.d.\n",
    "\n",
    "2. Independence of variables is equivalent to their population in Pearson correlation coefficient $\\rho_{X, Y} = 0$.\n",
    "\n",
    "# TODO: what does that mean hae"
   ]
  },
  {
   "cell_type": "markdown",
   "id": "729cf1b4",
   "metadata": {},
   "source": [
    "#### 1.1 Pearson’s Correlation Coefficient\n",
    "\n",
    "Sample estimate of population Pearson correlation coefficient: $r = \\frac{\\sum_{i} (x_{i} - \\bar{x})(y_{i} - \\bar{y})}{\\sqrt{\\sum_{i} (x_{i} - \\bar{x})^{2}} \\sqrt{\\sum_{i} (y_{i} - \\bar{y})^{2}}} \\in [-1, 1]$.\n",
    "\n",
    "Remarks:\n",
    "- invariant to affine trafos.\n",
    "- numerator: compare deviation of $x_{i}$ and $y_{i}$ to respective means.\n",
    "- numerator: term in sum positive, if $x_{i}$ and $y_{i}$ vary in same direction compared to their mean.\n",
    "- numerator (formally): proportional to sample covariance.\n",
    "- denominator: terms proportional to individual sample standard deviations of the variables.\n",
    "\n",
    "Summary: $r$ compares how much the variables vary together to product of how much they cary individually.\n",
    "\n",
    "Interpretation:\n",
    "- $r = 1$: variables perfectly linear related with positive slope.\n",
    "- $r = -1$: variables perfectly linear related with negative slope."
   ]
  },
  {
   "cell_type": "markdown",
   "id": "1bab96c0",
   "metadata": {},
   "source": [
    "#### 1.2 The Test (`cor.test(... , method=\"pearson\"`)\n",
    "\n",
    "Null hypothesis: variables are statistically independent, i.e. $H_{0}: \\rho_{(X, Y)} = 0$.\n",
    "\n",
    "Test statistic: $t = r \\cdot \\sqrt{\\frac{n-2}{1-r^{2}}}$.\n",
    "\n",
    "Remark: test statistic under null hypothesis follows Student's *t*-distribution with degrees of freedom $n-2$."
   ]
  },
  {
   "cell_type": "code",
   "execution_count": 15,
   "id": "ed4e4126",
   "metadata": {},
   "outputs": [
    {
     "data": {
      "text/plain": [
       "\n",
       "\tPearson's product-moment correlation\n",
       "\n",
       "data:  anscombe$x1 and anscombe$y1\n",
       "t = 4.2415, df = 9, p-value = 0.00217\n",
       "alternative hypothesis: true correlation is not equal to 0\n",
       "95 percent confidence interval:\n",
       " 0.4243912 0.9506933\n",
       "sample estimates:\n",
       "      cor \n",
       "0.8164205 \n"
      ]
     },
     "metadata": {},
     "output_type": "display_data"
    }
   ],
   "source": [
    "cor.test(anscombe$x1, anscombe$y1, method=\"pearson\")"
   ]
  },
  {
   "cell_type": "markdown",
   "id": "b4c698b2",
   "metadata": {},
   "source": [
    "### 2. Spearman Rank Correlation Test"
   ]
  },
  {
   "cell_type": "markdown",
   "id": "4e191bf6",
   "metadata": {},
   "source": [
    "#### 2.1 Motivation\n",
    "\n",
    "Pearson’s correlation: capture *linear* relationship between variables.\n",
    "\n",
    "Problem: if one variable is in log-scale or quadratic scale, then linear relationship is lost.\n",
    "\n",
    "Example 1: variables relate by monotonic realtionship (tangent function), but Pearson correlation is modest.\n",
    "\n",
    "Example 2: Pearson correlation large in presence to outliers which destroy relationship."
   ]
  },
  {
   "cell_type": "code",
   "execution_count": 16,
   "id": "adcd39fc",
   "metadata": {},
   "outputs": [
    {
     "data": {
      "text/html": [
       "0.564307894111359"
      ],
      "text/latex": [
       "0.564307894111359"
      ],
      "text/markdown": [
       "0.564307894111359"
      ],
      "text/plain": [
       "[1] 0.5643079"
      ]
     },
     "metadata": {},
     "output_type": "display_data"
    },
    {
     "data": {
      "image/png": "[encoded data removed]",
      "text/plain": [
       "plot without title"
      ]
     },
     "metadata": {},
     "output_type": "display_data"
    }
   ],
   "source": [
    "x_vec <- seq(-1.55,1.55,0.05)\n",
    "tan_x <- tan(x_vec)\n",
    "dt_tan <- data.table(x = x_vec, tan_x = tan_x)\n",
    "\n",
    "cor(x_vec, tan_x, method=\"pearson\")\n",
    "\n",
    "ggplot(data=dt_tan, aes(x=x, y=tan_x)) +\n",
    "    geom_point()"
   ]
  },
  {
   "cell_type": "code",
   "execution_count": 17,
   "id": "f56aab4f",
   "metadata": {},
   "outputs": [
    {
     "data": {
      "text/plain": [
       "\n",
       "\tPearson's product-moment correlation\n",
       "\n",
       "data:  anscombe$x4 and anscombe$y4\n",
       "t = 4.243, df = 9, p-value = 0.002165\n",
       "alternative hypothesis: true correlation is not equal to 0\n",
       "95 percent confidence interval:\n",
       " 0.4246394 0.9507224\n",
       "sample estimates:\n",
       "      cor \n",
       "0.8165214 \n"
      ]
     },
     "metadata": {},
     "output_type": "display_data"
    }
   ],
   "source": [
    "cor.test(anscombe$x4, anscombe$y4, method=\"pearson\")\n",
    "\n",
    "# conclusion: significant statistical association, but only driven by one outlier."
   ]
  },
  {
   "cell_type": "markdown",
   "id": "077f0658",
   "metadata": {},
   "source": [
    "#### 2.2 Spearman’s Correlation Coefficient (`cor(... , method=\"spearman\")`)\n",
    "\n",
    "Spearman’s correlation addresses mentioned issues by computing correlation on rank-transformed values (instead of on original scale).\n",
    "\n",
    "---\n",
    "\n",
    "Rank such that: $z_{i} < z_{j} < \\ldots$.\n",
    "\n",
    "Then compute position of each data point in ranking to get transformed dataset: $\\mathrm{rank}_{X}X, \\mathrm{rank}_{Y}Y = (\\mathrm{rank}_{X}(x_{1}), \\mathrm{rank}_{Y}(y_{1})), \\ldots, (\\mathrm{rank}_{X}(x_{n}), \\mathrm{rank}_{Y}(y_{n}))$."
   ]
  },
  {
   "cell_type": "code",
   "execution_count": 18,
   "id": "70735394",
   "metadata": {},
   "outputs": [
    {
     "data": {
      "text/html": [
       "0.5"
      ],
      "text/latex": [
       "0.5"
      ],
      "text/markdown": [
       "0.5"
      ],
      "text/plain": [
       "[1] 0.5"
      ]
     },
     "metadata": {},
     "output_type": "display_data"
    },
    {
     "data": {
      "text/html": [
       "0.5"
      ],
      "text/latex": [
       "0.5"
      ],
      "text/markdown": [
       "0.5"
      ],
      "text/plain": [
       "[1] 0.5"
      ]
     },
     "metadata": {},
     "output_type": "display_data"
    }
   ],
   "source": [
    "cor(rank(anscombe$x4), rank(anscombe$y4), method=\"pearson\")\n",
    "\n",
    "cor(anscombe$x4, anscombe$y4, method=\"spearman\")"
   ]
  },
  {
   "cell_type": "markdown",
   "id": "ae2634fa",
   "metadata": {},
   "source": [
    "#### 2.3 The Test\n",
    "\n",
    "Define relationship between two variables based on Spearman’s correlation.\n",
    "\n",
    "No distributional assumptions.\n",
    "\n",
    "Null hypothesis: population rank-correlation is 0.\n",
    "\n",
    "---\n",
    "\n",
    "Remark: Spearman test less powerful than Pearson when data Gaussian, but more robust to outliers, captures monotonic, yet non-linear, relationships. Hence often used."
   ]
  },
  {
   "cell_type": "code",
   "execution_count": 19,
   "id": "c160f273",
   "metadata": {},
   "outputs": [
    {
     "name": "stderr",
     "output_type": "stream",
     "text": [
      "Warning message in cor.test.default(anscombe$x4, anscombe$y4, method = \"spearman\"):\n",
      "“Cannot compute exact p-value with ties”"
     ]
    },
    {
     "data": {
      "text/plain": [
       "\n",
       "\tSpearman's rank correlation rho\n",
       "\n",
       "data:  anscombe$x4 and anscombe$y4\n",
       "S = 110, p-value = 0.1173\n",
       "alternative hypothesis: true rho is not equal to 0\n",
       "sample estimates:\n",
       "rho \n",
       "0.5 \n"
      ]
     },
     "metadata": {},
     "output_type": "display_data"
    }
   ],
   "source": [
    "# Remark: implementation based on tabulated exact permutations for small sample sizes\n",
    "#         and approximations for larger sample sizes.\n",
    "\n",
    "cor.test(anscombe$x4, anscombe$y4, method=\"spearman\")\n",
    "\n",
    "# conclusion: do not reject null hypothesis."
   ]
  },
  {
   "cell_type": "code",
   "execution_count": 20,
   "id": "8d0a715e",
   "metadata": {},
   "outputs": [],
   "source": [
    "# --------------------"
   ]
  },
  {
   "cell_type": "markdown",
   "id": "85225105",
   "metadata": {},
   "source": [
    "## Testing Associations of Two Variables: Overview\n",
    "\n",
    "See figure 8.3 in script (https://gagneurlab.github.io/dataviz/analytical-stat.html#why-bother-with-the-wilcoxon-rank-sum-test)."
   ]
  },
  {
   "cell_type": "code",
   "execution_count": 21,
   "id": "7ca39f3e",
   "metadata": {},
   "outputs": [],
   "source": [
    "# --------------------"
   ]
  },
  {
   "cell_type": "markdown",
   "id": "6051ebb8",
   "metadata": {},
   "source": [
    "## Assessing Distributional Assumptions with Q-Q Plots\n",
    "\n",
    "Plot to check whether distributional assumptions are reasonable.\n",
    "\n",
    "Examples:\n",
    "- check uniformly distribution of P-values\n",
    "- detect outliers\n",
    "- check if data approx. normally distributed before running t-test oder testing coefficients of linear regression"
   ]
  },
  {
   "cell_type": "markdown",
   "id": "a075685c",
   "metadata": {},
   "source": [
    "### 1. Limitations of Histograms\n",
    "\n",
    "Visualize distributions: histograms.\n",
    "\n",
    "Problem: difficult to choose right bin size to check distributional assumptions."
   ]
  },
  {
   "cell_type": "code",
   "execution_count": 22,
   "id": "73debdf3",
   "metadata": {},
   "outputs": [
    {
     "name": "stderr",
     "output_type": "stream",
     "text": [
      "`stat_bin()` using `bins = 30`. Pick better value with `binwidth`.\n"
     ]
    },
    {
     "data": {
      "image/png": "[encoded data removed]",
      "text/plain": [
       "plot without title"
      ]
     },
     "metadata": {},
     "output_type": "display_data"
    }
   ],
   "source": [
    "# Example: uniformly distributed data points, but hard to see in histogram.\n",
    "\n",
    "x <- runif(50)\n",
    "# qplot is a quick plotting function\n",
    "qplot(x, geom=\"histogram\")"
   ]
  },
  {
   "cell_type": "markdown",
   "id": "0b6398f6",
   "metadata": {},
   "source": [
    "### 2. Q-Q (Quantile-Quantile) Plots: Comparing Empirical to Theoretical Quantiles (via `ppoints()`)\n",
    "\n",
    "Idea: look at quantiles. If data follows e.g. uniform distribution on interval 0 to 1, then 10% of the data shouls be in the interval 0 to 0.1, 20% of the data shouls be in the interval 0 to 0.2, ...\n",
    "\n",
    "---\n",
    "\n",
    "Remark: quiet robust against outliers, as they are clearly visible."
   ]
  },
  {
   "cell_type": "code",
   "execution_count": 23,
   "id": "8d74d089",
   "metadata": {},
   "outputs": [
    {
     "data": {
      "text/html": [
       "<dl class=dl-horizontal>\n",
       "\t<dt>0%</dt>\n",
       "\t\t<dd>0.0250368604902178</dd>\n",
       "\t<dt>10%</dt>\n",
       "\t\t<dd>0.0967763139400631</dd>\n",
       "\t<dt>20%</dt>\n",
       "\t\t<dd>0.143698916537687</dd>\n",
       "\t<dt>30%</dt>\n",
       "\t\t<dd>0.299744601990096</dd>\n",
       "\t<dt>40%</dt>\n",
       "\t\t<dd>0.366623861435801</dd>\n",
       "\t<dt>50%</dt>\n",
       "\t\t<dd>0.509535833843984</dd>\n",
       "\t<dt>60%</dt>\n",
       "\t\t<dd>0.632892589084804</dd>\n",
       "\t<dt>70%</dt>\n",
       "\t\t<dd>0.686854985961691</dd>\n",
       "\t<dt>80%</dt>\n",
       "\t\t<dd>0.856942547066137</dd>\n",
       "\t<dt>90%</dt>\n",
       "\t\t<dd>0.909483538521454</dd>\n",
       "\t<dt>100%</dt>\n",
       "\t\t<dd>0.999816360650584</dd>\n",
       "</dl>\n"
      ],
      "text/latex": [
       "\\begin{description*}\n",
       "\\item[0\\textbackslash{}\\%] 0.0250368604902178\n",
       "\\item[10\\textbackslash{}\\%] 0.0967763139400631\n",
       "\\item[20\\textbackslash{}\\%] 0.143698916537687\n",
       "\\item[30\\textbackslash{}\\%] 0.299744601990096\n",
       "\\item[40\\textbackslash{}\\%] 0.366623861435801\n",
       "\\item[50\\textbackslash{}\\%] 0.509535833843984\n",
       "\\item[60\\textbackslash{}\\%] 0.632892589084804\n",
       "\\item[70\\textbackslash{}\\%] 0.686854985961691\n",
       "\\item[80\\textbackslash{}\\%] 0.856942547066137\n",
       "\\item[90\\textbackslash{}\\%] 0.909483538521454\n",
       "\\item[100\\textbackslash{}\\%] 0.999816360650584\n",
       "\\end{description*}\n"
      ],
      "text/markdown": [
       "0%\n",
       ":   0.025036860490217810%\n",
       ":   0.096776313940063120%\n",
       ":   0.14369891653768730%\n",
       ":   0.29974460199009640%\n",
       ":   0.36662386143580150%\n",
       ":   0.50953583384398460%\n",
       ":   0.63289258908480470%\n",
       ":   0.68685498596169180%\n",
       ":   0.85694254706613790%\n",
       ":   0.909483538521454100%\n",
       ":   0.999816360650584\n",
       "\n"
      ],
      "text/plain": [
       "        0%        10%        20%        30%        40%        50%        60% \n",
       "0.02503686 0.09677631 0.14369892 0.29974460 0.36662386 0.50953583 0.63289259 \n",
       "       70%        80%        90%       100% \n",
       "0.68685499 0.85694255 0.90948354 0.99981636 "
      ]
     },
     "metadata": {},
     "output_type": "display_data"
    },
    {
     "data": {
      "image/png": "[encoded data removed]",
      "text/plain": [
       "plot without title"
      ]
     },
     "metadata": {},
     "output_type": "display_data"
    }
   ],
   "source": [
    "# example:\n",
    "\n",
    "# implicitly chose to always make jumps of 10%\n",
    "dec <- quantile(x, seq(0,1,0.1))\n",
    "dec\n",
    "\n",
    "# comparison: expected and theoretical deciles\n",
    "p1 <- ggplot(data.table(x=seq(0,1,0.1), y=dec), aes(x,y)) +\n",
    "        geom_point() +\n",
    "        xlim(c(0,1)) +\n",
    "        ylim(c(0,1))+\n",
    "        xlab(\"Deciles of the uniform distribution\") +\n",
    "        ylab(\"Deciles of the dataset\") +\n",
    "        geom_abline(intercept=0,slope=1) # diagonal y=x\n",
    "# result:match quiet well\n",
    "\n",
    "# estimate quantile for every data point for finite sample -> ppoints\n",
    "# one way: use as expected quantile (r-0.5)/N with rank r of the data point\n",
    "p2 <- ggplot(data.table(x=ppoints(length(x)), y=sort(x)), aes(x,y)) +\n",
    "        geom_point() +\n",
    "        xlim(c(0,1)) +\n",
    "        ylim(c(0,1)) +\n",
    "        xlab(\"Quantiles of the uniform distribution\") +\n",
    "        ylab(\"Quantiles of the dataset\") +\n",
    "        geom_abline(intercept=0,slope=1) # diagonal y=x\n",
    "# interpretation: points close to diagonal = distribution matches data\n",
    "\n",
    "grid.arrange(p1, p2, ncol=2, nrow=1)"
   ]
  },
  {
   "cell_type": "code",
   "execution_count": 24,
   "id": "939f4fac",
   "metadata": {},
   "outputs": [
    {
     "data": {
      "image/png": "[encoded data removed]",
      "text/plain": [
       "plot without title"
      ]
     },
     "metadata": {},
     "output_type": "display_data"
    }
   ],
   "source": [
    "# test: what if outlier is added?\n",
    "group_qq <- c(rnorm(99, 0), 100)\n",
    "qq_tbl <- data.table(sample = group_qq)\n",
    "ggplot(data = qq_tbl, aes(sample = sample)) +\n",
    "    geom_qq() +\n",
    "    stat_qq_line()\n",
    "# outlier shows up clearly as a strong deviation from what we expect from normal distribution"
   ]
  },
  {
   "cell_type": "markdown",
   "id": "3e204d27",
   "metadata": {},
   "source": [
    "### 3. Typical Q-Q Plots\n",
    "\n",
    "See https://gagneurlab.github.io/dataviz/assets/img/lec11-QQ-plots.png for the examples.\n",
    "\n",
    "Assumption: normal distribution (Gaussion with mean 0, variance 1) as reference theoretical distribution.\n",
    "\n",
    "Middle three plots show consequence of one aspect of distributional assumption being incorrect:\n",
    "- second plot: consequence of data with higher mean than expected, but otherwise follows distribution.\n",
    "- middle plot: consequence of data having fatter tails (i.e. more outliers) than expected. (occurs frequently)\n",
    "- fourth plot: consequence of narrower distribution than expected.\n",
    "\n",
    "Last plot: combination of the above phenomena, shows lack of low values and excess of high values. (Data from non-negative asymmetric distribution)"
   ]
  },
  {
   "cell_type": "code",
   "execution_count": 25,
   "id": "5b7fad9e",
   "metadata": {},
   "outputs": [],
   "source": [
    "# --------------------"
   ]
  },
  {
   "cell_type": "markdown",
   "id": "2ad316b5",
   "metadata": {},
   "source": [
    "## Analytical Confidence Intervals\n",
    "\n",
    "Reminder: confidence interval of confidence level $1-\\alpha$ for parameter $\\theta$ is an interval, which would data generation process be repeated, would contain parameter with probability $1-\\alpha$."
   ]
  },
  {
   "cell_type": "markdown",
   "id": "e52a0bab",
   "metadata": {},
   "source": [
    "### 1. Binomial Case\n",
    "\n",
    "Set-up as before:\n",
    "- $N$: total number of independent, random tosses\n",
    "- $X_{i}$ (i.i.d.): value of i-th toss with 1 = head and 0 = tail\n",
    "- $\\mu = E(X_{i}) = p(X_{i} = 1)$\n",
    "- $\\bar{X} = \\frac{1}{N} \\sum_{i} X_{i}$: sample mean, random variable\n",
    "- $\\hat{SE}(\\bar{X}) = \\sqrt{\\frac{\\bar{X}(1-\\bar{X})}{N}}$: estimated standard deviation, random variable\n",
    "\n",
    "Goal: probability of interval $[\\bar{X} - \\hat{SE}(\\bar{X}), \\bar{X} + \\hat{SE}(\\bar{X})]$ containing true prportion $\\mu$, i.e $p(\\bar{X} - \\hat{SE}(\\bar{X}) \\leq \\mu \\leq \\bar{X} + \\hat{SE}(\\bar{X})) = p(-1 \\leq \\frac{\\bar{X} - \\mu}{\\hat{SE}(\\bar{X})} \\leq 1)$."
   ]
  },
  {
   "cell_type": "markdown",
   "id": "271954a8",
   "metadata": {},
   "source": [
    "#### 1.1 Normal Approximation Interval Using Central Limit Theorem\n",
    "\n",
    "By Central Limit Theorem: sample mean distributes for large *N* as Normal distribution with mean $E(X)$, variance $Var(X)/N$, i.e. $p(\\bar{X}) = N(\\mu, \\frac{Var(X)}{N})$.\n",
    "\n",
    "As $Var(X_{i}) = \\mu(1-\\mu)$: $p(-1 \\leq \\frac{\\bar{X} - \\mu}{\\hat{SE}(\\bar{X})} \\leq 1) = p(-1 \\leq Z \\leq 1)$ where Z is normally distributed with mean 0, variance 1."
   ]
  },
  {
   "cell_type": "code",
   "execution_count": 26,
   "id": "462955f3",
   "metadata": {},
   "outputs": [
    {
     "data": {
      "text/html": [
       "0.682689492137086"
      ],
      "text/latex": [
       "0.682689492137086"
      ],
      "text/markdown": [
       "0.682689492137086"
      ],
      "text/plain": [
       "[1] 0.6826895"
      ]
     },
     "metadata": {},
     "output_type": "display_data"
    }
   ],
   "source": [
    "# computation in R:\n",
    "pnorm(1) - pnorm(-1)"
   ]
  },
  {
   "cell_type": "markdown",
   "id": "8c66e9d3",
   "metadata": {},
   "source": [
    "#### 1.2 Defining the Interval for Predefined Confidence Level\n",
    "\n",
    "If probability should be higher, e.g. 99%: find *z* s.t. $p(-z \\leq Z \\leq z)=0.99$."
   ]
  },
  {
   "cell_type": "code",
   "execution_count": 27,
   "id": "f4160425",
   "metadata": {},
   "outputs": [
    {
     "data": {
      "text/html": [
       "2.5758293035489"
      ],
      "text/latex": [
       "2.5758293035489"
      ],
      "text/markdown": [
       "2.5758293035489"
      ],
      "text/plain": [
       "[1] 2.575829"
      ]
     },
     "metadata": {},
     "output_type": "display_data"
    },
    {
     "data": {
      "text/html": [
       "0.99"
      ],
      "text/latex": [
       "0.99"
      ],
      "text/markdown": [
       "0.99"
      ],
      "text/plain": [
       "[1] 0.99"
      ]
     },
     "metadata": {},
     "output_type": "display_data"
    }
   ],
   "source": [
    "z <- qnorm(0.995)        # quantile function of normal distribution\n",
    "z\n",
    "# Valid as by definition pnorm(qnorm(0.995)) is 0.995 and by symmetry pnorm(1-qnorm(0.995)) is 1-0.995.\n",
    "# Hence 0.995 - (1-0.995) = 0.995 - 0.05 = 0.99:\n",
    "pnorm(z) - pnorm(-z)"
   ]
  },
  {
   "cell_type": "markdown",
   "id": "77d8965b",
   "metadata": {},
   "source": [
    "#### 1.3 Boundaries of Equi-Tailed 95% Confidence Interval\n",
    "\n",
    "Obtain equi-tailed confidence interval of level $1-\\alpha$ by setting `z = qnorm(1 - alpha/2)` as $(1-\\frac{\\alpha}{2}) - \\frac{\\alpha}{2} = 1 - \\alpha$.\n",
    "\n",
    "Note: can be used for any confidence level $1-\\alpha$."
   ]
  },
  {
   "cell_type": "code",
   "execution_count": 28,
   "id": "c2399d71",
   "metadata": {},
   "outputs": [
    {
     "data": {
      "text/html": [
       "1.95996398454005"
      ],
      "text/latex": [
       "1.95996398454005"
      ],
      "text/markdown": [
       "1.95996398454005"
      ],
      "text/plain": [
       "[1] 1.959964"
      ]
     },
     "metadata": {},
     "output_type": "display_data"
    }
   ],
   "source": [
    "qnorm(0.975)"
   ]
  },
  {
   "cell_type": "markdown",
   "id": "17e46391",
   "metadata": {},
   "source": [
    "### 2. Confidence Intervals in R\n",
    "\n",
    "Most statistical tests provide confidence intervals for relevant statistic.\n",
    "\n",
    "Default: 95% confidence interval. Set confidence interval with `conf.level`.\n",
    "\n",
    "Note: sometimes not provided, bun can be often computed via `conf.int=TRUE`."
   ]
  },
  {
   "cell_type": "code",
   "execution_count": 29,
   "id": "c75af55e",
   "metadata": {},
   "outputs": [
    {
     "data": {
      "text/plain": [
       "\n",
       "\tExact binomial test\n",
       "\n",
       "data:  sum(x) and length(x)\n",
       "number of successes = 421, number of trials = 1000, p-value = 6.537e-07\n",
       "alternative hypothesis: true probability of success is not equal to 0.5\n",
       "95 percent confidence interval:\n",
       " 0.3901707 0.4522958\n",
       "sample estimates:\n",
       "probability of success \n",
       "                 0.421 \n"
      ]
     },
     "metadata": {},
     "output_type": "display_data"
    },
    {
     "data": {
      "text/html": [
       "<ol class=list-inline>\n",
       "\t<li>0.390170679827437</li>\n",
       "\t<li>0.452295772347342</li>\n",
       "</ol>\n"
      ],
      "text/latex": [
       "\\begin{enumerate*}\n",
       "\\item 0.390170679827437\n",
       "\\item 0.452295772347342\n",
       "\\end{enumerate*}\n"
      ],
      "text/markdown": [
       "1. 0.390170679827437\n",
       "2. 0.452295772347342\n",
       "\n",
       "\n"
      ],
      "text/plain": [
       "[1] 0.3901707 0.4522958\n",
       "attr(,\"conf.level\")\n",
       "[1] 0.95"
      ]
     },
     "metadata": {},
     "output_type": "display_data"
    },
    {
     "data": {
      "text/html": [
       "<ol class=list-inline>\n",
       "\t<li>0.380743491924806</li>\n",
       "\t<li>0.462019160646033</li>\n",
       "</ol>\n"
      ],
      "text/latex": [
       "\\begin{enumerate*}\n",
       "\\item 0.380743491924806\n",
       "\\item 0.462019160646033\n",
       "\\end{enumerate*}\n"
      ],
      "text/markdown": [
       "1. 0.380743491924806\n",
       "2. 0.462019160646033\n",
       "\n",
       "\n"
      ],
      "text/plain": [
       "[1] 0.3807435 0.4620192\n",
       "attr(,\"conf.level\")\n",
       "[1] 0.99"
      ]
     },
     "metadata": {},
     "output_type": "display_data"
    },
    {
     "data": {
      "text/plain": [
       "\n",
       "\tWilcoxon rank sum test with continuity correction\n",
       "\n",
       "data:  growth_rate by genotype\n",
       "W = 690, p-value = 2.264e-16\n",
       "alternative hypothesis: true location shift is not equal to 0\n",
       "95 percent confidence interval:\n",
       " -2.537024 -1.753245\n",
       "sample estimates:\n",
       "difference in location \n",
       "             -2.134131 \n"
      ]
     },
     "metadata": {},
     "output_type": "display_data"
    }
   ],
   "source": [
    "# examples:\n",
    "mu <- 0.45\n",
    "N <- 1000\n",
    "x <- sample(c(0, 1), size = N, replace = TRUE, prob = c(1-mu, mu))\n",
    "binom.test(sum(x), length(x))\n",
    "\n",
    "binom.test(sum(x), length(x))$conf.int\n",
    "\n",
    "binom.test(sum(x), length(x), conf.level=0.99)$conf.int\n",
    "\n",
    "wilcox.test(growth_rate ~ genotype, data=dt, conf.int=TRUE)"
   ]
  },
  {
   "cell_type": "markdown",
   "id": "b94d4830",
   "metadata": {},
   "source": [
    "### 3. Advanced: Note on Overlapping Confidence Intervals\n",
    "\n",
    "Assume: $X \\sim N(\\mu_{X}, \\sigma^{2})$, $Y \\sim N(\\mu_{Y}, \\sigma^{2})$.\n",
    "\n",
    "If $n_{X} = n_{Y} = n$: $\\bar{x} \\sim N(\\mu_{X}, \\frac{\\sigma^{2}}{n})$, $\\bar{y} \\sim N(\\mu_{Y}, \\frac{\\sigma^{2}}{n})$.\n",
    "\n",
    "As before: $p(\\bar{x} - z \\frac{\\sigma}{\\sqrt{n}} \\leq \\mu_{X} \\leq \\bar{x} + z \\frac{\\sigma}{\\sqrt{n}}) = p(-z \\leq \\frac{\\bar{x} - \\mu_{X}}{\\frac{\\sigma}{\\sqrt{n}}} \\leq z) = p(-z \\leq Z \\leq z) = 0.95$ with $Z \\sim N(0, 1)$. Hence $z \\approx 1.96 \\approx 2$.\n",
    "\n",
    "Confidence intervals are therefore: $\\bar{x} \\pm 2 \\frac{\\sigma}{\\sqrt{n}}$, $\\bar{y} \\pm 2 \\frac{\\sigma}{\\sqrt{n}}$.\n",
    "\n",
    "---\n",
    "\n",
    "Goal: test null hypothesis that true mean difference is 0. Reject iff two confidence intervals do not overlap, i.e. when $\\bar{y} + 2 \\frac{\\sigma}{\\sqrt{n}} < \\bar{x} - 2 \\frac{\\sigma}{\\sqrt{n}} \\iff 4 \\frac{\\sigma}{\\sqrt{n}} < \\bar{x} - \\bar{y}$.\n",
    "\n",
    "Note: goal is *not* the same as constructing 95% confidence interval for difference in means and rejecting iff interval does not include 0. Difference is due to addition of standard errors.\n",
    "\n",
    "Construction of intervals for $\\bar{x} - \\bar{y}$: as $\\bar{x} - \\bar{y} \\sim N(\\mu_{X} - \\mu_{Y}, 2 \\frac{\\sigma^{2}}{n})$, the interval is $(\\bar{x} - \\bar{y}) \\pm 2 \\sqrt{2} \\frac{\\sigma}{\\sqrt{n}}$.\n",
    "\n",
    "Conclusion: reject null hypothesis when $(\\bar{x} - \\bar{y}) > 2 \\sqrt{2} \\frac{\\sigma}{\\sqrt{n}}$\n",
    "\n",
    "Note: as $2 \\sqrt{2} < 4$, this will reject more often than \"overlap\" test (which is \"too conservative\")."
   ]
  },
  {
   "cell_type": "code",
   "execution_count": 30,
   "id": "40756fdf",
   "metadata": {},
   "outputs": [],
   "source": [
    "# --------------------"
   ]
  },
  {
   "cell_type": "markdown",
   "id": "0c51d747",
   "metadata": {},
   "source": [
    "## Discussion and Conlusion\n",
    "\n",
    "Permutation-based testing is very general, but is computationally intensive and not always appropriate (e.g. when dealing with Big Data).\n",
    "\n",
    "Assumptions on the distribution of data influence the null hypothesis, which is based on the parameters, but often non-parametric tests exist and make little assumptions (e.g. Fisher, Wilcoxon rank-sum test, Spearman rank-correlation test). Prefer non-parametric if no good reason for restrictions exist.\n",
    "\n",
    "Check distributional assumptions using Q-Q plots.\n",
    "\n",
    "Always report:\n",
    "- significance assessment (P-value or confidence interval)\n",
    "- plot showing the effect assessed\n",
    "- (if relevant) Q-Q plot showing that distributional assumptions of test are met"
   ]
  },
  {
   "cell_type": "markdown",
   "id": "053f46b7",
   "metadata": {},
   "source": [
    "##### End of Section 8!"
   ]
  }
 ],
 "metadata": {
  "@webio": {
   "lastCommId": null,
   "lastKernelId": null
  },
  "kernelspec": {
   "display_name": "R",
   "language": "R",
   "name": "ir"
  },
  "language_info": {
   "codemirror_mode": "r",
   "file_extension": ".r",
   "mimetype": "text/x-r-source",
   "name": "R",
   "pygments_lexer": "r",
   "version": "3.6.1"
  }
 },
 "nbformat": 4,
 "nbformat_minor": 5
}
